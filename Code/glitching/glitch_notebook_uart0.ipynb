{
 "cells": [
  {
   "cell_type": "code",
   "execution_count": 18,
   "id": "initial_id",
   "metadata": {
    "collapsed": true
   },
   "outputs": [],
   "source": [
    "import chipwhisperer as cw\n",
    "import time\n",
    "\n",
    "# Connect to the ChipWhisperer hardware\n",
    "scope = cw.scope()\n",
    "target = cw.target(scope)\n",
    "target.baud = 9600"
   ]
  },
  {
   "cell_type": "code",
   "execution_count": 19,
   "id": "485c3b4d",
   "metadata": {},
   "outputs": [
    {
     "name": "stdout",
     "output_type": "stream",
     "text": [
      "triggers = tio4\n",
      "module   = basic\n",
      "\n"
     ]
    }
   ],
   "source": [
    "# GLITCH \n",
    "scope.glitch.clk_src = \"clkgen\"\n",
    "scope.glitch.output = \"enable_only\"\n",
    "# scope.glitch.output = \"glitch_only\"\n",
    "scope.glitch.trigger_src = \"manual\"\n",
    "scope.glitch.trigger_src = \"ext_continuous\"\n",
    "scope.glitch.repeat = 22\n",
    "scope.glitch.ext_offset = 1  \n",
    "    \n",
    "# CLOCK\n",
    "# scope.clock.clkgen_freq = 32E6 # Overclocking can make glitching better, max freq: 81Mhz\n",
    "scope.clock.clkgen_freq = 96E6\n",
    "\n",
    "# IO\n",
    "scope.io.glitch_lp = True\n",
    "scope.io.glitch_hp = True\n",
    "scope.io.tio1 = \"high_z\" # Read pin from Renesas to see if glitch worked\n",
    "scope.io.tio2 = \"serial_rx\" # Can be used to receive serial \n",
    "scope.io.tio3 = \"gpio_high\" # To /RESET pin\n",
    "scope.io.tio4 = \"high_z\"\n",
    "scope.io.hs2 = \"clkgen\" # Attach to clockinput Renesas chip EXTAL\n",
    "scope.io.hs2 = \"glitch\" # Attach to clockinput Renesas chip EXTAL\n",
    "\n",
    "# TRIGGER\n",
    "scope.trigger.triggers = \"tio4\"\n",
    "\n",
    "print(scope.trigger)\n",
    "\n",
    "def reset_mcu():\n",
    "    \"\"\"Reset the microcontroller by toggling IO3 low.\"\"\"\n",
    "    target.flush()\n",
    "    # print(\".\", end=\"\")\n",
    "    scope.io.tio3 = \"gpio_low\"  # Set IO3 as GPIO to reset the MCU\n",
    "    time.sleep(0.01)  # Wait for 10ms\n",
    "    scope.io.tio3 = \"gpio_high\"  # Set IO3 as GPIO to reset the MCU\n",
    "    # time.sleep(0.01)  # Wait for 10ms\n",
    "    \n",
    "\n",
    "\n",
    "reset_mcu()\n",
    "\n",
    "# Good settings:\n",
    "# 32Mhz / 16 repeat / 3.345V\n",
    "# 50 tries\n",
    "# successes = 18, repeat = 15\n",
    "# successes = 10, repeat = 16\n",
    "# successes = 20, repeat = 17\n",
    "\n"
   ]
  },
  {
   "cell_type": "code",
   "execution_count": 38,
   "id": "0a8f6bb7",
   "metadata": {},
   "outputs": [
    {
     "name": "stdout",
     "output_type": "stream",
     "text": [
      "\u0000\n",
      "S\n"
     ]
    },
    {
     "ename": "KeyboardInterrupt",
     "evalue": "",
     "output_type": "error",
     "traceback": [
      "\u001b[1;31m---------------------------------------------------------------------------\u001b[0m",
      "\u001b[1;31mKeyboardInterrupt\u001b[0m                         Traceback (most recent call last)",
      "Cell \u001b[1;32mIn[38], line 17\u001b[0m\n\u001b[0;32m     12\u001b[0m \u001b[38;5;28;01mwhile\u001b[39;00m \u001b[38;5;28;01mTrue\u001b[39;00m:\n\u001b[0;32m     13\u001b[0m     \u001b[38;5;66;03m# reset_mcu()\u001b[39;00m\n\u001b[0;32m     14\u001b[0m     \u001b[38;5;66;03m# time.sleep(1)\u001b[39;00m\n\u001b[0;32m     15\u001b[0m     \u001b[38;5;28;01mif\u001b[39;00m target\u001b[38;5;241m.\u001b[39min_waiting:\n\u001b[0;32m     16\u001b[0m         \u001b[38;5;66;03m#print(\"something available: \", target.in_waiting, target.read(0))\u001b[39;00m\n\u001b[1;32m---> 17\u001b[0m         data \u001b[38;5;241m=\u001b[39m \u001b[43mtarget\u001b[49m\u001b[38;5;241;43m.\u001b[39;49m\u001b[43mread\u001b[49m\u001b[43m(\u001b[49m\u001b[43m)\u001b[49m\n\u001b[0;32m     18\u001b[0m         \u001b[38;5;28;01mif\u001b[39;00m \u001b[38;5;28mlen\u001b[39m(data) \u001b[38;5;241m>\u001b[39m \u001b[38;5;241m0\u001b[39m:\n\u001b[0;32m     19\u001b[0m             \u001b[38;5;28mprint\u001b[39m(data)\n",
      "File \u001b[1;32mc:\\Users\\sveno\\PycharmProjects\\Siemens-Advanced-Operator-Panel\\venv\\lib\\site-packages\\chipwhisperer\\capture\\targets\\SimpleSerial.py:285\u001b[0m, in \u001b[0;36mSimpleSerial.read\u001b[1;34m(self, num_char, timeout)\u001b[0m\n\u001b[0;32m    283\u001b[0m \u001b[38;5;28;01mtry\u001b[39;00m:\n\u001b[0;32m    284\u001b[0m     \u001b[38;5;28;01mif\u001b[39;00m num_char \u001b[38;5;241m==\u001b[39m \u001b[38;5;241m0\u001b[39m:\n\u001b[1;32m--> 285\u001b[0m         num_char \u001b[38;5;241m=\u001b[39m \u001b[38;5;28;43mself\u001b[39;49m\u001b[38;5;241;43m.\u001b[39;49m\u001b[43mser\u001b[49m\u001b[38;5;241;43m.\u001b[39;49m\u001b[43minWaiting\u001b[49m\u001b[43m(\u001b[49m\u001b[43m)\u001b[49m\n\u001b[0;32m    286\u001b[0m     \u001b[38;5;28;01mreturn\u001b[39;00m \u001b[38;5;28mself\u001b[39m\u001b[38;5;241m.\u001b[39mser\u001b[38;5;241m.\u001b[39mread(num_char, timeout)\n\u001b[0;32m    287\u001b[0m \u001b[38;5;28;01mexcept\u001b[39;00m \u001b[38;5;167;01mException\u001b[39;00m \u001b[38;5;28;01mas\u001b[39;00m e:\n",
      "File \u001b[1;32mc:\\Users\\sveno\\PycharmProjects\\Siemens-Advanced-Operator-Panel\\venv\\lib\\site-packages\\chipwhisperer\\capture\\targets\\simpleserial_readers\\_base.py:171\u001b[0m, in \u001b[0;36mSimpleSerialTemplate.inWaiting\u001b[1;34m(self)\u001b[0m\n\u001b[0;32m    169\u001b[0m \u001b[38;5;28;01mif\u001b[39;00m bbuf \u001b[38;5;241m==\u001b[39m \u001b[38;5;28mself\u001b[39m\u001b[38;5;241m.\u001b[39mmax_queue_size:\n\u001b[0;32m    170\u001b[0m     logging\u001b[38;5;241m.\u001b[39mwarning(\u001b[38;5;124m'\u001b[39m\u001b[38;5;124mPython SimpleSerial reader buffer OVERRUN - data loss has occurred.\u001b[39m\u001b[38;5;124m'\u001b[39m)\n\u001b[1;32m--> 171\u001b[0m \u001b[38;5;28;01mreturn\u001b[39;00m \u001b[38;5;28;43mself\u001b[39;49m\u001b[38;5;241;43m.\u001b[39;49m\u001b[43mhardware_inWaiting\u001b[49m\u001b[43m(\u001b[49m\u001b[43m)\u001b[49m \u001b[38;5;241m+\u001b[39m bbuf\n",
      "File \u001b[1;32mc:\\Users\\sveno\\PycharmProjects\\Siemens-Advanced-Operator-Panel\\venv\\lib\\site-packages\\chipwhisperer\\capture\\targets\\simpleserial_readers\\cwlite.py:59\u001b[0m, in \u001b[0;36mSimpleSerial_ChipWhispererLite.hardware_inWaiting\u001b[1;34m(self)\u001b[0m\n\u001b[0;32m     58\u001b[0m \u001b[38;5;28;01mdef\u001b[39;00m \u001b[38;5;21mhardware_inWaiting\u001b[39m(\u001b[38;5;28mself\u001b[39m):\n\u001b[1;32m---> 59\u001b[0m     bwait \u001b[38;5;241m=\u001b[39m \u001b[38;5;28;43mself\u001b[39;49m\u001b[38;5;241;43m.\u001b[39;49m\u001b[43mcwlite_usart\u001b[49m\u001b[38;5;241;43m.\u001b[39;49m\u001b[43minWaiting\u001b[49m\u001b[43m(\u001b[49m\u001b[43m)\u001b[49m\n\u001b[0;32m     60\u001b[0m     \u001b[38;5;28;01mif\u001b[39;00m bwait \u001b[38;5;241m==\u001b[39m \u001b[38;5;241m127\u001b[39m:\n\u001b[0;32m     61\u001b[0m         logging\u001b[38;5;241m.\u001b[39mwarning(\u001b[38;5;124m'\u001b[39m\u001b[38;5;124mSAM3U Serial buffers OVERRUN - data loss has occurred.\u001b[39m\u001b[38;5;124m'\u001b[39m)\n",
      "File \u001b[1;32mc:\\Users\\sveno\\PycharmProjects\\Siemens-Advanced-Operator-Panel\\venv\\lib\\site-packages\\chipwhisperer\\hardware\\naeusb\\serial.py:179\u001b[0m, in \u001b[0;36mUSART.inWaiting\u001b[1;34m(self)\u001b[0m\n\u001b[0;32m    175\u001b[0m \u001b[38;5;250m\u001b[39m\u001b[38;5;124;03m\"\"\"\u001b[39;00m\n\u001b[0;32m    176\u001b[0m \u001b[38;5;124;03mGet number of bytes waiting to be read.\u001b[39;00m\n\u001b[0;32m    177\u001b[0m \u001b[38;5;124;03m\"\"\"\u001b[39;00m\n\u001b[0;32m    178\u001b[0m \u001b[38;5;66;03m# print \"Checking Waiting...\"\u001b[39;00m\n\u001b[1;32m--> 179\u001b[0m data \u001b[38;5;241m=\u001b[39m \u001b[38;5;28;43mself\u001b[39;49m\u001b[38;5;241;43m.\u001b[39;49m\u001b[43m_usartRxCmd\u001b[49m\u001b[43m(\u001b[49m\u001b[38;5;28;43mself\u001b[39;49m\u001b[38;5;241;43m.\u001b[39;49m\u001b[43mUSART_CMD_NUMWAIT\u001b[49m\u001b[43m,\u001b[49m\u001b[43m \u001b[49m\u001b[43mdlen\u001b[49m\u001b[38;5;241;43m=\u001b[39;49m\u001b[38;5;241;43m4\u001b[39;49m\u001b[43m)\u001b[49m\n\u001b[0;32m    180\u001b[0m \u001b[38;5;66;03m# print data\u001b[39;00m\n\u001b[0;32m    181\u001b[0m \u001b[38;5;28;01mreturn\u001b[39;00m data[\u001b[38;5;241m0\u001b[39m]\n",
      "File \u001b[1;32mc:\\Users\\sveno\\PycharmProjects\\Siemens-Advanced-Operator-Panel\\venv\\lib\\site-packages\\chipwhisperer\\hardware\\naeusb\\serial.py:236\u001b[0m, in \u001b[0;36mUSART._usartRxCmd\u001b[1;34m(self, cmd, dlen)\u001b[0m\n\u001b[0;32m    232\u001b[0m \u001b[38;5;250m\u001b[39m\u001b[38;5;124;03m\"\"\"\u001b[39;00m\n\u001b[0;32m    233\u001b[0m \u001b[38;5;124;03mRead the result of some command (internal function).\u001b[39;00m\n\u001b[0;32m    234\u001b[0m \u001b[38;5;124;03m\"\"\"\u001b[39;00m\n\u001b[0;32m    235\u001b[0m \u001b[38;5;66;03m# windex selects interface, set to 0\u001b[39;00m\n\u001b[1;32m--> 236\u001b[0m \u001b[38;5;28;01mreturn\u001b[39;00m \u001b[38;5;28;43mself\u001b[39;49m\u001b[38;5;241;43m.\u001b[39;49m\u001b[43m_usb\u001b[49m\u001b[38;5;241;43m.\u001b[39;49m\u001b[43mreadCtrl\u001b[49m\u001b[43m(\u001b[49m\u001b[38;5;28;43mself\u001b[39;49m\u001b[38;5;241;43m.\u001b[39;49m\u001b[43mCMD_USART0_CONFIG\u001b[49m\u001b[43m,\u001b[49m\u001b[43m \u001b[49m\u001b[43mcmd\u001b[49m\u001b[43m \u001b[49m\u001b[38;5;241;43m|\u001b[39;49m\u001b[43m \u001b[49m\u001b[43m(\u001b[49m\u001b[38;5;28;43mself\u001b[39;49m\u001b[38;5;241;43m.\u001b[39;49m\u001b[43m_usart_num\u001b[49m\u001b[43m \u001b[49m\u001b[38;5;241;43m<<\u001b[39;49m\u001b[43m \u001b[49m\u001b[38;5;241;43m8\u001b[39;49m\u001b[43m)\u001b[49m\u001b[43m,\u001b[49m\u001b[43m \u001b[49m\u001b[43mdlen\u001b[49m\u001b[43m)\u001b[49m\n",
      "File \u001b[1;32mc:\\Users\\sveno\\PycharmProjects\\Siemens-Advanced-Operator-Panel\\venv\\lib\\site-packages\\chipwhisperer\\hardware\\naeusb\\naeusb.py:749\u001b[0m, in \u001b[0;36mNAEUSB.readCtrl\u001b[1;34m(self, cmd, value, dlen)\u001b[0m\n\u001b[0;32m    745\u001b[0m \u001b[38;5;250m\u001b[39m\u001b[38;5;124;03m\"\"\"\u001b[39;00m\n\u001b[0;32m    746\u001b[0m \u001b[38;5;124;03mRead data from control endpoint\u001b[39;00m\n\u001b[0;32m    747\u001b[0m \u001b[38;5;124;03m\"\"\"\u001b[39;00m\n\u001b[0;32m    748\u001b[0m \u001b[38;5;66;03m# Vendor-specific, IN, interface control transfer\u001b[39;00m\n\u001b[1;32m--> 749\u001b[0m \u001b[38;5;28;01mreturn\u001b[39;00m \u001b[38;5;28;43mself\u001b[39;49m\u001b[38;5;241;43m.\u001b[39;49m\u001b[43musbserializer\u001b[49m\u001b[38;5;241;43m.\u001b[39;49m\u001b[43mreadCtrl\u001b[49m\u001b[43m(\u001b[49m\u001b[43mcmd\u001b[49m\u001b[43m,\u001b[49m\u001b[43m \u001b[49m\u001b[43mvalue\u001b[49m\u001b[43m,\u001b[49m\u001b[43m \u001b[49m\u001b[43mdlen\u001b[49m\u001b[43m)\u001b[49m\n",
      "File \u001b[1;32mc:\\Users\\sveno\\PycharmProjects\\Siemens-Advanced-Operator-Panel\\venv\\lib\\site-packages\\chipwhisperer\\hardware\\naeusb\\naeusb.py:487\u001b[0m, in \u001b[0;36mNAEUSB_Backend.readCtrl\u001b[1;34m(self, cmd, value, dlen)\u001b[0m\n\u001b[0;32m    483\u001b[0m \u001b[38;5;250m\u001b[39m\u001b[38;5;124;03m\"\"\"\u001b[39;00m\n\u001b[0;32m    484\u001b[0m \u001b[38;5;124;03mRead data from control endpoint\u001b[39;00m\n\u001b[0;32m    485\u001b[0m \u001b[38;5;124;03m\"\"\"\u001b[39;00m\n\u001b[0;32m    486\u001b[0m \u001b[38;5;66;03m# Vendor-specific, IN, interface control transfer\u001b[39;00m\n\u001b[1;32m--> 487\u001b[0m response \u001b[38;5;241m=\u001b[39m \u001b[38;5;28;43mself\u001b[39;49m\u001b[38;5;241;43m.\u001b[39;49m\u001b[43mhandle\u001b[49m\u001b[38;5;241;43m.\u001b[39;49m\u001b[43mcontrolRead\u001b[49m\u001b[43m(\u001b[49m\u001b[38;5;241;43m0xC1\u001b[39;49m\u001b[43m,\u001b[49m\u001b[43m \u001b[49m\u001b[43mcmd\u001b[49m\u001b[43m,\u001b[49m\u001b[43m \u001b[49m\u001b[43mvalue\u001b[49m\u001b[43m,\u001b[49m\u001b[43m \u001b[49m\u001b[38;5;241;43m0\u001b[39;49m\u001b[43m,\u001b[49m\u001b[43m \u001b[49m\u001b[43mdlen\u001b[49m\u001b[43m,\u001b[49m\u001b[43m \u001b[49m\u001b[43mtimeout\u001b[49m\u001b[38;5;241;43m=\u001b[39;49m\u001b[38;5;28;43mself\u001b[39;49m\u001b[38;5;241;43m.\u001b[39;49m\u001b[43m_timeout\u001b[49m\u001b[43m)\u001b[49m\n\u001b[0;32m    488\u001b[0m naeusb_logger\u001b[38;5;241m.\u001b[39mdebug(\u001b[38;5;124m\"\u001b[39m\u001b[38;5;124mREAD_CTRL: bmRequestType: \u001b[39m\u001b[38;5;132;01m{:02X}\u001b[39;00m\u001b[38;5;124m, \u001b[39m\u001b[38;5;130;01m\\\u001b[39;00m\n\u001b[0;32m    489\u001b[0m \u001b[38;5;124m            bRequest: \u001b[39m\u001b[38;5;132;01m{:02X}\u001b[39;00m\u001b[38;5;124m, wValue: \u001b[39m\u001b[38;5;132;01m{:04X}\u001b[39;00m\u001b[38;5;124m, wIndex: \u001b[39m\u001b[38;5;132;01m{:04X}\u001b[39;00m\u001b[38;5;124m, data_len: \u001b[39m\u001b[38;5;132;01m{:04X}\u001b[39;00m\u001b[38;5;124m, response: \u001b[39m\u001b[38;5;132;01m{}\u001b[39;00m\u001b[38;5;124m\"\u001b[39m\u001b[38;5;241m.\u001b[39mformat(\u001b[38;5;241m0xC1\u001b[39m, cmd, \\\n\u001b[0;32m    490\u001b[0m                 value, \u001b[38;5;241m0\u001b[39m, dlen, response))\n\u001b[0;32m    491\u001b[0m \u001b[38;5;28;01mreturn\u001b[39;00m response\n",
      "File \u001b[1;32mc:\\Users\\sveno\\PycharmProjects\\Siemens-Advanced-Operator-Panel\\venv\\lib\\site-packages\\usb1\\__init__.py:1350\u001b[0m, in \u001b[0;36mUSBDeviceHandle.controlRead\u001b[1;34m(self, request_type, request, value, index, length, timeout)\u001b[0m\n\u001b[0;32m   1348\u001b[0m \u001b[38;5;66;03m# pylint: enable=undefined-variable\u001b[39;00m\n\u001b[0;32m   1349\u001b[0m data, data_buffer \u001b[38;5;241m=\u001b[39m create_binary_buffer(length)\n\u001b[1;32m-> 1350\u001b[0m transferred \u001b[38;5;241m=\u001b[39m \u001b[38;5;28;43mself\u001b[39;49m\u001b[38;5;241;43m.\u001b[39;49m\u001b[43m_controlTransfer\u001b[49m\u001b[43m(\u001b[49m\n\u001b[0;32m   1351\u001b[0m \u001b[43m    \u001b[49m\u001b[43mrequest_type\u001b[49m\u001b[43m,\u001b[49m\u001b[43m \u001b[49m\u001b[43mrequest\u001b[49m\u001b[43m,\u001b[49m\u001b[43m \u001b[49m\u001b[43mvalue\u001b[49m\u001b[43m,\u001b[49m\u001b[43m \u001b[49m\u001b[43mindex\u001b[49m\u001b[43m,\u001b[49m\u001b[43m \u001b[49m\u001b[43mdata\u001b[49m\u001b[43m,\u001b[49m\u001b[43m \u001b[49m\u001b[43mlength\u001b[49m\u001b[43m,\u001b[49m\u001b[43m \u001b[49m\u001b[43mtimeout\u001b[49m\u001b[43m,\u001b[49m\n\u001b[0;32m   1352\u001b[0m \u001b[43m\u001b[49m\u001b[43m)\u001b[49m\n\u001b[0;32m   1353\u001b[0m \u001b[38;5;28;01mreturn\u001b[39;00m data_buffer[:transferred]\n",
      "File \u001b[1;32mc:\\Users\\sveno\\PycharmProjects\\Siemens-Advanced-Operator-Panel\\venv\\lib\\site-packages\\usb1\\__init__.py:1303\u001b[0m, in \u001b[0;36mUSBDeviceHandle._controlTransfer\u001b[1;34m(self, request_type, request, value, index, data, length, timeout)\u001b[0m\n\u001b[0;32m   1301\u001b[0m \u001b[38;5;28;01mdef\u001b[39;00m \u001b[38;5;21m_controlTransfer\u001b[39m(\n\u001b[0;32m   1302\u001b[0m         \u001b[38;5;28mself\u001b[39m, request_type, request, value, index, data, length, timeout):\n\u001b[1;32m-> 1303\u001b[0m     result \u001b[38;5;241m=\u001b[39m \u001b[43mlibusb1\u001b[49m\u001b[38;5;241;43m.\u001b[39;49m\u001b[43mlibusb_control_transfer\u001b[49m\u001b[43m(\u001b[49m\n\u001b[0;32m   1304\u001b[0m \u001b[43m        \u001b[49m\u001b[38;5;28;43mself\u001b[39;49m\u001b[38;5;241;43m.\u001b[39;49m\u001b[43m__handle\u001b[49m\u001b[43m,\u001b[49m\u001b[43m \u001b[49m\u001b[43mrequest_type\u001b[49m\u001b[43m,\u001b[49m\u001b[43m \u001b[49m\u001b[43mrequest\u001b[49m\u001b[43m,\u001b[49m\u001b[43m \u001b[49m\u001b[43mvalue\u001b[49m\u001b[43m,\u001b[49m\u001b[43m \u001b[49m\u001b[43mindex\u001b[49m\u001b[43m,\u001b[49m\u001b[43m \u001b[49m\u001b[43mdata\u001b[49m\u001b[43m,\u001b[49m\u001b[43m \u001b[49m\u001b[43mlength\u001b[49m\u001b[43m,\u001b[49m\n\u001b[0;32m   1305\u001b[0m \u001b[43m        \u001b[49m\u001b[43mtimeout\u001b[49m\u001b[43m,\u001b[49m\n\u001b[0;32m   1306\u001b[0m \u001b[43m    \u001b[49m\u001b[43m)\u001b[49m\n\u001b[0;32m   1307\u001b[0m     mayRaiseUSBError(result)\n\u001b[0;32m   1308\u001b[0m     \u001b[38;5;28;01mreturn\u001b[39;00m result\n",
      "\u001b[1;31mKeyboardInterrupt\u001b[0m: "
     ]
    }
   ],
   "source": [
    "# scope.io.tio1 = \"serial_tx\"\n",
    "# scope.io.tio2 = \"serial_rx\"\n",
    "# target.baud = 9600\n",
    "\n",
    "\n",
    "# # Send data (optional)\n",
    "# target.write(\"Hello, ChipWhisperer!\\n\")\n",
    "# print(\"start\")\n",
    "reset_mcu()\n",
    "# time.sleep(2)\n",
    "# # Receive data\n",
    "while True:\n",
    "    # reset_mcu()\n",
    "    # time.sleep(1)\n",
    "    if target.in_waiting:\n",
    "        #print(\"something available: \", target.in_waiting, target.read(0))\n",
    "        data = target.read()\n",
    "        if len(data) > 0:\n",
    "            print(data)\n",
    "\n",
    "\n",
    "#         time.sleep(1)"
   ]
  },
  {
   "cell_type": "code",
   "execution_count": 26,
   "id": "1e141cbe95b5d330",
   "metadata": {
    "collapsed": false
   },
   "outputs": [
    {
     "data": {
      "application/vnd.jupyter.widget-view+json": {
       "model_id": "a16fe62186b049a2a9f88372c0422b96",
       "version_major": 2,
       "version_minor": 0
      },
      "text/plain": [
       "IntText(value=0, description='success count:', disabled=True)"
      ]
     },
     "metadata": {},
     "output_type": "display_data"
    },
    {
     "data": {
      "application/vnd.jupyter.widget-view+json": {
       "model_id": "0d0a06d222ea4275aff06f492b29260c",
       "version_major": 2,
       "version_minor": 0
      },
      "text/plain": [
       "IntText(value=0, description='reset count:', disabled=True)"
      ]
     },
     "metadata": {},
     "output_type": "display_data"
    },
    {
     "data": {
      "application/vnd.jupyter.widget-view+json": {
       "model_id": "ec26c22861844e70b41509de21faa50e",
       "version_major": 2,
       "version_minor": 0
      },
      "text/plain": [
       "IntText(value=0, description='normal count:', disabled=True)"
      ]
     },
     "metadata": {},
     "output_type": "display_data"
    },
    {
     "data": {
      "application/vnd.jupyter.widget-view+json": {
       "model_id": "1a05bba987c04094b5f91731393bd48b",
       "version_major": 2,
       "version_minor": 0
      },
      "text/plain": [
       "IntText(value=0, description='bigsuccess count:', disabled=True)"
      ]
     },
     "metadata": {},
     "output_type": "display_data"
    },
    {
     "data": {
      "application/vnd.jupyter.widget-view+json": {
       "model_id": "29f302b7010745a8a3f1e932005c883e",
       "version_major": 2,
       "version_minor": 0
      },
      "text/plain": [
       "IntText(value=0, description='timeout count:', disabled=True)"
      ]
     },
     "metadata": {},
     "output_type": "display_data"
    },
    {
     "data": {
      "application/vnd.jupyter.widget-view+json": {
       "model_id": "959dd9a91ff04ddaabe7252b7550b85c",
       "version_major": 2,
       "version_minor": 0
      },
      "text/plain": [
       "FloatSlider(value=0.0, continuous_update=False, description='ext_offset setting:', disabled=True, max=10.0, re…"
      ]
     },
     "metadata": {},
     "output_type": "display_data"
    },
    {
     "data": {
      "application/vnd.jupyter.widget-view+json": {
       "model_id": "8cbe7ea7ea2742adadbb20c509d5e708",
       "version_major": 2,
       "version_minor": 0
      },
      "text/plain": [
       "FloatSlider(value=0.0, continuous_update=False, description='repeat setting:', disabled=True, max=10.0, readou…"
      ]
     },
     "metadata": {},
     "output_type": "display_data"
    },
    {
     "data": {
      "application/vnd.jupyter.widget-view+json": {
       "model_id": "4ef4a94b9eec457fb57ec5bb4ed08d7f",
       "version_major": 2,
       "version_minor": 0
      },
      "text/plain": [
       "FloatSlider(value=0.0, continuous_update=False, description='tries setting:', disabled=True, max=10.0, readout…"
      ]
     },
     "metadata": {},
     "output_type": "display_data"
    }
   ],
   "source": [
    "# gc = cw.GlitchController(groups=[\"success\", \"reset\", \"normal\"], parameters=[\"width\", \"offset\", \"ext_offset\", \"tries\"])\n",
    "gc = cw.GlitchController(groups=[\"success\", \"reset\", \"normal\", \"bigsuccess\", \"timeout\"], parameters=[\"ext_offset\", \"repeat\", \"tries\"])\n",
    "# gc = cw.GlitchController(groups=[\"success\", \"reset\", \"normal\", \"bigsuccess\"], parameters=[\"width\", \"offset\", \"repeat\", \"tries\"])\n",
    "gc.display_stats()\n",
    "\n",
    "\n",
    "num_tries = 5 # increase to get better glitch stats\n",
    "gc.set_range(\"tries\", 1, num_tries)\n",
    "\n",
    "# gc.set_range(\"ext_offset\", 22, 22)\n",
    "# gc.set_range(\"repeat\", 1, 8000)\n",
    "\n",
    "gc.set_range(\"ext_offset\", 1, 200)\n",
    "gc.set_range(\"repeat\", 1, 200)\n",
    "\n",
    "# gc.set_range(\"ext_offset\", 53, 150)\n",
    "# gc.set_range(\"repeat\", 31, 100)\n",
    "\n",
    "# gc.set_range(\"ext_offset\", 1, 200)\n",
    "# gc.set_range(\"repeat\", 1, 60)\n",
    "\n",
    "# gc.set_range(\"ext_offset\", 1, 1)\n",
    "# gc.set_range(\"repeat\", 1, 1)\n",
    "\n",
    "# gc.set_range(\"width\", -48, 48)\n",
    "# gc.set_range(\"offset\", 0, 48)\n",
    "# gc.set_range(\"ext_offset\", 7, 10)\n",
    "\n",
    "gc.set_global_step(1)\n",
    "\n",
    "\n",
    "# gc.set_step(\"width\", 0.5)\n",
    "# gc.set_step(\"offset\", 1)\n",
    "# gc.set_step(\"ext_offset\", 1)\n",
    "gc.set_step(\"repeat\", 1)\n",
    "\n",
    "\n"
   ]
  },
  {
   "cell_type": "code",
   "execution_count": null,
   "id": "7914663cabea824a",
   "metadata": {
    "collapsed": false
   },
   "outputs": [
    {
     "name": "stdout",
     "output_type": "stream",
     "text": [
      "SUCCESS: glitch ext offset: 6 repeat: 13 bytes: 259 | best so far: 259 bytes at setting 6\n",
      "SUCCESS: glitch ext offset: 6 repeat: 21 bytes: 131 | best so far: 259 bytes at setting 6\n",
      "SUCCESS: glitch ext offset: 6 repeat: 21 bytes: 259 | best so far: 259 bytes at setting 6\n",
      "SUCCESS: glitch ext offset: 6 repeat: 23 bytes: 515 | best so far: 515 bytes at setting 6\n",
      "SUCCESS: glitch ext offset: 6 repeat: 25 bytes: 259 | best so far: 515 bytes at setting 6\n",
      "SUCCESS: glitch ext offset: 6 repeat: 33 bytes: 515 | best so far: 515 bytes at setting 6\n",
      "SUCCESS: glitch ext offset: 6 repeat: 33 bytes: 11 | best so far: 515 bytes at setting 6\n",
      "SUCCESS: glitch ext offset: 6 repeat: 37 bytes: 114 | best so far: 515 bytes at setting 6\n",
      "SUCCESS: glitch ext offset: 6 repeat: 39 bytes: 515 | best so far: 515 bytes at setting 6\n",
      "SUCCESS: glitch ext offset: 6 repeat: 55 bytes: 3372 | best so far: 3372 bytes at setting 6\n",
      "SUCCESS: glitch ext offset: 6 repeat: 55 bytes: 2466 | best so far: 3372 bytes at setting 6\n",
      "SUCCESS: glitch ext offset: 6 repeat: 73 bytes: 259 | best so far: 3372 bytes at setting 6\n",
      "SUCCESS: glitch ext offset: 6 repeat: 75 bytes: 3354 | best so far: 3372 bytes at setting 6\n",
      "SUCCESS: glitch ext offset: 6 repeat: 76 bytes: 259 | best so far: 3372 bytes at setting 6\n",
      "SUCCESS: glitch ext offset: 6 repeat: 93 bytes: 3420 | best so far: 3420 bytes at setting 6\n",
      "SUCCESS: glitch ext offset: 6 repeat: 109 bytes: 259 | best so far: 3420 bytes at setting 6\n",
      "SUCCESS: glitch ext offset: 6 repeat: 136 bytes: 259 | best so far: 3420 bytes at setting 6\n",
      "SUCCESS: glitch ext offset: 6 repeat: 144 bytes: 259 | best so far: 3420 bytes at setting 6\n",
      "SUCCESS: glitch ext offset: 6 repeat: 150 bytes: 515 | best so far: 3420 bytes at setting 6\n",
      "SUCCESS: glitch ext offset: 6 repeat: 152 bytes: 515 | best so far: 3420 bytes at setting 6\n",
      "SUCCESS: glitch ext offset: 6 repeat: 160 bytes: 3435 | best so far: 3435 bytes at setting 6\n",
      "SUCCESS: glitch ext offset: 6 repeat: 162 bytes: 515 | best so far: 3435 bytes at setting 6\n",
      "SUCCESS: glitch ext offset: 6 repeat: 172 bytes: 259 | best so far: 3435 bytes at setting 6\n",
      "SUCCESS: glitch ext offset: 6 repeat: 198 bytes: 3444 | best so far: 3444 bytes at setting 6\n",
      "SUCCESS: glitch ext offset: 7 repeat: 4 bytes: 3474 | best so far: 3474 bytes at setting 7\n",
      "SUCCESS: glitch ext offset: 7 repeat: 10 bytes: 3528 | best so far: 3528 bytes at setting 7\n",
      "SUCCESS: glitch ext offset: 7 repeat: 16 bytes: 3543 | best so far: 3543 bytes at setting 7\n",
      "SUCCESS: glitch ext offset: 7 repeat: 17 bytes: 3273 | best so far: 3543 bytes at setting 7\n",
      "SUCCESS: glitch ext offset: 7 repeat: 19 bytes: 3282 | best so far: 3543 bytes at setting 7\n",
      "SUCCESS: glitch ext offset: 7 repeat: 20 bytes: 3315 | best so far: 3543 bytes at setting 7\n",
      "SUCCESS: glitch ext offset: 7 repeat: 26 bytes: 3699 | best so far: 3699 bytes at setting 7\n",
      "SUCCESS: glitch ext offset: 7 repeat: 48 bytes: 3732 | best so far: 3732 bytes at setting 7\n",
      "SUCCESS: glitch ext offset: 7 repeat: 54 bytes: 3732 | best so far: 3732 bytes at setting 7\n",
      "SUCCESS: glitch ext offset: 7 repeat: 55 bytes: 3378 | best so far: 3732 bytes at setting 7\n",
      "SUCCESS: glitch ext offset: 7 repeat: 97 bytes: 3801 | best so far: 3801 bytes at setting 7\n",
      "SUCCESS: glitch ext offset: 7 repeat: 97 bytes: 3027 | best so far: 3801 bytes at setting 7\n",
      "SUCCESS: glitch ext offset: 7 repeat: 102 bytes: 3789 | best so far: 3801 bytes at setting 7\n",
      "SUCCESS: glitch ext offset: 7 repeat: 102 bytes: 3198 | best so far: 3801 bytes at setting 7\n",
      "SUCCESS: glitch ext offset: 7 repeat: 112 bytes: 3921 | best so far: 3921 bytes at setting 7\n",
      "SUCCESS: glitch ext offset: 7 repeat: 125 bytes: 3900 | best so far: 3921 bytes at setting 7\n",
      "SUCCESS: glitch ext offset: 7 repeat: 136 bytes: 3891 | best so far: 3921 bytes at setting 7\n",
      "SUCCESS: glitch ext offset: 7 repeat: 159 bytes: 3930 | best so far: 3930 bytes at setting 7\n",
      "SUCCESS: glitch ext offset: 7 repeat: 171 bytes: 3936 | best so far: 3936 bytes at setting 7\n",
      "SUCCESS: glitch ext offset: 7 repeat: 174 bytes: 3756 | best so far: 3936 bytes at setting 7\n",
      "SUCCESS: glitch ext offset: 7 repeat: 181 bytes: 3930 | best so far: 3936 bytes at setting 7\n",
      "SUCCESS: glitch ext offset: 7 repeat: 200 bytes: 3972 | best so far: 3972 bytes at setting 7\n",
      "SUCCESS: glitch ext offset: 18 repeat: 9 bytes: 25 | best so far: 3972 bytes at setting 7\n",
      "SUCCESS: glitch ext offset: 18 repeat: 11 bytes: 25 | best so far: 3972 bytes at setting 7\n",
      "SUCCESS: glitch ext offset: 18 repeat: 13 bytes: 25 | best so far: 3972 bytes at setting 7\n",
      "SUCCESS: glitch ext offset: 18 repeat: 14 bytes: 25 | best so far: 3972 bytes at setting 7\n",
      "SUCCESS: glitch ext offset: 18 repeat: 62 bytes: 25 | best so far: 3972 bytes at setting 7\n",
      "SUCCESS: glitch ext offset: 18 repeat: 145 bytes: 9 | best so far: 3972 bytes at setting 7\n",
      "SUCCESS: glitch ext offset: 18 repeat: 147 bytes: 9 | best so far: 3972 bytes at setting 7\n",
      "SUCCESS: glitch ext offset: 18 repeat: 149 bytes: 9 | best so far: 3972 bytes at setting 7\n",
      "SUCCESS: glitch ext offset: 18 repeat: 176 bytes: 25 | best so far: 3972 bytes at setting 7\n",
      "SUCCESS: glitch ext offset: 18 repeat: 178 bytes: 9 | best so far: 3972 bytes at setting 7\n",
      "SUCCESS: glitch ext offset: 18 repeat: 182 bytes: 9 | best so far: 3972 bytes at setting 7\n",
      "SUCCESS: glitch ext offset: 19 repeat: 5 bytes: 3452 | best so far: 3972 bytes at setting 7\n",
      "SUCCESS: glitch ext offset: 19 repeat: 7 bytes: 3293 | best so far: 3972 bytes at setting 7\n",
      "SUCCESS: glitch ext offset: 19 repeat: 9 bytes: 3317 | best so far: 3972 bytes at setting 7\n",
      "Timeout: Skipping glitch setting 19, 10\n",
      "Timeout: Skipping glitch setting 19, 10\n",
      "Timeout: Skipping glitch setting 19, 11\n",
      "Timeout: Skipping glitch setting 19, 11\n",
      "Timeout: Skipping glitch setting 19, 11\n",
      "Timeout: Skipping glitch setting 19, 11\n",
      "Timeout: Skipping glitch setting 19, 11\n",
      "Timeout: Skipping glitch setting 19, 12\n",
      "Timeout: Skipping glitch setting 19, 12\n",
      "Timeout: Skipping glitch setting 19, 12\n",
      "Timeout: Skipping glitch setting 19, 12\n",
      "Timeout: Skipping glitch setting 19, 12\n",
      "Timeout: Skipping glitch setting 19, 13\n",
      "Timeout: Skipping glitch setting 19, 13\n",
      "Timeout: Skipping glitch setting 19, 13\n",
      "Timeout: Skipping glitch setting 19, 13\n"
     ]
    },
    {
     "name": "stderr",
     "output_type": "stream",
     "text": [
      "WARNING:root:SAM3U Serial buffers OVERRUN - data loss has occurred.\n"
     ]
    },
    {
     "name": "stdout",
     "output_type": "stream",
     "text": [
      "Timeout: Skipping glitch setting 19, 13\n",
      "Timeout: Skipping glitch setting 19, 14\n"
     ]
    },
    {
     "name": "stderr",
     "output_type": "stream",
     "text": [
      "WARNING:root:SAM3U Serial buffers OVERRUN - data loss has occurred.\n"
     ]
    },
    {
     "name": "stdout",
     "output_type": "stream",
     "text": [
      "Timeout: Skipping glitch setting 19, 14\n"
     ]
    },
    {
     "name": "stderr",
     "output_type": "stream",
     "text": [
      "WARNING:root:SAM3U Serial buffers OVERRUN - data loss has occurred.\n",
      "WARNING:root:SAM3U Serial buffers OVERRUN - data loss has occurred.\n"
     ]
    },
    {
     "name": "stdout",
     "output_type": "stream",
     "text": [
      "Timeout: Skipping glitch setting 19, 14\n"
     ]
    },
    {
     "name": "stderr",
     "output_type": "stream",
     "text": [
      "WARNING:root:SAM3U Serial buffers OVERRUN - data loss has occurred.\n"
     ]
    },
    {
     "name": "stdout",
     "output_type": "stream",
     "text": [
      "Timeout: Skipping glitch setting 19, 14\n"
     ]
    },
    {
     "name": "stderr",
     "output_type": "stream",
     "text": [
      "WARNING:root:SAM3U Serial buffers OVERRUN - data loss has occurred.\n",
      "WARNING:root:SAM3U Serial buffers OVERRUN - data loss has occurred.\n",
      "WARNING:root:SAM3U Serial buffers OVERRUN - data loss has occurred.\n"
     ]
    },
    {
     "name": "stdout",
     "output_type": "stream",
     "text": [
      "Timeout: Skipping glitch setting 19, 14\n"
     ]
    },
    {
     "name": "stderr",
     "output_type": "stream",
     "text": [
      "WARNING:root:SAM3U Serial buffers OVERRUN - data loss has occurred.\n",
      "WARNING:root:SAM3U Serial buffers OVERRUN - data loss has occurred.\n",
      "WARNING:root:SAM3U Serial buffers OVERRUN - data loss has occurred.\n",
      "WARNING:root:SAM3U Serial buffers OVERRUN - data loss has occurred.\n",
      "WARNING:root:SAM3U Serial buffers OVERRUN - data loss has occurred.\n",
      "WARNING:root:SAM3U Serial buffers OVERRUN - data loss has occurred.\n"
     ]
    },
    {
     "name": "stdout",
     "output_type": "stream",
     "text": [
      "Timeout: Skipping glitch setting 19, 15\n"
     ]
    },
    {
     "name": "stderr",
     "output_type": "stream",
     "text": [
      "WARNING:root:SAM3U Serial buffers OVERRUN - data loss has occurred.\n",
      "WARNING:root:SAM3U Serial buffers OVERRUN - data loss has occurred.\n",
      "WARNING:root:SAM3U Serial buffers OVERRUN - data loss has occurred.\n"
     ]
    },
    {
     "name": "stdout",
     "output_type": "stream",
     "text": [
      "Timeout: Skipping glitch setting 19, 15\n",
      "Timeout: Skipping glitch setting 19, 15\n"
     ]
    },
    {
     "name": "stderr",
     "output_type": "stream",
     "text": [
      "WARNING:root:SAM3U Serial buffers OVERRUN - data loss has occurred.\n",
      "WARNING:root:SAM3U Serial buffers OVERRUN - data loss has occurred.\n",
      "WARNING:root:SAM3U Serial buffers OVERRUN - data loss has occurred.\n",
      "WARNING:root:SAM3U Serial buffers OVERRUN - data loss has occurred.\n",
      "WARNING:root:SAM3U Serial buffers OVERRUN - data loss has occurred.\n",
      "WARNING:root:SAM3U Serial buffers OVERRUN - data loss has occurred.\n",
      "WARNING:root:SAM3U Serial buffers OVERRUN - data loss has occurred.\n"
     ]
    },
    {
     "name": "stdout",
     "output_type": "stream",
     "text": [
      "Timeout: Skipping glitch setting 19, 15\n"
     ]
    },
    {
     "name": "stderr",
     "output_type": "stream",
     "text": [
      "WARNING:root:SAM3U Serial buffers OVERRUN - data loss has occurred.\n",
      "WARNING:root:SAM3U Serial buffers OVERRUN - data loss has occurred.\n",
      "WARNING:root:SAM3U Serial buffers OVERRUN - data loss has occurred.\n",
      "WARNING:root:SAM3U Serial buffers OVERRUN - data loss has occurred.\n",
      "WARNING:root:SAM3U Serial buffers OVERRUN - data loss has occurred.\n",
      "WARNING:root:SAM3U Serial buffers OVERRUN - data loss has occurred.\n",
      "WARNING:root:SAM3U Serial buffers OVERRUN - data loss has occurred.\n"
     ]
    },
    {
     "name": "stdout",
     "output_type": "stream",
     "text": [
      "Timeout: Skipping glitch setting 19, 15\n"
     ]
    },
    {
     "name": "stderr",
     "output_type": "stream",
     "text": [
      "WARNING:root:SAM3U Serial buffers OVERRUN - data loss has occurred.\n",
      "WARNING:root:SAM3U Serial buffers OVERRUN - data loss has occurred.\n",
      "WARNING:root:SAM3U Serial buffers OVERRUN - data loss has occurred.\n",
      "WARNING:root:SAM3U Serial buffers OVERRUN - data loss has occurred.\n",
      "WARNING:root:SAM3U Serial buffers OVERRUN - data loss has occurred.\n",
      "WARNING:root:SAM3U Serial buffers OVERRUN - data loss has occurred.\n"
     ]
    },
    {
     "name": "stdout",
     "output_type": "stream",
     "text": [
      "Timeout: Skipping glitch setting 19, 16\n"
     ]
    },
    {
     "name": "stderr",
     "output_type": "stream",
     "text": [
      "WARNING:root:SAM3U Serial buffers OVERRUN - data loss has occurred.\n",
      "WARNING:root:SAM3U Serial buffers OVERRUN - data loss has occurred.\n",
      "WARNING:root:SAM3U Serial buffers OVERRUN - data loss has occurred.\n",
      "WARNING:root:SAM3U Serial buffers OVERRUN - data loss has occurred.\n",
      "WARNING:root:SAM3U Serial buffers OVERRUN - data loss has occurred.\n",
      "WARNING:root:SAM3U Serial buffers OVERRUN - data loss has occurred.\n",
      "WARNING:root:SAM3U Serial buffers OVERRUN - data loss has occurred.\n",
      "WARNING:root:SAM3U Serial buffers OVERRUN - data loss has occurred.\n",
      "WARNING:root:SAM3U Serial buffers OVERRUN - data loss has occurred.\n",
      "WARNING:root:SAM3U Serial buffers OVERRUN - data loss has occurred.\n",
      "WARNING:root:SAM3U Serial buffers OVERRUN - data loss has occurred.\n",
      "WARNING:root:SAM3U Serial buffers OVERRUN - data loss has occurred.\n"
     ]
    },
    {
     "name": "stdout",
     "output_type": "stream",
     "text": [
      "Timeout: Skipping glitch setting 19, 16\n"
     ]
    },
    {
     "name": "stderr",
     "output_type": "stream",
     "text": [
      "WARNING:root:SAM3U Serial buffers OVERRUN - data loss has occurred.\n",
      "WARNING:root:SAM3U Serial buffers OVERRUN - data loss has occurred.\n",
      "WARNING:root:SAM3U Serial buffers OVERRUN - data loss has occurred.\n",
      "WARNING:root:SAM3U Serial buffers OVERRUN - data loss has occurred.\n",
      "WARNING:root:SAM3U Serial buffers OVERRUN - data loss has occurred.\n",
      "WARNING:root:SAM3U Serial buffers OVERRUN - data loss has occurred.\n",
      "WARNING:root:SAM3U Serial buffers OVERRUN - data loss has occurred.\n",
      "WARNING:root:SAM3U Serial buffers OVERRUN - data loss has occurred.\n"
     ]
    },
    {
     "name": "stdout",
     "output_type": "stream",
     "text": [
      "Timeout: Skipping glitch setting 19, 16\n"
     ]
    },
    {
     "name": "stderr",
     "output_type": "stream",
     "text": [
      "WARNING:root:SAM3U Serial buffers OVERRUN - data loss has occurred.\n",
      "WARNING:root:SAM3U Serial buffers OVERRUN - data loss has occurred.\n",
      "WARNING:root:SAM3U Serial buffers OVERRUN - data loss has occurred.\n",
      "WARNING:root:SAM3U Serial buffers OVERRUN - data loss has occurred.\n",
      "WARNING:root:SAM3U Serial buffers OVERRUN - data loss has occurred.\n",
      "WARNING:root:SAM3U Serial buffers OVERRUN - data loss has occurred.\n",
      "WARNING:root:SAM3U Serial buffers OVERRUN - data loss has occurred.\n",
      "WARNING:root:SAM3U Serial buffers OVERRUN - data loss has occurred.\n",
      "WARNING:root:SAM3U Serial buffers OVERRUN - data loss has occurred.\n"
     ]
    },
    {
     "name": "stdout",
     "output_type": "stream",
     "text": [
      "Timeout: Skipping glitch setting 19, 16\n"
     ]
    },
    {
     "name": "stderr",
     "output_type": "stream",
     "text": [
      "WARNING:root:SAM3U Serial buffers OVERRUN - data loss has occurred.\n",
      "WARNING:root:SAM3U Serial buffers OVERRUN - data loss has occurred.\n",
      "WARNING:root:SAM3U Serial buffers OVERRUN - data loss has occurred.\n",
      "WARNING:root:SAM3U Serial buffers OVERRUN - data loss has occurred.\n",
      "WARNING:root:SAM3U Serial buffers OVERRUN - data loss has occurred.\n",
      "WARNING:root:SAM3U Serial buffers OVERRUN - data loss has occurred.\n",
      "WARNING:root:SAM3U Serial buffers OVERRUN - data loss has occurred.\n",
      "WARNING:root:SAM3U Serial buffers OVERRUN - data loss has occurred.\n",
      "WARNING:root:SAM3U Serial buffers OVERRUN - data loss has occurred.\n"
     ]
    },
    {
     "name": "stdout",
     "output_type": "stream",
     "text": [
      "Timeout: Skipping glitch setting 19, 16\n"
     ]
    },
    {
     "name": "stderr",
     "output_type": "stream",
     "text": [
      "WARNING:root:SAM3U Serial buffers OVERRUN - data loss has occurred.\n",
      "WARNING:root:SAM3U Serial buffers OVERRUN - data loss has occurred.\n",
      "WARNING:root:SAM3U Serial buffers OVERRUN - data loss has occurred.\n",
      "WARNING:root:SAM3U Serial buffers OVERRUN - data loss has occurred.\n",
      "WARNING:root:SAM3U Serial buffers OVERRUN - data loss has occurred.\n",
      "WARNING:root:SAM3U Serial buffers OVERRUN - data loss has occurred.\n",
      "WARNING:root:SAM3U Serial buffers OVERRUN - data loss has occurred.\n",
      "WARNING:root:SAM3U Serial buffers OVERRUN - data loss has occurred.\n",
      "WARNING:root:SAM3U Serial buffers OVERRUN - data loss has occurred.\n"
     ]
    },
    {
     "name": "stdout",
     "output_type": "stream",
     "text": [
      "Timeout: Skipping glitch setting 19, 17\n"
     ]
    },
    {
     "name": "stderr",
     "output_type": "stream",
     "text": [
      "WARNING:root:SAM3U Serial buffers OVERRUN - data loss has occurred.\n",
      "WARNING:root:SAM3U Serial buffers OVERRUN - data loss has occurred.\n",
      "WARNING:root:SAM3U Serial buffers OVERRUN - data loss has occurred.\n",
      "WARNING:root:SAM3U Serial buffers OVERRUN - data loss has occurred.\n",
      "WARNING:root:SAM3U Serial buffers OVERRUN - data loss has occurred.\n",
      "WARNING:root:SAM3U Serial buffers OVERRUN - data loss has occurred.\n",
      "WARNING:root:SAM3U Serial buffers OVERRUN - data loss has occurred.\n"
     ]
    },
    {
     "name": "stdout",
     "output_type": "stream",
     "text": [
      "Timeout: Skipping glitch setting 19, 17\n"
     ]
    },
    {
     "name": "stderr",
     "output_type": "stream",
     "text": [
      "WARNING:root:SAM3U Serial buffers OVERRUN - data loss has occurred.\n",
      "WARNING:root:SAM3U Serial buffers OVERRUN - data loss has occurred.\n",
      "WARNING:root:SAM3U Serial buffers OVERRUN - data loss has occurred.\n",
      "WARNING:root:SAM3U Serial buffers OVERRUN - data loss has occurred.\n",
      "WARNING:root:SAM3U Serial buffers OVERRUN - data loss has occurred.\n",
      "WARNING:root:SAM3U Serial buffers OVERRUN - data loss has occurred.\n"
     ]
    },
    {
     "name": "stdout",
     "output_type": "stream",
     "text": [
      "Timeout: Skipping glitch setting 19, 17\n"
     ]
    },
    {
     "name": "stderr",
     "output_type": "stream",
     "text": [
      "WARNING:root:SAM3U Serial buffers OVERRUN - data loss has occurred.\n",
      "WARNING:root:SAM3U Serial buffers OVERRUN - data loss has occurred.\n",
      "WARNING:root:SAM3U Serial buffers OVERRUN - data loss has occurred.\n",
      "WARNING:root:SAM3U Serial buffers OVERRUN - data loss has occurred.\n",
      "WARNING:root:SAM3U Serial buffers OVERRUN - data loss has occurred.\n",
      "WARNING:root:SAM3U Serial buffers OVERRUN - data loss has occurred.\n",
      "WARNING:root:SAM3U Serial buffers OVERRUN - data loss has occurred.\n"
     ]
    },
    {
     "name": "stdout",
     "output_type": "stream",
     "text": [
      "Timeout: Skipping glitch setting 19, 17\n"
     ]
    },
    {
     "name": "stderr",
     "output_type": "stream",
     "text": [
      "WARNING:root:SAM3U Serial buffers OVERRUN - data loss has occurred.\n",
      "WARNING:root:SAM3U Serial buffers OVERRUN - data loss has occurred.\n",
      "WARNING:root:SAM3U Serial buffers OVERRUN - data loss has occurred.\n",
      "WARNING:root:SAM3U Serial buffers OVERRUN - data loss has occurred.\n",
      "WARNING:root:SAM3U Serial buffers OVERRUN - data loss has occurred.\n",
      "WARNING:root:SAM3U Serial buffers OVERRUN - data loss has occurred.\n",
      "WARNING:root:SAM3U Serial buffers OVERRUN - data loss has occurred.\n"
     ]
    },
    {
     "name": "stdout",
     "output_type": "stream",
     "text": [
      "Timeout: Skipping glitch setting 19, 17\n"
     ]
    },
    {
     "name": "stderr",
     "output_type": "stream",
     "text": [
      "WARNING:root:SAM3U Serial buffers OVERRUN - data loss has occurred.\n",
      "WARNING:root:SAM3U Serial buffers OVERRUN - data loss has occurred.\n",
      "WARNING:root:SAM3U Serial buffers OVERRUN - data loss has occurred.\n",
      "WARNING:root:SAM3U Serial buffers OVERRUN - data loss has occurred.\n",
      "WARNING:root:SAM3U Serial buffers OVERRUN - data loss has occurred.\n",
      "WARNING:root:SAM3U Serial buffers OVERRUN - data loss has occurred.\n",
      "WARNING:root:SAM3U Serial buffers OVERRUN - data loss has occurred.\n",
      "WARNING:root:SAM3U Serial buffers OVERRUN - data loss has occurred.\n"
     ]
    },
    {
     "name": "stdout",
     "output_type": "stream",
     "text": [
      "Timeout: Skipping glitch setting 19, 18\n"
     ]
    },
    {
     "name": "stderr",
     "output_type": "stream",
     "text": [
      "WARNING:root:SAM3U Serial buffers OVERRUN - data loss has occurred.\n",
      "WARNING:root:SAM3U Serial buffers OVERRUN - data loss has occurred.\n",
      "WARNING:root:SAM3U Serial buffers OVERRUN - data loss has occurred.\n",
      "WARNING:root:SAM3U Serial buffers OVERRUN - data loss has occurred.\n"
     ]
    },
    {
     "name": "stdout",
     "output_type": "stream",
     "text": [
      "Timeout: Skipping glitch setting 19, 18\n"
     ]
    },
    {
     "name": "stderr",
     "output_type": "stream",
     "text": [
      "WARNING:root:SAM3U Serial buffers OVERRUN - data loss has occurred.\n",
      "WARNING:root:SAM3U Serial buffers OVERRUN - data loss has occurred.\n",
      "WARNING:root:SAM3U Serial buffers OVERRUN - data loss has occurred.\n",
      "WARNING:root:SAM3U Serial buffers OVERRUN - data loss has occurred.\n",
      "WARNING:root:SAM3U Serial buffers OVERRUN - data loss has occurred.\n",
      "WARNING:root:SAM3U Serial buffers OVERRUN - data loss has occurred.\n"
     ]
    },
    {
     "name": "stdout",
     "output_type": "stream",
     "text": [
      "Timeout: Skipping glitch setting 19, 18\n"
     ]
    },
    {
     "name": "stderr",
     "output_type": "stream",
     "text": [
      "WARNING:root:SAM3U Serial buffers OVERRUN - data loss has occurred.\n",
      "WARNING:root:SAM3U Serial buffers OVERRUN - data loss has occurred.\n",
      "WARNING:root:SAM3U Serial buffers OVERRUN - data loss has occurred.\n"
     ]
    },
    {
     "name": "stdout",
     "output_type": "stream",
     "text": [
      "Timeout: Skipping glitch setting 19, 18\n"
     ]
    },
    {
     "name": "stderr",
     "output_type": "stream",
     "text": [
      "WARNING:root:SAM3U Serial buffers OVERRUN - data loss has occurred.\n",
      "WARNING:root:SAM3U Serial buffers OVERRUN - data loss has occurred.\n",
      "WARNING:root:SAM3U Serial buffers OVERRUN - data loss has occurred.\n",
      "WARNING:root:SAM3U Serial buffers OVERRUN - data loss has occurred.\n",
      "WARNING:root:SAM3U Serial buffers OVERRUN - data loss has occurred.\n",
      "WARNING:root:SAM3U Serial buffers OVERRUN - data loss has occurred.\n",
      "WARNING:root:SAM3U Serial buffers OVERRUN - data loss has occurred.\n",
      "WARNING:root:SAM3U Serial buffers OVERRUN - data loss has occurred.\n"
     ]
    },
    {
     "name": "stdout",
     "output_type": "stream",
     "text": [
      "Timeout: Skipping glitch setting 19, 18\n"
     ]
    },
    {
     "name": "stderr",
     "output_type": "stream",
     "text": [
      "WARNING:root:SAM3U Serial buffers OVERRUN - data loss has occurred.\n",
      "WARNING:root:SAM3U Serial buffers OVERRUN - data loss has occurred.\n",
      "WARNING:root:SAM3U Serial buffers OVERRUN - data loss has occurred.\n",
      "WARNING:root:SAM3U Serial buffers OVERRUN - data loss has occurred.\n"
     ]
    },
    {
     "name": "stdout",
     "output_type": "stream",
     "text": [
      "Timeout: Skipping glitch setting 19, 19\n"
     ]
    },
    {
     "name": "stderr",
     "output_type": "stream",
     "text": [
      "WARNING:root:SAM3U Serial buffers OVERRUN - data loss has occurred.\n",
      "WARNING:root:SAM3U Serial buffers OVERRUN - data loss has occurred.\n",
      "WARNING:root:SAM3U Serial buffers OVERRUN - data loss has occurred.\n",
      "WARNING:root:SAM3U Serial buffers OVERRUN - data loss has occurred.\n",
      "WARNING:root:SAM3U Serial buffers OVERRUN - data loss has occurred.\n"
     ]
    },
    {
     "name": "stdout",
     "output_type": "stream",
     "text": [
      "Timeout: Skipping glitch setting 19, 19\n"
     ]
    },
    {
     "name": "stderr",
     "output_type": "stream",
     "text": [
      "WARNING:root:SAM3U Serial buffers OVERRUN - data loss has occurred.\n",
      "WARNING:root:SAM3U Serial buffers OVERRUN - data loss has occurred.\n",
      "WARNING:root:SAM3U Serial buffers OVERRUN - data loss has occurred.\n",
      "WARNING:root:SAM3U Serial buffers OVERRUN - data loss has occurred.\n",
      "WARNING:root:SAM3U Serial buffers OVERRUN - data loss has occurred.\n"
     ]
    },
    {
     "name": "stdout",
     "output_type": "stream",
     "text": [
      "Timeout: Skipping glitch setting 19, 19\n"
     ]
    },
    {
     "name": "stderr",
     "output_type": "stream",
     "text": [
      "WARNING:root:SAM3U Serial buffers OVERRUN - data loss has occurred.\n",
      "WARNING:root:SAM3U Serial buffers OVERRUN - data loss has occurred.\n",
      "WARNING:root:SAM3U Serial buffers OVERRUN - data loss has occurred.\n"
     ]
    },
    {
     "name": "stdout",
     "output_type": "stream",
     "text": [
      "Timeout: Skipping glitch setting 19, 19\n"
     ]
    },
    {
     "name": "stderr",
     "output_type": "stream",
     "text": [
      "WARNING:root:SAM3U Serial buffers OVERRUN - data loss has occurred.\n",
      "WARNING:root:SAM3U Serial buffers OVERRUN - data loss has occurred.\n",
      "WARNING:root:SAM3U Serial buffers OVERRUN - data loss has occurred.\n",
      "WARNING:root:SAM3U Serial buffers OVERRUN - data loss has occurred.\n",
      "WARNING:root:SAM3U Serial buffers OVERRUN - data loss has occurred.\n",
      "WARNING:root:SAM3U Serial buffers OVERRUN - data loss has occurred.\n",
      "WARNING:root:SAM3U Serial buffers OVERRUN - data loss has occurred.\n",
      "WARNING:root:SAM3U Serial buffers OVERRUN - data loss has occurred.\n"
     ]
    },
    {
     "name": "stdout",
     "output_type": "stream",
     "text": [
      "Timeout: Skipping glitch setting 19, 19\n"
     ]
    },
    {
     "name": "stderr",
     "output_type": "stream",
     "text": [
      "WARNING:root:SAM3U Serial buffers OVERRUN - data loss has occurred.\n",
      "WARNING:root:SAM3U Serial buffers OVERRUN - data loss has occurred.\n",
      "WARNING:root:SAM3U Serial buffers OVERRUN - data loss has occurred.\n",
      "WARNING:root:SAM3U Serial buffers OVERRUN - data loss has occurred.\n",
      "WARNING:root:SAM3U Serial buffers OVERRUN - data loss has occurred.\n",
      "WARNING:root:SAM3U Serial buffers OVERRUN - data loss has occurred.\n"
     ]
    },
    {
     "name": "stdout",
     "output_type": "stream",
     "text": [
      "Timeout: Skipping glitch setting 19, 20\n"
     ]
    },
    {
     "name": "stderr",
     "output_type": "stream",
     "text": [
      "WARNING:root:SAM3U Serial buffers OVERRUN - data loss has occurred.\n",
      "WARNING:root:SAM3U Serial buffers OVERRUN - data loss has occurred.\n",
      "WARNING:root:SAM3U Serial buffers OVERRUN - data loss has occurred.\n",
      "WARNING:root:SAM3U Serial buffers OVERRUN - data loss has occurred.\n",
      "WARNING:root:SAM3U Serial buffers OVERRUN - data loss has occurred.\n",
      "WARNING:root:SAM3U Serial buffers OVERRUN - data loss has occurred.\n"
     ]
    },
    {
     "name": "stdout",
     "output_type": "stream",
     "text": [
      "Timeout: Skipping glitch setting 19, 20\n"
     ]
    },
    {
     "name": "stderr",
     "output_type": "stream",
     "text": [
      "WARNING:root:SAM3U Serial buffers OVERRUN - data loss has occurred.\n",
      "WARNING:root:SAM3U Serial buffers OVERRUN - data loss has occurred.\n"
     ]
    },
    {
     "name": "stdout",
     "output_type": "stream",
     "text": [
      "Timeout: Skipping glitch setting 19, 20\n",
      "Timeout: Skipping glitch setting 19, 20\n",
      "Timeout: Skipping glitch setting 19, 20\n"
     ]
    },
    {
     "name": "stderr",
     "output_type": "stream",
     "text": [
      "WARNING:root:SAM3U Serial buffers OVERRUN - data loss has occurred.\n",
      "WARNING:root:SAM3U Serial buffers OVERRUN - data loss has occurred.\n",
      "WARNING:root:SAM3U Serial buffers OVERRUN - data loss has occurred.\n",
      "WARNING:root:SAM3U Serial buffers OVERRUN - data loss has occurred.\n",
      "WARNING:root:SAM3U Serial buffers OVERRUN - data loss has occurred.\n"
     ]
    },
    {
     "name": "stdout",
     "output_type": "stream",
     "text": [
      "Timeout: Skipping glitch setting 19, 21\n"
     ]
    },
    {
     "name": "stderr",
     "output_type": "stream",
     "text": [
      "WARNING:root:SAM3U Serial buffers OVERRUN - data loss has occurred.\n",
      "WARNING:root:SAM3U Serial buffers OVERRUN - data loss has occurred.\n",
      "WARNING:root:SAM3U Serial buffers OVERRUN - data loss has occurred.\n",
      "WARNING:root:SAM3U Serial buffers OVERRUN - data loss has occurred.\n",
      "WARNING:root:SAM3U Serial buffers OVERRUN - data loss has occurred.\n"
     ]
    },
    {
     "name": "stdout",
     "output_type": "stream",
     "text": [
      "Timeout: Skipping glitch setting 19, 21\n"
     ]
    },
    {
     "name": "stderr",
     "output_type": "stream",
     "text": [
      "WARNING:root:SAM3U Serial buffers OVERRUN - data loss has occurred.\n",
      "WARNING:root:SAM3U Serial buffers OVERRUN - data loss has occurred.\n",
      "WARNING:root:SAM3U Serial buffers OVERRUN - data loss has occurred.\n",
      "WARNING:root:SAM3U Serial buffers OVERRUN - data loss has occurred.\n",
      "WARNING:root:SAM3U Serial buffers OVERRUN - data loss has occurred.\n",
      "WARNING:root:SAM3U Serial buffers OVERRUN - data loss has occurred.\n",
      "WARNING:root:SAM3U Serial buffers OVERRUN - data loss has occurred.\n",
      "WARNING:root:SAM3U Serial buffers OVERRUN - data loss has occurred.\n"
     ]
    },
    {
     "name": "stdout",
     "output_type": "stream",
     "text": [
      "Timeout: Skipping glitch setting 19, 21\n"
     ]
    },
    {
     "name": "stderr",
     "output_type": "stream",
     "text": [
      "WARNING:root:SAM3U Serial buffers OVERRUN - data loss has occurred.\n",
      "WARNING:root:SAM3U Serial buffers OVERRUN - data loss has occurred.\n",
      "WARNING:root:SAM3U Serial buffers OVERRUN - data loss has occurred.\n",
      "WARNING:root:SAM3U Serial buffers OVERRUN - data loss has occurred.\n",
      "WARNING:root:SAM3U Serial buffers OVERRUN - data loss has occurred.\n",
      "WARNING:root:SAM3U Serial buffers OVERRUN - data loss has occurred.\n",
      "WARNING:root:SAM3U Serial buffers OVERRUN - data loss has occurred.\n"
     ]
    },
    {
     "name": "stdout",
     "output_type": "stream",
     "text": [
      "Timeout: Skipping glitch setting 19, 21\n"
     ]
    },
    {
     "name": "stderr",
     "output_type": "stream",
     "text": [
      "WARNING:root:SAM3U Serial buffers OVERRUN - data loss has occurred.\n",
      "WARNING:root:SAM3U Serial buffers OVERRUN - data loss has occurred.\n",
      "WARNING:root:SAM3U Serial buffers OVERRUN - data loss has occurred.\n",
      "WARNING:root:SAM3U Serial buffers OVERRUN - data loss has occurred.\n",
      "WARNING:root:SAM3U Serial buffers OVERRUN - data loss has occurred.\n"
     ]
    },
    {
     "name": "stdout",
     "output_type": "stream",
     "text": [
      "Timeout: Skipping glitch setting 19, 21\n"
     ]
    },
    {
     "name": "stderr",
     "output_type": "stream",
     "text": [
      "WARNING:root:SAM3U Serial buffers OVERRUN - data loss has occurred.\n",
      "WARNING:root:SAM3U Serial buffers OVERRUN - data loss has occurred.\n",
      "WARNING:root:SAM3U Serial buffers OVERRUN - data loss has occurred.\n",
      "WARNING:root:SAM3U Serial buffers OVERRUN - data loss has occurred.\n",
      "WARNING:root:SAM3U Serial buffers OVERRUN - data loss has occurred.\n",
      "WARNING:root:SAM3U Serial buffers OVERRUN - data loss has occurred.\n",
      "WARNING:root:SAM3U Serial buffers OVERRUN - data loss has occurred.\n"
     ]
    },
    {
     "name": "stdout",
     "output_type": "stream",
     "text": [
      "Timeout: Skipping glitch setting 19, 22\n"
     ]
    },
    {
     "name": "stderr",
     "output_type": "stream",
     "text": [
      "WARNING:root:SAM3U Serial buffers OVERRUN - data loss has occurred.\n",
      "WARNING:root:SAM3U Serial buffers OVERRUN - data loss has occurred.\n",
      "WARNING:root:SAM3U Serial buffers OVERRUN - data loss has occurred.\n",
      "WARNING:root:SAM3U Serial buffers OVERRUN - data loss has occurred.\n",
      "WARNING:root:SAM3U Serial buffers OVERRUN - data loss has occurred.\n",
      "WARNING:root:SAM3U Serial buffers OVERRUN - data loss has occurred.\n"
     ]
    },
    {
     "name": "stdout",
     "output_type": "stream",
     "text": [
      "Timeout: Skipping glitch setting 19, 22\n"
     ]
    },
    {
     "name": "stderr",
     "output_type": "stream",
     "text": [
      "WARNING:root:SAM3U Serial buffers OVERRUN - data loss has occurred.\n",
      "WARNING:root:SAM3U Serial buffers OVERRUN - data loss has occurred.\n",
      "WARNING:root:SAM3U Serial buffers OVERRUN - data loss has occurred.\n",
      "WARNING:root:SAM3U Serial buffers OVERRUN - data loss has occurred.\n",
      "WARNING:root:SAM3U Serial buffers OVERRUN - data loss has occurred.\n",
      "WARNING:root:SAM3U Serial buffers OVERRUN - data loss has occurred.\n"
     ]
    },
    {
     "name": "stdout",
     "output_type": "stream",
     "text": [
      "Timeout: Skipping glitch setting 19, 22\n"
     ]
    },
    {
     "name": "stderr",
     "output_type": "stream",
     "text": [
      "WARNING:root:SAM3U Serial buffers OVERRUN - data loss has occurred.\n",
      "WARNING:root:SAM3U Serial buffers OVERRUN - data loss has occurred.\n",
      "WARNING:root:SAM3U Serial buffers OVERRUN - data loss has occurred.\n",
      "WARNING:root:SAM3U Serial buffers OVERRUN - data loss has occurred.\n",
      "WARNING:root:SAM3U Serial buffers OVERRUN - data loss has occurred.\n",
      "WARNING:root:SAM3U Serial buffers OVERRUN - data loss has occurred.\n",
      "WARNING:root:SAM3U Serial buffers OVERRUN - data loss has occurred.\n",
      "WARNING:root:SAM3U Serial buffers OVERRUN - data loss has occurred.\n",
      "WARNING:root:SAM3U Serial buffers OVERRUN - data loss has occurred.\n"
     ]
    },
    {
     "name": "stdout",
     "output_type": "stream",
     "text": [
      "Timeout: Skipping glitch setting 19, 22\n"
     ]
    },
    {
     "name": "stderr",
     "output_type": "stream",
     "text": [
      "WARNING:root:SAM3U Serial buffers OVERRUN - data loss has occurred.\n",
      "WARNING:root:SAM3U Serial buffers OVERRUN - data loss has occurred.\n",
      "WARNING:root:SAM3U Serial buffers OVERRUN - data loss has occurred.\n",
      "WARNING:root:SAM3U Serial buffers OVERRUN - data loss has occurred.\n",
      "WARNING:root:SAM3U Serial buffers OVERRUN - data loss has occurred.\n",
      "WARNING:root:SAM3U Serial buffers OVERRUN - data loss has occurred.\n",
      "WARNING:root:SAM3U Serial buffers OVERRUN - data loss has occurred.\n",
      "WARNING:root:SAM3U Serial buffers OVERRUN - data loss has occurred.\n"
     ]
    },
    {
     "name": "stdout",
     "output_type": "stream",
     "text": [
      "Timeout: Skipping glitch setting 19, 22\n"
     ]
    },
    {
     "name": "stderr",
     "output_type": "stream",
     "text": [
      "WARNING:root:SAM3U Serial buffers OVERRUN - data loss has occurred.\n",
      "WARNING:root:SAM3U Serial buffers OVERRUN - data loss has occurred.\n",
      "WARNING:root:SAM3U Serial buffers OVERRUN - data loss has occurred.\n",
      "WARNING:root:SAM3U Serial buffers OVERRUN - data loss has occurred.\n",
      "WARNING:root:SAM3U Serial buffers OVERRUN - data loss has occurred.\n",
      "WARNING:root:SAM3U Serial buffers OVERRUN - data loss has occurred.\n"
     ]
    },
    {
     "name": "stdout",
     "output_type": "stream",
     "text": [
      "Timeout: Skipping glitch setting 19, 23\n"
     ]
    },
    {
     "name": "stderr",
     "output_type": "stream",
     "text": [
      "WARNING:root:SAM3U Serial buffers OVERRUN - data loss has occurred.\n",
      "WARNING:root:SAM3U Serial buffers OVERRUN - data loss has occurred.\n",
      "WARNING:root:SAM3U Serial buffers OVERRUN - data loss has occurred.\n",
      "WARNING:root:SAM3U Serial buffers OVERRUN - data loss has occurred.\n",
      "WARNING:root:SAM3U Serial buffers OVERRUN - data loss has occurred.\n",
      "WARNING:root:SAM3U Serial buffers OVERRUN - data loss has occurred.\n",
      "WARNING:root:SAM3U Serial buffers OVERRUN - data loss has occurred.\n",
      "WARNING:root:SAM3U Serial buffers OVERRUN - data loss has occurred.\n",
      "WARNING:root:SAM3U Serial buffers OVERRUN - data loss has occurred.\n",
      "WARNING:root:SAM3U Serial buffers OVERRUN - data loss has occurred.\n"
     ]
    },
    {
     "name": "stdout",
     "output_type": "stream",
     "text": [
      "Timeout: Skipping glitch setting 19, 23\n"
     ]
    },
    {
     "name": "stderr",
     "output_type": "stream",
     "text": [
      "WARNING:root:SAM3U Serial buffers OVERRUN - data loss has occurred.\n",
      "WARNING:root:SAM3U Serial buffers OVERRUN - data loss has occurred.\n",
      "WARNING:root:SAM3U Serial buffers OVERRUN - data loss has occurred.\n",
      "WARNING:root:SAM3U Serial buffers OVERRUN - data loss has occurred.\n",
      "WARNING:root:SAM3U Serial buffers OVERRUN - data loss has occurred.\n",
      "WARNING:root:SAM3U Serial buffers OVERRUN - data loss has occurred.\n",
      "WARNING:root:SAM3U Serial buffers OVERRUN - data loss has occurred.\n",
      "WARNING:root:SAM3U Serial buffers OVERRUN - data loss has occurred.\n",
      "WARNING:root:SAM3U Serial buffers OVERRUN - data loss has occurred.\n"
     ]
    },
    {
     "name": "stdout",
     "output_type": "stream",
     "text": [
      "Timeout: Skipping glitch setting 19, 23\n"
     ]
    },
    {
     "name": "stderr",
     "output_type": "stream",
     "text": [
      "WARNING:root:SAM3U Serial buffers OVERRUN - data loss has occurred.\n",
      "WARNING:root:SAM3U Serial buffers OVERRUN - data loss has occurred.\n",
      "WARNING:root:SAM3U Serial buffers OVERRUN - data loss has occurred.\n",
      "WARNING:root:SAM3U Serial buffers OVERRUN - data loss has occurred.\n",
      "WARNING:root:SAM3U Serial buffers OVERRUN - data loss has occurred.\n",
      "WARNING:root:SAM3U Serial buffers OVERRUN - data loss has occurred.\n",
      "WARNING:root:SAM3U Serial buffers OVERRUN - data loss has occurred.\n",
      "WARNING:root:SAM3U Serial buffers OVERRUN - data loss has occurred.\n",
      "WARNING:root:SAM3U Serial buffers OVERRUN - data loss has occurred.\n",
      "WARNING:root:SAM3U Serial buffers OVERRUN - data loss has occurred.\n",
      "WARNING:root:SAM3U Serial buffers OVERRUN - data loss has occurred.\n",
      "WARNING:root:SAM3U Serial buffers OVERRUN - data loss has occurred.\n"
     ]
    },
    {
     "name": "stdout",
     "output_type": "stream",
     "text": [
      "Timeout: Skipping glitch setting 19, 23\n"
     ]
    },
    {
     "name": "stderr",
     "output_type": "stream",
     "text": [
      "WARNING:root:SAM3U Serial buffers OVERRUN - data loss has occurred.\n",
      "WARNING:root:SAM3U Serial buffers OVERRUN - data loss has occurred.\n",
      "WARNING:root:SAM3U Serial buffers OVERRUN - data loss has occurred.\n"
     ]
    },
    {
     "name": "stdout",
     "output_type": "stream",
     "text": [
      "Timeout: Skipping glitch setting 19, 23\n"
     ]
    },
    {
     "name": "stderr",
     "output_type": "stream",
     "text": [
      "WARNING:root:SAM3U Serial buffers OVERRUN - data loss has occurred.\n",
      "WARNING:root:SAM3U Serial buffers OVERRUN - data loss has occurred.\n",
      "WARNING:root:SAM3U Serial buffers OVERRUN - data loss has occurred.\n",
      "WARNING:root:SAM3U Serial buffers OVERRUN - data loss has occurred.\n",
      "WARNING:root:SAM3U Serial buffers OVERRUN - data loss has occurred.\n",
      "WARNING:root:SAM3U Serial buffers OVERRUN - data loss has occurred.\n",
      "WARNING:root:SAM3U Serial buffers OVERRUN - data loss has occurred.\n",
      "WARNING:root:SAM3U Serial buffers OVERRUN - data loss has occurred.\n"
     ]
    },
    {
     "name": "stdout",
     "output_type": "stream",
     "text": [
      "Timeout: Skipping glitch setting 19, 24\n"
     ]
    },
    {
     "name": "stderr",
     "output_type": "stream",
     "text": [
      "WARNING:root:SAM3U Serial buffers OVERRUN - data loss has occurred.\n",
      "WARNING:root:SAM3U Serial buffers OVERRUN - data loss has occurred.\n",
      "WARNING:root:SAM3U Serial buffers OVERRUN - data loss has occurred.\n",
      "WARNING:root:SAM3U Serial buffers OVERRUN - data loss has occurred.\n"
     ]
    },
    {
     "name": "stdout",
     "output_type": "stream",
     "text": [
      "Timeout: Skipping glitch setting 19, 24\n"
     ]
    },
    {
     "name": "stderr",
     "output_type": "stream",
     "text": [
      "WARNING:root:SAM3U Serial buffers OVERRUN - data loss has occurred.\n",
      "WARNING:root:SAM3U Serial buffers OVERRUN - data loss has occurred.\n",
      "WARNING:root:SAM3U Serial buffers OVERRUN - data loss has occurred.\n",
      "WARNING:root:SAM3U Serial buffers OVERRUN - data loss has occurred.\n",
      "WARNING:root:SAM3U Serial buffers OVERRUN - data loss has occurred.\n",
      "WARNING:root:SAM3U Serial buffers OVERRUN - data loss has occurred.\n",
      "WARNING:root:SAM3U Serial buffers OVERRUN - data loss has occurred.\n",
      "WARNING:root:SAM3U Serial buffers OVERRUN - data loss has occurred.\n",
      "WARNING:root:SAM3U Serial buffers OVERRUN - data loss has occurred.\n",
      "WARNING:root:SAM3U Serial buffers OVERRUN - data loss has occurred.\n"
     ]
    },
    {
     "name": "stdout",
     "output_type": "stream",
     "text": [
      "Timeout: Skipping glitch setting 19, 24\n"
     ]
    },
    {
     "name": "stderr",
     "output_type": "stream",
     "text": [
      "WARNING:root:SAM3U Serial buffers OVERRUN - data loss has occurred.\n",
      "WARNING:root:SAM3U Serial buffers OVERRUN - data loss has occurred.\n",
      "WARNING:root:SAM3U Serial buffers OVERRUN - data loss has occurred.\n",
      "WARNING:root:SAM3U Serial buffers OVERRUN - data loss has occurred.\n",
      "WARNING:root:SAM3U Serial buffers OVERRUN - data loss has occurred.\n"
     ]
    },
    {
     "name": "stdout",
     "output_type": "stream",
     "text": [
      "Timeout: Skipping glitch setting 19, 24\n"
     ]
    },
    {
     "name": "stderr",
     "output_type": "stream",
     "text": [
      "WARNING:root:SAM3U Serial buffers OVERRUN - data loss has occurred.\n",
      "WARNING:root:SAM3U Serial buffers OVERRUN - data loss has occurred.\n",
      "WARNING:root:SAM3U Serial buffers OVERRUN - data loss has occurred.\n",
      "WARNING:root:SAM3U Serial buffers OVERRUN - data loss has occurred.\n",
      "WARNING:root:SAM3U Serial buffers OVERRUN - data loss has occurred.\n",
      "WARNING:root:SAM3U Serial buffers OVERRUN - data loss has occurred.\n",
      "WARNING:root:SAM3U Serial buffers OVERRUN - data loss has occurred.\n"
     ]
    },
    {
     "name": "stdout",
     "output_type": "stream",
     "text": [
      "Timeout: Skipping glitch setting 19, 24\n"
     ]
    },
    {
     "name": "stderr",
     "output_type": "stream",
     "text": [
      "WARNING:root:SAM3U Serial buffers OVERRUN - data loss has occurred.\n",
      "WARNING:root:SAM3U Serial buffers OVERRUN - data loss has occurred.\n",
      "WARNING:root:SAM3U Serial buffers OVERRUN - data loss has occurred.\n",
      "WARNING:root:SAM3U Serial buffers OVERRUN - data loss has occurred.\n",
      "WARNING:root:SAM3U Serial buffers OVERRUN - data loss has occurred.\n"
     ]
    },
    {
     "name": "stdout",
     "output_type": "stream",
     "text": [
      "Timeout: Skipping glitch setting 19, 25\n"
     ]
    },
    {
     "name": "stderr",
     "output_type": "stream",
     "text": [
      "WARNING:root:SAM3U Serial buffers OVERRUN - data loss has occurred.\n",
      "WARNING:root:SAM3U Serial buffers OVERRUN - data loss has occurred.\n",
      "WARNING:root:SAM3U Serial buffers OVERRUN - data loss has occurred.\n",
      "WARNING:root:SAM3U Serial buffers OVERRUN - data loss has occurred.\n",
      "WARNING:root:SAM3U Serial buffers OVERRUN - data loss has occurred.\n",
      "WARNING:root:SAM3U Serial buffers OVERRUN - data loss has occurred.\n"
     ]
    },
    {
     "name": "stdout",
     "output_type": "stream",
     "text": [
      "Timeout: Skipping glitch setting 19, 25\n"
     ]
    },
    {
     "name": "stderr",
     "output_type": "stream",
     "text": [
      "WARNING:root:SAM3U Serial buffers OVERRUN - data loss has occurred.\n",
      "WARNING:root:SAM3U Serial buffers OVERRUN - data loss has occurred.\n",
      "WARNING:root:SAM3U Serial buffers OVERRUN - data loss has occurred.\n",
      "WARNING:root:SAM3U Serial buffers OVERRUN - data loss has occurred.\n",
      "WARNING:root:SAM3U Serial buffers OVERRUN - data loss has occurred.\n",
      "WARNING:root:SAM3U Serial buffers OVERRUN - data loss has occurred.\n",
      "WARNING:root:SAM3U Serial buffers OVERRUN - data loss has occurred.\n",
      "WARNING:root:SAM3U Serial buffers OVERRUN - data loss has occurred.\n",
      "WARNING:root:SAM3U Serial buffers OVERRUN - data loss has occurred.\n",
      "WARNING:root:SAM3U Serial buffers OVERRUN - data loss has occurred.\n",
      "WARNING:root:SAM3U Serial buffers OVERRUN - data loss has occurred.\n"
     ]
    },
    {
     "name": "stdout",
     "output_type": "stream",
     "text": [
      "Timeout: Skipping glitch setting 19, 25\n",
      "Timeout: Skipping glitch setting 19, 25\n"
     ]
    },
    {
     "name": "stderr",
     "output_type": "stream",
     "text": [
      "WARNING:root:SAM3U Serial buffers OVERRUN - data loss has occurred.\n",
      "WARNING:root:SAM3U Serial buffers OVERRUN - data loss has occurred.\n",
      "WARNING:root:SAM3U Serial buffers OVERRUN - data loss has occurred.\n",
      "WARNING:root:SAM3U Serial buffers OVERRUN - data loss has occurred.\n",
      "WARNING:root:SAM3U Serial buffers OVERRUN - data loss has occurred.\n",
      "WARNING:root:SAM3U Serial buffers OVERRUN - data loss has occurred.\n",
      "WARNING:root:SAM3U Serial buffers OVERRUN - data loss has occurred.\n"
     ]
    },
    {
     "name": "stdout",
     "output_type": "stream",
     "text": [
      "Timeout: Skipping glitch setting 19, 25\n"
     ]
    },
    {
     "name": "stderr",
     "output_type": "stream",
     "text": [
      "WARNING:root:SAM3U Serial buffers OVERRUN - data loss has occurred.\n",
      "WARNING:root:SAM3U Serial buffers OVERRUN - data loss has occurred.\n",
      "WARNING:root:SAM3U Serial buffers OVERRUN - data loss has occurred.\n",
      "WARNING:root:SAM3U Serial buffers OVERRUN - data loss has occurred.\n",
      "WARNING:root:SAM3U Serial buffers OVERRUN - data loss has occurred.\n",
      "WARNING:root:SAM3U Serial buffers OVERRUN - data loss has occurred.\n",
      "WARNING:root:SAM3U Serial buffers OVERRUN - data loss has occurred.\n",
      "WARNING:root:SAM3U Serial buffers OVERRUN - data loss has occurred.\n"
     ]
    },
    {
     "name": "stdout",
     "output_type": "stream",
     "text": [
      "Timeout: Skipping glitch setting 19, 26\n"
     ]
    },
    {
     "name": "stderr",
     "output_type": "stream",
     "text": [
      "WARNING:root:SAM3U Serial buffers OVERRUN - data loss has occurred.\n",
      "WARNING:root:SAM3U Serial buffers OVERRUN - data loss has occurred.\n",
      "WARNING:root:SAM3U Serial buffers OVERRUN - data loss has occurred.\n",
      "WARNING:root:SAM3U Serial buffers OVERRUN - data loss has occurred.\n",
      "WARNING:root:SAM3U Serial buffers OVERRUN - data loss has occurred.\n",
      "WARNING:root:SAM3U Serial buffers OVERRUN - data loss has occurred.\n",
      "WARNING:root:SAM3U Serial buffers OVERRUN - data loss has occurred.\n",
      "WARNING:root:SAM3U Serial buffers OVERRUN - data loss has occurred.\n",
      "WARNING:root:SAM3U Serial buffers OVERRUN - data loss has occurred.\n",
      "WARNING:root:SAM3U Serial buffers OVERRUN - data loss has occurred.\n"
     ]
    },
    {
     "name": "stdout",
     "output_type": "stream",
     "text": [
      "Timeout: Skipping glitch setting 19, 26\n"
     ]
    },
    {
     "name": "stderr",
     "output_type": "stream",
     "text": [
      "WARNING:root:SAM3U Serial buffers OVERRUN - data loss has occurred.\n",
      "WARNING:root:SAM3U Serial buffers OVERRUN - data loss has occurred.\n",
      "WARNING:root:SAM3U Serial buffers OVERRUN - data loss has occurred.\n",
      "WARNING:root:SAM3U Serial buffers OVERRUN - data loss has occurred.\n"
     ]
    },
    {
     "name": "stdout",
     "output_type": "stream",
     "text": [
      "Timeout: Skipping glitch setting 19, 26\n"
     ]
    },
    {
     "name": "stderr",
     "output_type": "stream",
     "text": [
      "WARNING:root:SAM3U Serial buffers OVERRUN - data loss has occurred.\n",
      "WARNING:root:SAM3U Serial buffers OVERRUN - data loss has occurred.\n",
      "WARNING:root:SAM3U Serial buffers OVERRUN - data loss has occurred.\n"
     ]
    },
    {
     "name": "stdout",
     "output_type": "stream",
     "text": [
      "Timeout: Skipping glitch setting 19, 26\n"
     ]
    },
    {
     "name": "stderr",
     "output_type": "stream",
     "text": [
      "WARNING:root:SAM3U Serial buffers OVERRUN - data loss has occurred.\n",
      "WARNING:root:SAM3U Serial buffers OVERRUN - data loss has occurred.\n",
      "WARNING:root:SAM3U Serial buffers OVERRUN - data loss has occurred.\n",
      "WARNING:root:SAM3U Serial buffers OVERRUN - data loss has occurred.\n",
      "WARNING:root:SAM3U Serial buffers OVERRUN - data loss has occurred.\n",
      "WARNING:root:SAM3U Serial buffers OVERRUN - data loss has occurred.\n",
      "WARNING:root:SAM3U Serial buffers OVERRUN - data loss has occurred.\n",
      "WARNING:root:SAM3U Serial buffers OVERRUN - data loss has occurred.\n",
      "WARNING:root:SAM3U Serial buffers OVERRUN - data loss has occurred.\n",
      "WARNING:root:SAM3U Serial buffers OVERRUN - data loss has occurred.\n",
      "WARNING:root:SAM3U Serial buffers OVERRUN - data loss has occurred.\n",
      "WARNING:root:SAM3U Serial buffers OVERRUN - data loss has occurred.\n"
     ]
    },
    {
     "name": "stdout",
     "output_type": "stream",
     "text": [
      "Timeout: Skipping glitch setting 19, 26\n"
     ]
    },
    {
     "name": "stderr",
     "output_type": "stream",
     "text": [
      "WARNING:root:SAM3U Serial buffers OVERRUN - data loss has occurred.\n",
      "WARNING:root:SAM3U Serial buffers OVERRUN - data loss has occurred.\n",
      "WARNING:root:SAM3U Serial buffers OVERRUN - data loss has occurred.\n",
      "WARNING:root:SAM3U Serial buffers OVERRUN - data loss has occurred.\n",
      "WARNING:root:SAM3U Serial buffers OVERRUN - data loss has occurred.\n"
     ]
    },
    {
     "name": "stdout",
     "output_type": "stream",
     "text": [
      "Timeout: Skipping glitch setting 19, 27\n"
     ]
    },
    {
     "name": "stderr",
     "output_type": "stream",
     "text": [
      "WARNING:root:SAM3U Serial buffers OVERRUN - data loss has occurred.\n",
      "WARNING:root:SAM3U Serial buffers OVERRUN - data loss has occurred.\n",
      "WARNING:root:SAM3U Serial buffers OVERRUN - data loss has occurred.\n",
      "WARNING:root:SAM3U Serial buffers OVERRUN - data loss has occurred.\n",
      "WARNING:root:SAM3U Serial buffers OVERRUN - data loss has occurred.\n",
      "WARNING:root:SAM3U Serial buffers OVERRUN - data loss has occurred.\n",
      "WARNING:root:SAM3U Serial buffers OVERRUN - data loss has occurred.\n",
      "WARNING:root:SAM3U Serial buffers OVERRUN - data loss has occurred.\n",
      "WARNING:root:SAM3U Serial buffers OVERRUN - data loss has occurred.\n"
     ]
    },
    {
     "name": "stdout",
     "output_type": "stream",
     "text": [
      "Timeout: Skipping glitch setting 19, 27\n"
     ]
    },
    {
     "name": "stderr",
     "output_type": "stream",
     "text": [
      "WARNING:root:SAM3U Serial buffers OVERRUN - data loss has occurred.\n",
      "WARNING:root:SAM3U Serial buffers OVERRUN - data loss has occurred.\n",
      "WARNING:root:SAM3U Serial buffers OVERRUN - data loss has occurred.\n",
      "WARNING:root:SAM3U Serial buffers OVERRUN - data loss has occurred.\n"
     ]
    },
    {
     "name": "stdout",
     "output_type": "stream",
     "text": [
      "Timeout: Skipping glitch setting 19, 27\n"
     ]
    },
    {
     "name": "stderr",
     "output_type": "stream",
     "text": [
      "WARNING:root:SAM3U Serial buffers OVERRUN - data loss has occurred.\n",
      "WARNING:root:SAM3U Serial buffers OVERRUN - data loss has occurred.\n",
      "WARNING:root:SAM3U Serial buffers OVERRUN - data loss has occurred.\n"
     ]
    },
    {
     "name": "stdout",
     "output_type": "stream",
     "text": [
      "Timeout: Skipping glitch setting 19, 27\n"
     ]
    },
    {
     "name": "stderr",
     "output_type": "stream",
     "text": [
      "WARNING:root:SAM3U Serial buffers OVERRUN - data loss has occurred.\n",
      "WARNING:root:SAM3U Serial buffers OVERRUN - data loss has occurred.\n",
      "WARNING:root:SAM3U Serial buffers OVERRUN - data loss has occurred.\n",
      "WARNING:root:SAM3U Serial buffers OVERRUN - data loss has occurred.\n",
      "WARNING:root:SAM3U Serial buffers OVERRUN - data loss has occurred.\n"
     ]
    },
    {
     "name": "stdout",
     "output_type": "stream",
     "text": [
      "Timeout: Skipping glitch setting 19, 27\n"
     ]
    },
    {
     "name": "stderr",
     "output_type": "stream",
     "text": [
      "WARNING:root:SAM3U Serial buffers OVERRUN - data loss has occurred.\n",
      "WARNING:root:SAM3U Serial buffers OVERRUN - data loss has occurred.\n",
      "WARNING:root:SAM3U Serial buffers OVERRUN - data loss has occurred.\n",
      "WARNING:root:SAM3U Serial buffers OVERRUN - data loss has occurred.\n",
      "WARNING:root:SAM3U Serial buffers OVERRUN - data loss has occurred.\n"
     ]
    },
    {
     "name": "stdout",
     "output_type": "stream",
     "text": [
      "Timeout: Skipping glitch setting 19, 28\n"
     ]
    },
    {
     "name": "stderr",
     "output_type": "stream",
     "text": [
      "WARNING:root:SAM3U Serial buffers OVERRUN - data loss has occurred.\n",
      "WARNING:root:SAM3U Serial buffers OVERRUN - data loss has occurred.\n",
      "WARNING:root:SAM3U Serial buffers OVERRUN - data loss has occurred.\n",
      "WARNING:root:SAM3U Serial buffers OVERRUN - data loss has occurred.\n",
      "WARNING:root:SAM3U Serial buffers OVERRUN - data loss has occurred.\n",
      "WARNING:root:SAM3U Serial buffers OVERRUN - data loss has occurred.\n",
      "WARNING:root:SAM3U Serial buffers OVERRUN - data loss has occurred.\n",
      "WARNING:root:SAM3U Serial buffers OVERRUN - data loss has occurred.\n",
      "WARNING:root:SAM3U Serial buffers OVERRUN - data loss has occurred.\n",
      "WARNING:root:SAM3U Serial buffers OVERRUN - data loss has occurred.\n"
     ]
    },
    {
     "name": "stdout",
     "output_type": "stream",
     "text": [
      "Timeout: Skipping glitch setting 19, 28\n"
     ]
    },
    {
     "name": "stderr",
     "output_type": "stream",
     "text": [
      "WARNING:root:SAM3U Serial buffers OVERRUN - data loss has occurred.\n",
      "WARNING:root:SAM3U Serial buffers OVERRUN - data loss has occurred.\n"
     ]
    },
    {
     "name": "stdout",
     "output_type": "stream",
     "text": [
      "Timeout: Skipping glitch setting 19, 28\n"
     ]
    },
    {
     "name": "stderr",
     "output_type": "stream",
     "text": [
      "WARNING:root:SAM3U Serial buffers OVERRUN - data loss has occurred.\n",
      "WARNING:root:SAM3U Serial buffers OVERRUN - data loss has occurred.\n",
      "WARNING:root:SAM3U Serial buffers OVERRUN - data loss has occurred.\n",
      "WARNING:root:SAM3U Serial buffers OVERRUN - data loss has occurred.\n",
      "WARNING:root:SAM3U Serial buffers OVERRUN - data loss has occurred.\n",
      "WARNING:root:SAM3U Serial buffers OVERRUN - data loss has occurred.\n"
     ]
    },
    {
     "name": "stdout",
     "output_type": "stream",
     "text": [
      "Timeout: Skipping glitch setting 19, 28\n"
     ]
    },
    {
     "name": "stderr",
     "output_type": "stream",
     "text": [
      "WARNING:root:SAM3U Serial buffers OVERRUN - data loss has occurred.\n",
      "WARNING:root:SAM3U Serial buffers OVERRUN - data loss has occurred.\n",
      "WARNING:root:SAM3U Serial buffers OVERRUN - data loss has occurred.\n",
      "WARNING:root:SAM3U Serial buffers OVERRUN - data loss has occurred.\n",
      "WARNING:root:SAM3U Serial buffers OVERRUN - data loss has occurred.\n"
     ]
    },
    {
     "name": "stdout",
     "output_type": "stream",
     "text": [
      "Timeout: Skipping glitch setting 19, 28\n"
     ]
    },
    {
     "name": "stderr",
     "output_type": "stream",
     "text": [
      "WARNING:root:SAM3U Serial buffers OVERRUN - data loss has occurred.\n",
      "WARNING:root:SAM3U Serial buffers OVERRUN - data loss has occurred.\n",
      "WARNING:root:SAM3U Serial buffers OVERRUN - data loss has occurred.\n",
      "WARNING:root:SAM3U Serial buffers OVERRUN - data loss has occurred.\n"
     ]
    },
    {
     "name": "stdout",
     "output_type": "stream",
     "text": [
      "Timeout: Skipping glitch setting 19, 29\n"
     ]
    },
    {
     "name": "stderr",
     "output_type": "stream",
     "text": [
      "WARNING:root:SAM3U Serial buffers OVERRUN - data loss has occurred.\n",
      "WARNING:root:SAM3U Serial buffers OVERRUN - data loss has occurred.\n",
      "WARNING:root:SAM3U Serial buffers OVERRUN - data loss has occurred.\n",
      "WARNING:root:SAM3U Serial buffers OVERRUN - data loss has occurred.\n",
      "WARNING:root:SAM3U Serial buffers OVERRUN - data loss has occurred.\n",
      "WARNING:root:SAM3U Serial buffers OVERRUN - data loss has occurred.\n"
     ]
    },
    {
     "name": "stdout",
     "output_type": "stream",
     "text": [
      "Timeout: Skipping glitch setting 19, 29\n"
     ]
    },
    {
     "name": "stderr",
     "output_type": "stream",
     "text": [
      "WARNING:root:SAM3U Serial buffers OVERRUN - data loss has occurred.\n",
      "WARNING:root:SAM3U Serial buffers OVERRUN - data loss has occurred.\n",
      "WARNING:root:SAM3U Serial buffers OVERRUN - data loss has occurred.\n",
      "WARNING:root:SAM3U Serial buffers OVERRUN - data loss has occurred.\n"
     ]
    },
    {
     "name": "stdout",
     "output_type": "stream",
     "text": [
      "Timeout: Skipping glitch setting 19, 29\n"
     ]
    },
    {
     "name": "stderr",
     "output_type": "stream",
     "text": [
      "WARNING:root:SAM3U Serial buffers OVERRUN - data loss has occurred.\n",
      "WARNING:root:SAM3U Serial buffers OVERRUN - data loss has occurred.\n",
      "WARNING:root:SAM3U Serial buffers OVERRUN - data loss has occurred.\n",
      "WARNING:root:SAM3U Serial buffers OVERRUN - data loss has occurred.\n",
      "WARNING:root:SAM3U Serial buffers OVERRUN - data loss has occurred.\n"
     ]
    },
    {
     "name": "stdout",
     "output_type": "stream",
     "text": [
      "Timeout: Skipping glitch setting 19, 29\n"
     ]
    },
    {
     "name": "stderr",
     "output_type": "stream",
     "text": [
      "WARNING:root:SAM3U Serial buffers OVERRUN - data loss has occurred.\n",
      "WARNING:root:SAM3U Serial buffers OVERRUN - data loss has occurred.\n",
      "WARNING:root:SAM3U Serial buffers OVERRUN - data loss has occurred.\n",
      "WARNING:root:SAM3U Serial buffers OVERRUN - data loss has occurred.\n",
      "WARNING:root:SAM3U Serial buffers OVERRUN - data loss has occurred.\n",
      "WARNING:root:SAM3U Serial buffers OVERRUN - data loss has occurred.\n",
      "WARNING:root:SAM3U Serial buffers OVERRUN - data loss has occurred.\n",
      "WARNING:root:SAM3U Serial buffers OVERRUN - data loss has occurred.\n"
     ]
    },
    {
     "name": "stdout",
     "output_type": "stream",
     "text": [
      "Timeout: Skipping glitch setting 19, 29\n"
     ]
    },
    {
     "name": "stderr",
     "output_type": "stream",
     "text": [
      "WARNING:root:SAM3U Serial buffers OVERRUN - data loss has occurred.\n",
      "WARNING:root:SAM3U Serial buffers OVERRUN - data loss has occurred.\n",
      "WARNING:root:SAM3U Serial buffers OVERRUN - data loss has occurred.\n",
      "WARNING:root:SAM3U Serial buffers OVERRUN - data loss has occurred.\n",
      "WARNING:root:SAM3U Serial buffers OVERRUN - data loss has occurred.\n",
      "WARNING:root:SAM3U Serial buffers OVERRUN - data loss has occurred.\n"
     ]
    },
    {
     "name": "stdout",
     "output_type": "stream",
     "text": [
      "Timeout: Skipping glitch setting 19, 30\n"
     ]
    },
    {
     "name": "stderr",
     "output_type": "stream",
     "text": [
      "WARNING:root:SAM3U Serial buffers OVERRUN - data loss has occurred.\n",
      "WARNING:root:SAM3U Serial buffers OVERRUN - data loss has occurred.\n",
      "WARNING:root:SAM3U Serial buffers OVERRUN - data loss has occurred.\n",
      "WARNING:root:SAM3U Serial buffers OVERRUN - data loss has occurred.\n"
     ]
    },
    {
     "name": "stdout",
     "output_type": "stream",
     "text": [
      "Timeout: Skipping glitch setting 19, 30\n"
     ]
    },
    {
     "name": "stderr",
     "output_type": "stream",
     "text": [
      "WARNING:root:SAM3U Serial buffers OVERRUN - data loss has occurred.\n",
      "WARNING:root:SAM3U Serial buffers OVERRUN - data loss has occurred.\n",
      "WARNING:root:SAM3U Serial buffers OVERRUN - data loss has occurred.\n",
      "WARNING:root:SAM3U Serial buffers OVERRUN - data loss has occurred.\n",
      "WARNING:root:SAM3U Serial buffers OVERRUN - data loss has occurred.\n",
      "WARNING:root:SAM3U Serial buffers OVERRUN - data loss has occurred.\n",
      "WARNING:root:SAM3U Serial buffers OVERRUN - data loss has occurred.\n",
      "WARNING:root:SAM3U Serial buffers OVERRUN - data loss has occurred.\n",
      "WARNING:root:SAM3U Serial buffers OVERRUN - data loss has occurred.\n",
      "WARNING:root:SAM3U Serial buffers OVERRUN - data loss has occurred.\n",
      "WARNING:root:SAM3U Serial buffers OVERRUN - data loss has occurred.\n"
     ]
    },
    {
     "name": "stdout",
     "output_type": "stream",
     "text": [
      "Timeout: Skipping glitch setting 19, 30\n"
     ]
    },
    {
     "name": "stderr",
     "output_type": "stream",
     "text": [
      "WARNING:root:SAM3U Serial buffers OVERRUN - data loss has occurred.\n",
      "WARNING:root:SAM3U Serial buffers OVERRUN - data loss has occurred.\n",
      "WARNING:root:SAM3U Serial buffers OVERRUN - data loss has occurred.\n",
      "WARNING:root:SAM3U Serial buffers OVERRUN - data loss has occurred.\n",
      "WARNING:root:SAM3U Serial buffers OVERRUN - data loss has occurred.\n",
      "WARNING:root:SAM3U Serial buffers OVERRUN - data loss has occurred.\n"
     ]
    },
    {
     "name": "stdout",
     "output_type": "stream",
     "text": [
      "Timeout: Skipping glitch setting 19, 30\n"
     ]
    },
    {
     "name": "stderr",
     "output_type": "stream",
     "text": [
      "WARNING:root:SAM3U Serial buffers OVERRUN - data loss has occurred.\n",
      "WARNING:root:SAM3U Serial buffers OVERRUN - data loss has occurred.\n",
      "WARNING:root:SAM3U Serial buffers OVERRUN - data loss has occurred.\n"
     ]
    },
    {
     "name": "stdout",
     "output_type": "stream",
     "text": [
      "Timeout: Skipping glitch setting 19, 30\n"
     ]
    },
    {
     "name": "stderr",
     "output_type": "stream",
     "text": [
      "WARNING:root:SAM3U Serial buffers OVERRUN - data loss has occurred.\n",
      "WARNING:root:SAM3U Serial buffers OVERRUN - data loss has occurred.\n",
      "WARNING:root:SAM3U Serial buffers OVERRUN - data loss has occurred.\n",
      "WARNING:root:SAM3U Serial buffers OVERRUN - data loss has occurred.\n",
      "WARNING:root:SAM3U Serial buffers OVERRUN - data loss has occurred.\n",
      "WARNING:root:SAM3U Serial buffers OVERRUN - data loss has occurred.\n",
      "WARNING:root:SAM3U Serial buffers OVERRUN - data loss has occurred.\n",
      "WARNING:root:SAM3U Serial buffers OVERRUN - data loss has occurred.\n",
      "WARNING:root:SAM3U Serial buffers OVERRUN - data loss has occurred.\n"
     ]
    },
    {
     "name": "stdout",
     "output_type": "stream",
     "text": [
      "Timeout: Skipping glitch setting 19, 31\n"
     ]
    },
    {
     "name": "stderr",
     "output_type": "stream",
     "text": [
      "WARNING:root:SAM3U Serial buffers OVERRUN - data loss has occurred.\n",
      "WARNING:root:SAM3U Serial buffers OVERRUN - data loss has occurred.\n",
      "WARNING:root:SAM3U Serial buffers OVERRUN - data loss has occurred.\n",
      "WARNING:root:SAM3U Serial buffers OVERRUN - data loss has occurred.\n",
      "WARNING:root:SAM3U Serial buffers OVERRUN - data loss has occurred.\n",
      "WARNING:root:SAM3U Serial buffers OVERRUN - data loss has occurred.\n",
      "WARNING:root:SAM3U Serial buffers OVERRUN - data loss has occurred.\n",
      "WARNING:root:SAM3U Serial buffers OVERRUN - data loss has occurred.\n",
      "WARNING:root:SAM3U Serial buffers OVERRUN - data loss has occurred.\n"
     ]
    },
    {
     "name": "stdout",
     "output_type": "stream",
     "text": [
      "Timeout: Skipping glitch setting 19, 31\n"
     ]
    },
    {
     "name": "stderr",
     "output_type": "stream",
     "text": [
      "WARNING:root:SAM3U Serial buffers OVERRUN - data loss has occurred.\n",
      "WARNING:root:SAM3U Serial buffers OVERRUN - data loss has occurred.\n",
      "WARNING:root:SAM3U Serial buffers OVERRUN - data loss has occurred.\n",
      "WARNING:root:SAM3U Serial buffers OVERRUN - data loss has occurred.\n",
      "WARNING:root:SAM3U Serial buffers OVERRUN - data loss has occurred.\n",
      "WARNING:root:SAM3U Serial buffers OVERRUN - data loss has occurred.\n"
     ]
    },
    {
     "name": "stdout",
     "output_type": "stream",
     "text": [
      "Timeout: Skipping glitch setting 19, 31\n"
     ]
    },
    {
     "name": "stderr",
     "output_type": "stream",
     "text": [
      "WARNING:root:SAM3U Serial buffers OVERRUN - data loss has occurred.\n",
      "WARNING:root:SAM3U Serial buffers OVERRUN - data loss has occurred.\n",
      "WARNING:root:SAM3U Serial buffers OVERRUN - data loss has occurred.\n",
      "WARNING:root:SAM3U Serial buffers OVERRUN - data loss has occurred.\n"
     ]
    },
    {
     "name": "stdout",
     "output_type": "stream",
     "text": [
      "Timeout: Skipping glitch setting 19, 31\n"
     ]
    },
    {
     "name": "stderr",
     "output_type": "stream",
     "text": [
      "WARNING:root:SAM3U Serial buffers OVERRUN - data loss has occurred.\n",
      "WARNING:root:SAM3U Serial buffers OVERRUN - data loss has occurred.\n"
     ]
    },
    {
     "name": "stdout",
     "output_type": "stream",
     "text": [
      "Timeout: Skipping glitch setting 19, 31\n"
     ]
    },
    {
     "name": "stderr",
     "output_type": "stream",
     "text": [
      "WARNING:root:SAM3U Serial buffers OVERRUN - data loss has occurred.\n",
      "WARNING:root:SAM3U Serial buffers OVERRUN - data loss has occurred.\n",
      "WARNING:root:SAM3U Serial buffers OVERRUN - data loss has occurred.\n"
     ]
    },
    {
     "name": "stdout",
     "output_type": "stream",
     "text": [
      "Timeout: Skipping glitch setting 19, 32\n"
     ]
    },
    {
     "name": "stderr",
     "output_type": "stream",
     "text": [
      "WARNING:root:SAM3U Serial buffers OVERRUN - data loss has occurred.\n"
     ]
    },
    {
     "name": "stdout",
     "output_type": "stream",
     "text": [
      "Timeout: Skipping glitch setting 19, 32\n"
     ]
    },
    {
     "name": "stderr",
     "output_type": "stream",
     "text": [
      "WARNING:root:SAM3U Serial buffers OVERRUN - data loss has occurred.\n",
      "WARNING:root:SAM3U Serial buffers OVERRUN - data loss has occurred.\n",
      "WARNING:root:SAM3U Serial buffers OVERRUN - data loss has occurred.\n",
      "WARNING:root:SAM3U Serial buffers OVERRUN - data loss has occurred.\n",
      "WARNING:root:SAM3U Serial buffers OVERRUN - data loss has occurred.\n",
      "WARNING:root:SAM3U Serial buffers OVERRUN - data loss has occurred.\n",
      "WARNING:root:SAM3U Serial buffers OVERRUN - data loss has occurred.\n"
     ]
    },
    {
     "name": "stdout",
     "output_type": "stream",
     "text": [
      "Timeout: Skipping glitch setting 19, 32\n"
     ]
    },
    {
     "name": "stderr",
     "output_type": "stream",
     "text": [
      "WARNING:root:SAM3U Serial buffers OVERRUN - data loss has occurred.\n",
      "WARNING:root:SAM3U Serial buffers OVERRUN - data loss has occurred.\n",
      "WARNING:root:SAM3U Serial buffers OVERRUN - data loss has occurred.\n",
      "WARNING:root:SAM3U Serial buffers OVERRUN - data loss has occurred.\n",
      "WARNING:root:SAM3U Serial buffers OVERRUN - data loss has occurred.\n",
      "WARNING:root:SAM3U Serial buffers OVERRUN - data loss has occurred.\n",
      "WARNING:root:SAM3U Serial buffers OVERRUN - data loss has occurred.\n"
     ]
    },
    {
     "name": "stdout",
     "output_type": "stream",
     "text": [
      "Timeout: Skipping glitch setting 19, 32\n"
     ]
    },
    {
     "name": "stderr",
     "output_type": "stream",
     "text": [
      "WARNING:root:SAM3U Serial buffers OVERRUN - data loss has occurred.\n",
      "WARNING:root:SAM3U Serial buffers OVERRUN - data loss has occurred.\n",
      "WARNING:root:SAM3U Serial buffers OVERRUN - data loss has occurred.\n",
      "WARNING:root:SAM3U Serial buffers OVERRUN - data loss has occurred.\n",
      "WARNING:root:SAM3U Serial buffers OVERRUN - data loss has occurred.\n",
      "WARNING:root:SAM3U Serial buffers OVERRUN - data loss has occurred.\n",
      "WARNING:root:SAM3U Serial buffers OVERRUN - data loss has occurred.\n",
      "WARNING:root:SAM3U Serial buffers OVERRUN - data loss has occurred.\n",
      "WARNING:root:SAM3U Serial buffers OVERRUN - data loss has occurred.\n"
     ]
    },
    {
     "name": "stdout",
     "output_type": "stream",
     "text": [
      "Timeout: Skipping glitch setting 19, 32\n"
     ]
    },
    {
     "name": "stderr",
     "output_type": "stream",
     "text": [
      "WARNING:root:SAM3U Serial buffers OVERRUN - data loss has occurred.\n",
      "WARNING:root:SAM3U Serial buffers OVERRUN - data loss has occurred.\n",
      "WARNING:root:SAM3U Serial buffers OVERRUN - data loss has occurred.\n"
     ]
    },
    {
     "name": "stdout",
     "output_type": "stream",
     "text": [
      "Timeout: Skipping glitch setting 19, 33\n"
     ]
    },
    {
     "name": "stderr",
     "output_type": "stream",
     "text": [
      "WARNING:root:SAM3U Serial buffers OVERRUN - data loss has occurred.\n",
      "WARNING:root:SAM3U Serial buffers OVERRUN - data loss has occurred.\n",
      "WARNING:root:SAM3U Serial buffers OVERRUN - data loss has occurred.\n",
      "WARNING:root:SAM3U Serial buffers OVERRUN - data loss has occurred.\n"
     ]
    },
    {
     "name": "stdout",
     "output_type": "stream",
     "text": [
      "Timeout: Skipping glitch setting 19, 33\n"
     ]
    },
    {
     "name": "stderr",
     "output_type": "stream",
     "text": [
      "WARNING:root:SAM3U Serial buffers OVERRUN - data loss has occurred.\n",
      "WARNING:root:SAM3U Serial buffers OVERRUN - data loss has occurred.\n",
      "WARNING:root:SAM3U Serial buffers OVERRUN - data loss has occurred.\n",
      "WARNING:root:SAM3U Serial buffers OVERRUN - data loss has occurred.\n"
     ]
    },
    {
     "name": "stdout",
     "output_type": "stream",
     "text": [
      "Timeout: Skipping glitch setting 19, 33\n"
     ]
    },
    {
     "name": "stderr",
     "output_type": "stream",
     "text": [
      "WARNING:root:SAM3U Serial buffers OVERRUN - data loss has occurred.\n",
      "WARNING:root:SAM3U Serial buffers OVERRUN - data loss has occurred.\n",
      "WARNING:root:SAM3U Serial buffers OVERRUN - data loss has occurred.\n",
      "WARNING:root:SAM3U Serial buffers OVERRUN - data loss has occurred.\n",
      "WARNING:root:SAM3U Serial buffers OVERRUN - data loss has occurred.\n",
      "WARNING:root:SAM3U Serial buffers OVERRUN - data loss has occurred.\n"
     ]
    },
    {
     "name": "stdout",
     "output_type": "stream",
     "text": [
      "Timeout: Skipping glitch setting 19, 33\n"
     ]
    },
    {
     "name": "stderr",
     "output_type": "stream",
     "text": [
      "WARNING:root:SAM3U Serial buffers OVERRUN - data loss has occurred.\n",
      "WARNING:root:SAM3U Serial buffers OVERRUN - data loss has occurred.\n",
      "WARNING:root:SAM3U Serial buffers OVERRUN - data loss has occurred.\n",
      "WARNING:root:SAM3U Serial buffers OVERRUN - data loss has occurred.\n"
     ]
    },
    {
     "name": "stdout",
     "output_type": "stream",
     "text": [
      "Timeout: Skipping glitch setting 19, 33\n"
     ]
    },
    {
     "name": "stderr",
     "output_type": "stream",
     "text": [
      "WARNING:root:SAM3U Serial buffers OVERRUN - data loss has occurred.\n",
      "WARNING:root:SAM3U Serial buffers OVERRUN - data loss has occurred.\n",
      "WARNING:root:SAM3U Serial buffers OVERRUN - data loss has occurred.\n",
      "WARNING:root:SAM3U Serial buffers OVERRUN - data loss has occurred.\n",
      "WARNING:root:SAM3U Serial buffers OVERRUN - data loss has occurred.\n",
      "WARNING:root:SAM3U Serial buffers OVERRUN - data loss has occurred.\n",
      "WARNING:root:SAM3U Serial buffers OVERRUN - data loss has occurred.\n"
     ]
    },
    {
     "name": "stdout",
     "output_type": "stream",
     "text": [
      "Timeout: Skipping glitch setting 19, 34\n"
     ]
    },
    {
     "name": "stderr",
     "output_type": "stream",
     "text": [
      "WARNING:root:SAM3U Serial buffers OVERRUN - data loss has occurred.\n",
      "WARNING:root:SAM3U Serial buffers OVERRUN - data loss has occurred.\n",
      "WARNING:root:SAM3U Serial buffers OVERRUN - data loss has occurred.\n",
      "WARNING:root:SAM3U Serial buffers OVERRUN - data loss has occurred.\n",
      "WARNING:root:SAM3U Serial buffers OVERRUN - data loss has occurred.\n",
      "WARNING:root:SAM3U Serial buffers OVERRUN - data loss has occurred.\n",
      "WARNING:root:SAM3U Serial buffers OVERRUN - data loss has occurred.\n",
      "WARNING:root:SAM3U Serial buffers OVERRUN - data loss has occurred.\n"
     ]
    },
    {
     "name": "stdout",
     "output_type": "stream",
     "text": [
      "Timeout: Skipping glitch setting 19, 34\n"
     ]
    },
    {
     "name": "stderr",
     "output_type": "stream",
     "text": [
      "WARNING:root:SAM3U Serial buffers OVERRUN - data loss has occurred.\n",
      "WARNING:root:SAM3U Serial buffers OVERRUN - data loss has occurred.\n",
      "WARNING:root:SAM3U Serial buffers OVERRUN - data loss has occurred.\n",
      "WARNING:root:SAM3U Serial buffers OVERRUN - data loss has occurred.\n"
     ]
    },
    {
     "name": "stdout",
     "output_type": "stream",
     "text": [
      "Timeout: Skipping glitch setting 19, 34\n"
     ]
    },
    {
     "name": "stderr",
     "output_type": "stream",
     "text": [
      "WARNING:root:SAM3U Serial buffers OVERRUN - data loss has occurred.\n",
      "WARNING:root:SAM3U Serial buffers OVERRUN - data loss has occurred.\n",
      "WARNING:root:SAM3U Serial buffers OVERRUN - data loss has occurred.\n",
      "WARNING:root:SAM3U Serial buffers OVERRUN - data loss has occurred.\n",
      "WARNING:root:SAM3U Serial buffers OVERRUN - data loss has occurred.\n",
      "WARNING:root:SAM3U Serial buffers OVERRUN - data loss has occurred.\n"
     ]
    },
    {
     "name": "stdout",
     "output_type": "stream",
     "text": [
      "Timeout: Skipping glitch setting 19, 34\n"
     ]
    },
    {
     "name": "stderr",
     "output_type": "stream",
     "text": [
      "WARNING:root:SAM3U Serial buffers OVERRUN - data loss has occurred.\n",
      "WARNING:root:SAM3U Serial buffers OVERRUN - data loss has occurred.\n",
      "WARNING:root:SAM3U Serial buffers OVERRUN - data loss has occurred.\n",
      "WARNING:root:SAM3U Serial buffers OVERRUN - data loss has occurred.\n"
     ]
    },
    {
     "name": "stdout",
     "output_type": "stream",
     "text": [
      "Timeout: Skipping glitch setting 19, 34\n"
     ]
    },
    {
     "name": "stderr",
     "output_type": "stream",
     "text": [
      "WARNING:root:SAM3U Serial buffers OVERRUN - data loss has occurred.\n",
      "WARNING:root:SAM3U Serial buffers OVERRUN - data loss has occurred.\n",
      "WARNING:root:SAM3U Serial buffers OVERRUN - data loss has occurred.\n"
     ]
    },
    {
     "name": "stdout",
     "output_type": "stream",
     "text": [
      "Timeout: Skipping glitch setting 19, 35\n"
     ]
    },
    {
     "name": "stderr",
     "output_type": "stream",
     "text": [
      "WARNING:root:SAM3U Serial buffers OVERRUN - data loss has occurred.\n",
      "WARNING:root:SAM3U Serial buffers OVERRUN - data loss has occurred.\n",
      "WARNING:root:SAM3U Serial buffers OVERRUN - data loss has occurred.\n",
      "WARNING:root:SAM3U Serial buffers OVERRUN - data loss has occurred.\n",
      "WARNING:root:SAM3U Serial buffers OVERRUN - data loss has occurred.\n",
      "WARNING:root:SAM3U Serial buffers OVERRUN - data loss has occurred.\n",
      "WARNING:root:SAM3U Serial buffers OVERRUN - data loss has occurred.\n",
      "WARNING:root:SAM3U Serial buffers OVERRUN - data loss has occurred.\n"
     ]
    },
    {
     "name": "stdout",
     "output_type": "stream",
     "text": [
      "Timeout: Skipping glitch setting 19, 35\n"
     ]
    },
    {
     "name": "stderr",
     "output_type": "stream",
     "text": [
      "WARNING:root:SAM3U Serial buffers OVERRUN - data loss has occurred.\n",
      "WARNING:root:SAM3U Serial buffers OVERRUN - data loss has occurred.\n"
     ]
    },
    {
     "name": "stdout",
     "output_type": "stream",
     "text": [
      "Timeout: Skipping glitch setting 19, 35\n"
     ]
    },
    {
     "name": "stderr",
     "output_type": "stream",
     "text": [
      "WARNING:root:SAM3U Serial buffers OVERRUN - data loss has occurred.\n",
      "WARNING:root:SAM3U Serial buffers OVERRUN - data loss has occurred.\n",
      "WARNING:root:SAM3U Serial buffers OVERRUN - data loss has occurred.\n",
      "WARNING:root:SAM3U Serial buffers OVERRUN - data loss has occurred.\n",
      "WARNING:root:SAM3U Serial buffers OVERRUN - data loss has occurred.\n",
      "WARNING:root:SAM3U Serial buffers OVERRUN - data loss has occurred.\n"
     ]
    },
    {
     "name": "stdout",
     "output_type": "stream",
     "text": [
      "Timeout: Skipping glitch setting 19, 35\n"
     ]
    },
    {
     "name": "stderr",
     "output_type": "stream",
     "text": [
      "WARNING:root:SAM3U Serial buffers OVERRUN - data loss has occurred.\n",
      "WARNING:root:SAM3U Serial buffers OVERRUN - data loss has occurred.\n",
      "WARNING:root:SAM3U Serial buffers OVERRUN - data loss has occurred.\n"
     ]
    },
    {
     "name": "stdout",
     "output_type": "stream",
     "text": [
      "Timeout: Skipping glitch setting 19, 35\n"
     ]
    },
    {
     "name": "stderr",
     "output_type": "stream",
     "text": [
      "WARNING:root:SAM3U Serial buffers OVERRUN - data loss has occurred.\n",
      "WARNING:root:SAM3U Serial buffers OVERRUN - data loss has occurred.\n",
      "WARNING:root:SAM3U Serial buffers OVERRUN - data loss has occurred.\n",
      "WARNING:root:SAM3U Serial buffers OVERRUN - data loss has occurred.\n",
      "WARNING:root:SAM3U Serial buffers OVERRUN - data loss has occurred.\n",
      "WARNING:root:SAM3U Serial buffers OVERRUN - data loss has occurred.\n",
      "WARNING:root:SAM3U Serial buffers OVERRUN - data loss has occurred.\n"
     ]
    },
    {
     "name": "stdout",
     "output_type": "stream",
     "text": [
      "Timeout: Skipping glitch setting 19, 36\n"
     ]
    },
    {
     "name": "stderr",
     "output_type": "stream",
     "text": [
      "WARNING:root:SAM3U Serial buffers OVERRUN - data loss has occurred.\n",
      "WARNING:root:SAM3U Serial buffers OVERRUN - data loss has occurred.\n",
      "WARNING:root:SAM3U Serial buffers OVERRUN - data loss has occurred.\n",
      "WARNING:root:SAM3U Serial buffers OVERRUN - data loss has occurred.\n"
     ]
    },
    {
     "name": "stdout",
     "output_type": "stream",
     "text": [
      "Timeout: Skipping glitch setting 19, 36\n"
     ]
    },
    {
     "name": "stderr",
     "output_type": "stream",
     "text": [
      "WARNING:root:SAM3U Serial buffers OVERRUN - data loss has occurred.\n",
      "WARNING:root:SAM3U Serial buffers OVERRUN - data loss has occurred.\n",
      "WARNING:root:SAM3U Serial buffers OVERRUN - data loss has occurred.\n",
      "WARNING:root:SAM3U Serial buffers OVERRUN - data loss has occurred.\n",
      "WARNING:root:SAM3U Serial buffers OVERRUN - data loss has occurred.\n",
      "WARNING:root:SAM3U Serial buffers OVERRUN - data loss has occurred.\n",
      "WARNING:root:SAM3U Serial buffers OVERRUN - data loss has occurred.\n",
      "WARNING:root:SAM3U Serial buffers OVERRUN - data loss has occurred.\n",
      "WARNING:root:SAM3U Serial buffers OVERRUN - data loss has occurred.\n"
     ]
    },
    {
     "name": "stdout",
     "output_type": "stream",
     "text": [
      "Timeout: Skipping glitch setting 19, 36\n"
     ]
    },
    {
     "name": "stderr",
     "output_type": "stream",
     "text": [
      "WARNING:root:SAM3U Serial buffers OVERRUN - data loss has occurred.\n",
      "WARNING:root:SAM3U Serial buffers OVERRUN - data loss has occurred.\n",
      "WARNING:root:SAM3U Serial buffers OVERRUN - data loss has occurred.\n",
      "WARNING:root:SAM3U Serial buffers OVERRUN - data loss has occurred.\n",
      "WARNING:root:SAM3U Serial buffers OVERRUN - data loss has occurred.\n"
     ]
    },
    {
     "name": "stdout",
     "output_type": "stream",
     "text": [
      "Timeout: Skipping glitch setting 19, 36\n"
     ]
    },
    {
     "name": "stderr",
     "output_type": "stream",
     "text": [
      "WARNING:root:SAM3U Serial buffers OVERRUN - data loss has occurred.\n",
      "WARNING:root:SAM3U Serial buffers OVERRUN - data loss has occurred.\n",
      "WARNING:root:SAM3U Serial buffers OVERRUN - data loss has occurred.\n",
      "WARNING:root:SAM3U Serial buffers OVERRUN - data loss has occurred.\n",
      "WARNING:root:SAM3U Serial buffers OVERRUN - data loss has occurred.\n",
      "WARNING:root:SAM3U Serial buffers OVERRUN - data loss has occurred.\n"
     ]
    },
    {
     "name": "stdout",
     "output_type": "stream",
     "text": [
      "Timeout: Skipping glitch setting 19, 36\n"
     ]
    },
    {
     "name": "stderr",
     "output_type": "stream",
     "text": [
      "WARNING:root:SAM3U Serial buffers OVERRUN - data loss has occurred.\n",
      "WARNING:root:SAM3U Serial buffers OVERRUN - data loss has occurred.\n",
      "WARNING:root:SAM3U Serial buffers OVERRUN - data loss has occurred.\n",
      "WARNING:root:SAM3U Serial buffers OVERRUN - data loss has occurred.\n",
      "WARNING:root:SAM3U Serial buffers OVERRUN - data loss has occurred.\n"
     ]
    },
    {
     "name": "stdout",
     "output_type": "stream",
     "text": [
      "Timeout: Skipping glitch setting 19, 37\n"
     ]
    },
    {
     "name": "stderr",
     "output_type": "stream",
     "text": [
      "WARNING:root:SAM3U Serial buffers OVERRUN - data loss has occurred.\n",
      "WARNING:root:SAM3U Serial buffers OVERRUN - data loss has occurred.\n",
      "WARNING:root:SAM3U Serial buffers OVERRUN - data loss has occurred.\n",
      "WARNING:root:SAM3U Serial buffers OVERRUN - data loss has occurred.\n",
      "WARNING:root:SAM3U Serial buffers OVERRUN - data loss has occurred.\n",
      "WARNING:root:SAM3U Serial buffers OVERRUN - data loss has occurred.\n",
      "WARNING:root:SAM3U Serial buffers OVERRUN - data loss has occurred.\n",
      "WARNING:root:SAM3U Serial buffers OVERRUN - data loss has occurred.\n",
      "WARNING:root:SAM3U Serial buffers OVERRUN - data loss has occurred.\n"
     ]
    },
    {
     "name": "stdout",
     "output_type": "stream",
     "text": [
      "Timeout: Skipping glitch setting 19, 37\n"
     ]
    },
    {
     "name": "stderr",
     "output_type": "stream",
     "text": [
      "WARNING:root:SAM3U Serial buffers OVERRUN - data loss has occurred.\n",
      "WARNING:root:SAM3U Serial buffers OVERRUN - data loss has occurred.\n",
      "WARNING:root:SAM3U Serial buffers OVERRUN - data loss has occurred.\n",
      "WARNING:root:SAM3U Serial buffers OVERRUN - data loss has occurred.\n",
      "WARNING:root:SAM3U Serial buffers OVERRUN - data loss has occurred.\n",
      "WARNING:root:SAM3U Serial buffers OVERRUN - data loss has occurred.\n",
      "WARNING:root:SAM3U Serial buffers OVERRUN - data loss has occurred.\n"
     ]
    },
    {
     "name": "stdout",
     "output_type": "stream",
     "text": [
      "Timeout: Skipping glitch setting 19, 37\n"
     ]
    },
    {
     "name": "stderr",
     "output_type": "stream",
     "text": [
      "WARNING:root:SAM3U Serial buffers OVERRUN - data loss has occurred.\n",
      "WARNING:root:SAM3U Serial buffers OVERRUN - data loss has occurred.\n",
      "WARNING:root:SAM3U Serial buffers OVERRUN - data loss has occurred.\n",
      "WARNING:root:SAM3U Serial buffers OVERRUN - data loss has occurred.\n",
      "WARNING:root:SAM3U Serial buffers OVERRUN - data loss has occurred.\n"
     ]
    },
    {
     "name": "stdout",
     "output_type": "stream",
     "text": [
      "Timeout: Skipping glitch setting 19, 37\n"
     ]
    },
    {
     "name": "stderr",
     "output_type": "stream",
     "text": [
      "WARNING:root:SAM3U Serial buffers OVERRUN - data loss has occurred.\n",
      "WARNING:root:SAM3U Serial buffers OVERRUN - data loss has occurred.\n",
      "WARNING:root:SAM3U Serial buffers OVERRUN - data loss has occurred.\n",
      "WARNING:root:SAM3U Serial buffers OVERRUN - data loss has occurred.\n"
     ]
    },
    {
     "name": "stdout",
     "output_type": "stream",
     "text": [
      "Timeout: Skipping glitch setting 19, 37\n"
     ]
    },
    {
     "name": "stderr",
     "output_type": "stream",
     "text": [
      "WARNING:root:SAM3U Serial buffers OVERRUN - data loss has occurred.\n",
      "WARNING:root:SAM3U Serial buffers OVERRUN - data loss has occurred.\n",
      "WARNING:root:SAM3U Serial buffers OVERRUN - data loss has occurred.\n",
      "WARNING:root:SAM3U Serial buffers OVERRUN - data loss has occurred.\n"
     ]
    },
    {
     "name": "stdout",
     "output_type": "stream",
     "text": [
      "Timeout: Skipping glitch setting 19, 38\n"
     ]
    },
    {
     "name": "stderr",
     "output_type": "stream",
     "text": [
      "WARNING:root:SAM3U Serial buffers OVERRUN - data loss has occurred.\n",
      "WARNING:root:SAM3U Serial buffers OVERRUN - data loss has occurred.\n",
      "WARNING:root:SAM3U Serial buffers OVERRUN - data loss has occurred.\n",
      "WARNING:root:SAM3U Serial buffers OVERRUN - data loss has occurred.\n",
      "WARNING:root:SAM3U Serial buffers OVERRUN - data loss has occurred.\n",
      "WARNING:root:SAM3U Serial buffers OVERRUN - data loss has occurred.\n",
      "WARNING:root:SAM3U Serial buffers OVERRUN - data loss has occurred.\n",
      "WARNING:root:SAM3U Serial buffers OVERRUN - data loss has occurred.\n"
     ]
    },
    {
     "name": "stdout",
     "output_type": "stream",
     "text": [
      "Timeout: Skipping glitch setting 19, 38\n"
     ]
    },
    {
     "name": "stderr",
     "output_type": "stream",
     "text": [
      "WARNING:root:SAM3U Serial buffers OVERRUN - data loss has occurred.\n",
      "WARNING:root:SAM3U Serial buffers OVERRUN - data loss has occurred.\n",
      "WARNING:root:SAM3U Serial buffers OVERRUN - data loss has occurred.\n",
      "WARNING:root:SAM3U Serial buffers OVERRUN - data loss has occurred.\n"
     ]
    },
    {
     "name": "stdout",
     "output_type": "stream",
     "text": [
      "Timeout: Skipping glitch setting 19, 38\n"
     ]
    },
    {
     "name": "stderr",
     "output_type": "stream",
     "text": [
      "WARNING:root:SAM3U Serial buffers OVERRUN - data loss has occurred.\n",
      "WARNING:root:SAM3U Serial buffers OVERRUN - data loss has occurred.\n",
      "WARNING:root:SAM3U Serial buffers OVERRUN - data loss has occurred.\n",
      "WARNING:root:SAM3U Serial buffers OVERRUN - data loss has occurred.\n",
      "WARNING:root:SAM3U Serial buffers OVERRUN - data loss has occurred.\n",
      "WARNING:root:SAM3U Serial buffers OVERRUN - data loss has occurred.\n",
      "WARNING:root:SAM3U Serial buffers OVERRUN - data loss has occurred.\n",
      "WARNING:root:SAM3U Serial buffers OVERRUN - data loss has occurred.\n",
      "WARNING:root:SAM3U Serial buffers OVERRUN - data loss has occurred.\n",
      "WARNING:root:SAM3U Serial buffers OVERRUN - data loss has occurred.\n",
      "WARNING:root:SAM3U Serial buffers OVERRUN - data loss has occurred.\n"
     ]
    },
    {
     "name": "stdout",
     "output_type": "stream",
     "text": [
      "Timeout: Skipping glitch setting 19, 38\n"
     ]
    },
    {
     "name": "stderr",
     "output_type": "stream",
     "text": [
      "WARNING:root:SAM3U Serial buffers OVERRUN - data loss has occurred.\n",
      "WARNING:root:SAM3U Serial buffers OVERRUN - data loss has occurred.\n",
      "WARNING:root:SAM3U Serial buffers OVERRUN - data loss has occurred.\n",
      "WARNING:root:SAM3U Serial buffers OVERRUN - data loss has occurred.\n",
      "WARNING:root:SAM3U Serial buffers OVERRUN - data loss has occurred.\n",
      "WARNING:root:SAM3U Serial buffers OVERRUN - data loss has occurred.\n",
      "WARNING:root:SAM3U Serial buffers OVERRUN - data loss has occurred.\n"
     ]
    },
    {
     "name": "stdout",
     "output_type": "stream",
     "text": [
      "Timeout: Skipping glitch setting 19, 38\n"
     ]
    },
    {
     "name": "stderr",
     "output_type": "stream",
     "text": [
      "WARNING:root:SAM3U Serial buffers OVERRUN - data loss has occurred.\n",
      "WARNING:root:SAM3U Serial buffers OVERRUN - data loss has occurred.\n",
      "WARNING:root:SAM3U Serial buffers OVERRUN - data loss has occurred.\n",
      "WARNING:root:SAM3U Serial buffers OVERRUN - data loss has occurred.\n",
      "WARNING:root:SAM3U Serial buffers OVERRUN - data loss has occurred.\n",
      "WARNING:root:SAM3U Serial buffers OVERRUN - data loss has occurred.\n",
      "WARNING:root:SAM3U Serial buffers OVERRUN - data loss has occurred.\n"
     ]
    },
    {
     "name": "stdout",
     "output_type": "stream",
     "text": [
      "Timeout: Skipping glitch setting 19, 39\n"
     ]
    },
    {
     "name": "stderr",
     "output_type": "stream",
     "text": [
      "WARNING:root:SAM3U Serial buffers OVERRUN - data loss has occurred.\n",
      "WARNING:root:SAM3U Serial buffers OVERRUN - data loss has occurred.\n",
      "WARNING:root:SAM3U Serial buffers OVERRUN - data loss has occurred.\n",
      "WARNING:root:SAM3U Serial buffers OVERRUN - data loss has occurred.\n",
      "WARNING:root:SAM3U Serial buffers OVERRUN - data loss has occurred.\n",
      "WARNING:root:SAM3U Serial buffers OVERRUN - data loss has occurred.\n",
      "WARNING:root:SAM3U Serial buffers OVERRUN - data loss has occurred.\n",
      "WARNING:root:SAM3U Serial buffers OVERRUN - data loss has occurred.\n",
      "WARNING:root:SAM3U Serial buffers OVERRUN - data loss has occurred.\n"
     ]
    },
    {
     "name": "stdout",
     "output_type": "stream",
     "text": [
      "Timeout: Skipping glitch setting 19, 39\n"
     ]
    },
    {
     "name": "stderr",
     "output_type": "stream",
     "text": [
      "WARNING:root:SAM3U Serial buffers OVERRUN - data loss has occurred.\n",
      "WARNING:root:SAM3U Serial buffers OVERRUN - data loss has occurred.\n",
      "WARNING:root:SAM3U Serial buffers OVERRUN - data loss has occurred.\n",
      "WARNING:root:SAM3U Serial buffers OVERRUN - data loss has occurred.\n",
      "WARNING:root:SAM3U Serial buffers OVERRUN - data loss has occurred.\n",
      "WARNING:root:SAM3U Serial buffers OVERRUN - data loss has occurred.\n"
     ]
    },
    {
     "name": "stdout",
     "output_type": "stream",
     "text": [
      "Timeout: Skipping glitch setting 19, 39\n"
     ]
    },
    {
     "name": "stderr",
     "output_type": "stream",
     "text": [
      "WARNING:root:SAM3U Serial buffers OVERRUN - data loss has occurred.\n",
      "WARNING:root:SAM3U Serial buffers OVERRUN - data loss has occurred.\n",
      "WARNING:root:SAM3U Serial buffers OVERRUN - data loss has occurred.\n",
      "WARNING:root:SAM3U Serial buffers OVERRUN - data loss has occurred.\n",
      "WARNING:root:SAM3U Serial buffers OVERRUN - data loss has occurred.\n",
      "WARNING:root:SAM3U Serial buffers OVERRUN - data loss has occurred.\n",
      "WARNING:root:SAM3U Serial buffers OVERRUN - data loss has occurred.\n"
     ]
    },
    {
     "name": "stdout",
     "output_type": "stream",
     "text": [
      "Timeout: Skipping glitch setting 19, 39\n"
     ]
    },
    {
     "name": "stderr",
     "output_type": "stream",
     "text": [
      "WARNING:root:SAM3U Serial buffers OVERRUN - data loss has occurred.\n",
      "WARNING:root:SAM3U Serial buffers OVERRUN - data loss has occurred.\n",
      "WARNING:root:SAM3U Serial buffers OVERRUN - data loss has occurred.\n",
      "WARNING:root:SAM3U Serial buffers OVERRUN - data loss has occurred.\n",
      "WARNING:root:SAM3U Serial buffers OVERRUN - data loss has occurred.\n",
      "WARNING:root:SAM3U Serial buffers OVERRUN - data loss has occurred.\n",
      "WARNING:root:SAM3U Serial buffers OVERRUN - data loss has occurred.\n"
     ]
    },
    {
     "name": "stdout",
     "output_type": "stream",
     "text": [
      "Timeout: Skipping glitch setting 19, 39\n"
     ]
    },
    {
     "name": "stderr",
     "output_type": "stream",
     "text": [
      "WARNING:root:SAM3U Serial buffers OVERRUN - data loss has occurred.\n",
      "WARNING:root:SAM3U Serial buffers OVERRUN - data loss has occurred.\n",
      "WARNING:root:SAM3U Serial buffers OVERRUN - data loss has occurred.\n",
      "WARNING:root:SAM3U Serial buffers OVERRUN - data loss has occurred.\n",
      "WARNING:root:SAM3U Serial buffers OVERRUN - data loss has occurred.\n",
      "WARNING:root:SAM3U Serial buffers OVERRUN - data loss has occurred.\n",
      "WARNING:root:SAM3U Serial buffers OVERRUN - data loss has occurred.\n",
      "WARNING:root:SAM3U Serial buffers OVERRUN - data loss has occurred.\n",
      "WARNING:root:SAM3U Serial buffers OVERRUN - data loss has occurred.\n",
      "WARNING:root:SAM3U Serial buffers OVERRUN - data loss has occurred.\n",
      "WARNING:root:SAM3U Serial buffers OVERRUN - data loss has occurred.\n",
      "WARNING:root:SAM3U Serial buffers OVERRUN - data loss has occurred.\n"
     ]
    },
    {
     "name": "stdout",
     "output_type": "stream",
     "text": [
      "Timeout: Skipping glitch setting 19, 40\n"
     ]
    },
    {
     "name": "stderr",
     "output_type": "stream",
     "text": [
      "WARNING:root:SAM3U Serial buffers OVERRUN - data loss has occurred.\n",
      "WARNING:root:SAM3U Serial buffers OVERRUN - data loss has occurred.\n",
      "WARNING:root:SAM3U Serial buffers OVERRUN - data loss has occurred.\n",
      "WARNING:root:SAM3U Serial buffers OVERRUN - data loss has occurred.\n",
      "WARNING:root:SAM3U Serial buffers OVERRUN - data loss has occurred.\n",
      "WARNING:root:SAM3U Serial buffers OVERRUN - data loss has occurred.\n",
      "WARNING:root:SAM3U Serial buffers OVERRUN - data loss has occurred.\n",
      "WARNING:root:SAM3U Serial buffers OVERRUN - data loss has occurred.\n"
     ]
    },
    {
     "name": "stdout",
     "output_type": "stream",
     "text": [
      "Timeout: Skipping glitch setting 19, 40\n"
     ]
    },
    {
     "name": "stderr",
     "output_type": "stream",
     "text": [
      "WARNING:root:SAM3U Serial buffers OVERRUN - data loss has occurred.\n",
      "WARNING:root:SAM3U Serial buffers OVERRUN - data loss has occurred.\n",
      "WARNING:root:SAM3U Serial buffers OVERRUN - data loss has occurred.\n",
      "WARNING:root:SAM3U Serial buffers OVERRUN - data loss has occurred.\n",
      "WARNING:root:SAM3U Serial buffers OVERRUN - data loss has occurred.\n"
     ]
    },
    {
     "name": "stdout",
     "output_type": "stream",
     "text": [
      "Timeout: Skipping glitch setting 19, 40\n"
     ]
    },
    {
     "name": "stderr",
     "output_type": "stream",
     "text": [
      "WARNING:root:SAM3U Serial buffers OVERRUN - data loss has occurred.\n",
      "WARNING:root:SAM3U Serial buffers OVERRUN - data loss has occurred.\n",
      "WARNING:root:SAM3U Serial buffers OVERRUN - data loss has occurred.\n",
      "WARNING:root:SAM3U Serial buffers OVERRUN - data loss has occurred.\n",
      "WARNING:root:SAM3U Serial buffers OVERRUN - data loss has occurred.\n"
     ]
    },
    {
     "name": "stdout",
     "output_type": "stream",
     "text": [
      "Timeout: Skipping glitch setting 19, 40\n"
     ]
    },
    {
     "name": "stderr",
     "output_type": "stream",
     "text": [
      "WARNING:root:SAM3U Serial buffers OVERRUN - data loss has occurred.\n",
      "WARNING:root:SAM3U Serial buffers OVERRUN - data loss has occurred.\n",
      "WARNING:root:SAM3U Serial buffers OVERRUN - data loss has occurred.\n",
      "WARNING:root:SAM3U Serial buffers OVERRUN - data loss has occurred.\n",
      "WARNING:root:SAM3U Serial buffers OVERRUN - data loss has occurred.\n"
     ]
    },
    {
     "name": "stdout",
     "output_type": "stream",
     "text": [
      "Timeout: Skipping glitch setting 19, 40\n"
     ]
    },
    {
     "name": "stderr",
     "output_type": "stream",
     "text": [
      "WARNING:root:SAM3U Serial buffers OVERRUN - data loss has occurred.\n",
      "WARNING:root:SAM3U Serial buffers OVERRUN - data loss has occurred.\n",
      "WARNING:root:SAM3U Serial buffers OVERRUN - data loss has occurred.\n",
      "WARNING:root:SAM3U Serial buffers OVERRUN - data loss has occurred.\n",
      "WARNING:root:SAM3U Serial buffers OVERRUN - data loss has occurred.\n",
      "WARNING:root:SAM3U Serial buffers OVERRUN - data loss has occurred.\n",
      "WARNING:root:SAM3U Serial buffers OVERRUN - data loss has occurred.\n",
      "WARNING:root:SAM3U Serial buffers OVERRUN - data loss has occurred.\n",
      "WARNING:root:SAM3U Serial buffers OVERRUN - data loss has occurred.\n",
      "WARNING:root:SAM3U Serial buffers OVERRUN - data loss has occurred.\n"
     ]
    },
    {
     "name": "stdout",
     "output_type": "stream",
     "text": [
      "Timeout: Skipping glitch setting 19, 41\n"
     ]
    },
    {
     "name": "stderr",
     "output_type": "stream",
     "text": [
      "WARNING:root:SAM3U Serial buffers OVERRUN - data loss has occurred.\n",
      "WARNING:root:SAM3U Serial buffers OVERRUN - data loss has occurred.\n",
      "WARNING:root:SAM3U Serial buffers OVERRUN - data loss has occurred.\n",
      "WARNING:root:SAM3U Serial buffers OVERRUN - data loss has occurred.\n"
     ]
    },
    {
     "name": "stdout",
     "output_type": "stream",
     "text": [
      "Timeout: Skipping glitch setting 19, 41\n"
     ]
    },
    {
     "name": "stderr",
     "output_type": "stream",
     "text": [
      "WARNING:root:SAM3U Serial buffers OVERRUN - data loss has occurred.\n",
      "WARNING:root:SAM3U Serial buffers OVERRUN - data loss has occurred.\n",
      "WARNING:root:SAM3U Serial buffers OVERRUN - data loss has occurred.\n",
      "WARNING:root:SAM3U Serial buffers OVERRUN - data loss has occurred.\n",
      "WARNING:root:SAM3U Serial buffers OVERRUN - data loss has occurred.\n",
      "WARNING:root:SAM3U Serial buffers OVERRUN - data loss has occurred.\n"
     ]
    },
    {
     "name": "stdout",
     "output_type": "stream",
     "text": [
      "Timeout: Skipping glitch setting 19, 41\n"
     ]
    },
    {
     "name": "stderr",
     "output_type": "stream",
     "text": [
      "WARNING:root:SAM3U Serial buffers OVERRUN - data loss has occurred.\n",
      "WARNING:root:SAM3U Serial buffers OVERRUN - data loss has occurred.\n",
      "WARNING:root:SAM3U Serial buffers OVERRUN - data loss has occurred.\n",
      "WARNING:root:SAM3U Serial buffers OVERRUN - data loss has occurred.\n",
      "WARNING:root:SAM3U Serial buffers OVERRUN - data loss has occurred.\n",
      "WARNING:root:SAM3U Serial buffers OVERRUN - data loss has occurred.\n",
      "WARNING:root:SAM3U Serial buffers OVERRUN - data loss has occurred.\n",
      "WARNING:root:SAM3U Serial buffers OVERRUN - data loss has occurred.\n"
     ]
    },
    {
     "name": "stdout",
     "output_type": "stream",
     "text": [
      "Timeout: Skipping glitch setting 19, 41\n"
     ]
    },
    {
     "name": "stderr",
     "output_type": "stream",
     "text": [
      "WARNING:root:SAM3U Serial buffers OVERRUN - data loss has occurred.\n",
      "WARNING:root:SAM3U Serial buffers OVERRUN - data loss has occurred.\n",
      "WARNING:root:SAM3U Serial buffers OVERRUN - data loss has occurred.\n"
     ]
    },
    {
     "name": "stdout",
     "output_type": "stream",
     "text": [
      "Timeout: Skipping glitch setting 19, 41\n"
     ]
    },
    {
     "name": "stderr",
     "output_type": "stream",
     "text": [
      "WARNING:root:SAM3U Serial buffers OVERRUN - data loss has occurred.\n",
      "WARNING:root:SAM3U Serial buffers OVERRUN - data loss has occurred.\n",
      "WARNING:root:SAM3U Serial buffers OVERRUN - data loss has occurred.\n",
      "WARNING:root:SAM3U Serial buffers OVERRUN - data loss has occurred.\n",
      "WARNING:root:SAM3U Serial buffers OVERRUN - data loss has occurred.\n",
      "WARNING:root:SAM3U Serial buffers OVERRUN - data loss has occurred.\n",
      "WARNING:root:SAM3U Serial buffers OVERRUN - data loss has occurred.\n"
     ]
    },
    {
     "name": "stdout",
     "output_type": "stream",
     "text": [
      "Timeout: Skipping glitch setting 19, 42\n"
     ]
    },
    {
     "name": "stderr",
     "output_type": "stream",
     "text": [
      "WARNING:root:SAM3U Serial buffers OVERRUN - data loss has occurred.\n",
      "WARNING:root:SAM3U Serial buffers OVERRUN - data loss has occurred.\n",
      "WARNING:root:SAM3U Serial buffers OVERRUN - data loss has occurred.\n",
      "WARNING:root:SAM3U Serial buffers OVERRUN - data loss has occurred.\n",
      "WARNING:root:SAM3U Serial buffers OVERRUN - data loss has occurred.\n",
      "WARNING:root:SAM3U Serial buffers OVERRUN - data loss has occurred.\n",
      "WARNING:root:SAM3U Serial buffers OVERRUN - data loss has occurred.\n",
      "WARNING:root:SAM3U Serial buffers OVERRUN - data loss has occurred.\n",
      "WARNING:root:SAM3U Serial buffers OVERRUN - data loss has occurred.\n",
      "WARNING:root:SAM3U Serial buffers OVERRUN - data loss has occurred.\n",
      "WARNING:root:SAM3U Serial buffers OVERRUN - data loss has occurred.\n",
      "WARNING:root:SAM3U Serial buffers OVERRUN - data loss has occurred.\n",
      "WARNING:root:SAM3U Serial buffers OVERRUN - data loss has occurred.\n"
     ]
    },
    {
     "name": "stdout",
     "output_type": "stream",
     "text": [
      "Timeout: Skipping glitch setting 19, 42\n"
     ]
    },
    {
     "name": "stderr",
     "output_type": "stream",
     "text": [
      "WARNING:root:SAM3U Serial buffers OVERRUN - data loss has occurred.\n",
      "WARNING:root:SAM3U Serial buffers OVERRUN - data loss has occurred.\n",
      "WARNING:root:SAM3U Serial buffers OVERRUN - data loss has occurred.\n",
      "WARNING:root:SAM3U Serial buffers OVERRUN - data loss has occurred.\n"
     ]
    },
    {
     "name": "stdout",
     "output_type": "stream",
     "text": [
      "Timeout: Skipping glitch setting 19, 42\n"
     ]
    },
    {
     "name": "stderr",
     "output_type": "stream",
     "text": [
      "WARNING:root:SAM3U Serial buffers OVERRUN - data loss has occurred.\n",
      "WARNING:root:SAM3U Serial buffers OVERRUN - data loss has occurred.\n",
      "WARNING:root:SAM3U Serial buffers OVERRUN - data loss has occurred.\n",
      "WARNING:root:SAM3U Serial buffers OVERRUN - data loss has occurred.\n",
      "WARNING:root:SAM3U Serial buffers OVERRUN - data loss has occurred.\n",
      "WARNING:root:SAM3U Serial buffers OVERRUN - data loss has occurred.\n",
      "WARNING:root:SAM3U Serial buffers OVERRUN - data loss has occurred.\n",
      "WARNING:root:SAM3U Serial buffers OVERRUN - data loss has occurred.\n"
     ]
    },
    {
     "name": "stdout",
     "output_type": "stream",
     "text": [
      "Timeout: Skipping glitch setting 19, 42\n"
     ]
    },
    {
     "name": "stderr",
     "output_type": "stream",
     "text": [
      "WARNING:root:SAM3U Serial buffers OVERRUN - data loss has occurred.\n",
      "WARNING:root:SAM3U Serial buffers OVERRUN - data loss has occurred.\n",
      "WARNING:root:SAM3U Serial buffers OVERRUN - data loss has occurred.\n",
      "WARNING:root:SAM3U Serial buffers OVERRUN - data loss has occurred.\n",
      "WARNING:root:SAM3U Serial buffers OVERRUN - data loss has occurred.\n"
     ]
    },
    {
     "name": "stdout",
     "output_type": "stream",
     "text": [
      "Timeout: Skipping glitch setting 19, 42\n"
     ]
    },
    {
     "name": "stderr",
     "output_type": "stream",
     "text": [
      "WARNING:root:SAM3U Serial buffers OVERRUN - data loss has occurred.\n",
      "WARNING:root:SAM3U Serial buffers OVERRUN - data loss has occurred.\n"
     ]
    },
    {
     "name": "stdout",
     "output_type": "stream",
     "text": [
      "Timeout: Skipping glitch setting 19, 43\n"
     ]
    },
    {
     "ename": "USBErrorPipe",
     "evalue": "LIBUSB_ERROR_PIPE [-9]",
     "output_type": "error",
     "traceback": [
      "\u001b[1;31m---------------------------------------------------------------------------\u001b[0m",
      "\u001b[1;31mUSBErrorPipe\u001b[0m                              Traceback (most recent call last)",
      "File \u001b[1;32mc:\\Users\\sveno\\PycharmProjects\\Siemens-Advanced-Operator-Panel\\venv\\lib\\site-packages\\chipwhisperer\\hardware\\naeusb\\naeusb.py:511\u001b[0m, in \u001b[0;36mNAEUSB_Backend.cmdReadMem\u001b[1;34m(self, addr, dlen)\u001b[0m\n\u001b[0;32m    510\u001b[0m \u001b[38;5;28;01mtry\u001b[39;00m:\n\u001b[1;32m--> 511\u001b[0m     \u001b[38;5;28;43mself\u001b[39;49m\u001b[38;5;241;43m.\u001b[39;49m\u001b[43msendCtrl\u001b[49m\u001b[43m(\u001b[49m\u001b[43mcmd\u001b[49m\u001b[43m,\u001b[49m\u001b[43m \u001b[49m\u001b[43mdata\u001b[49m\u001b[38;5;241;43m=\u001b[39;49m\u001b[43mpload\u001b[49m\u001b[43m)\u001b[49m\n\u001b[0;32m    512\u001b[0m \u001b[38;5;28;01mexcept\u001b[39;00m usb1\u001b[38;5;241m.\u001b[39mUSBErrorPipe:\n",
      "File \u001b[1;32mc:\\Users\\sveno\\PycharmProjects\\Siemens-Advanced-Operator-Panel\\venv\\lib\\site-packages\\chipwhisperer\\hardware\\naeusb\\naeusb.py:479\u001b[0m, in \u001b[0;36mNAEUSB_Backend.sendCtrl\u001b[1;34m(self, cmd, value, data)\u001b[0m\n\u001b[0;32m    476\u001b[0m naeusb_logger\u001b[38;5;241m.\u001b[39mdebug(\u001b[38;5;124m\"\u001b[39m\u001b[38;5;124mWRITE_CTRL: bmRequestType: \u001b[39m\u001b[38;5;132;01m{:02X}\u001b[39;00m\u001b[38;5;124m, \u001b[39m\u001b[38;5;130;01m\\\u001b[39;00m\n\u001b[0;32m    477\u001b[0m \u001b[38;5;124m            bRequest: \u001b[39m\u001b[38;5;132;01m{:02X}\u001b[39;00m\u001b[38;5;124m, wValue: \u001b[39m\u001b[38;5;132;01m{:04X}\u001b[39;00m\u001b[38;5;124m, wIndex: \u001b[39m\u001b[38;5;132;01m{:04X}\u001b[39;00m\u001b[38;5;124m, data: \u001b[39m\u001b[38;5;132;01m{}\u001b[39;00m\u001b[38;5;124m\"\u001b[39m\u001b[38;5;241m.\u001b[39mformat(\u001b[38;5;241m0x41\u001b[39m, cmd, \\\n\u001b[0;32m    478\u001b[0m                 value, \u001b[38;5;241m0\u001b[39m, data))\n\u001b[1;32m--> 479\u001b[0m \u001b[38;5;28;43mself\u001b[39;49m\u001b[38;5;241;43m.\u001b[39;49m\u001b[43mhandle\u001b[49m\u001b[38;5;241;43m.\u001b[39;49m\u001b[43mcontrolWrite\u001b[49m\u001b[43m(\u001b[49m\u001b[38;5;241;43m0x41\u001b[39;49m\u001b[43m,\u001b[49m\u001b[43m \u001b[49m\u001b[43mcmd\u001b[49m\u001b[43m,\u001b[49m\u001b[43m \u001b[49m\u001b[43mvalue\u001b[49m\u001b[43m,\u001b[49m\u001b[43m \u001b[49m\u001b[38;5;241;43m0\u001b[39;49m\u001b[43m,\u001b[49m\u001b[43m \u001b[49m\u001b[43mdata\u001b[49m\u001b[43m,\u001b[49m\u001b[43m \u001b[49m\u001b[43mtimeout\u001b[49m\u001b[38;5;241;43m=\u001b[39;49m\u001b[38;5;28;43mself\u001b[39;49m\u001b[38;5;241;43m.\u001b[39;49m\u001b[43m_timeout\u001b[49m\u001b[43m)\u001b[49m\n",
      "File \u001b[1;32mc:\\Users\\sveno\\PycharmProjects\\Siemens-Advanced-Operator-Panel\\venv\\lib\\site-packages\\usb1\\__init__.py:1330\u001b[0m, in \u001b[0;36mUSBDeviceHandle.controlWrite\u001b[1;34m(self, request_type, request, value, index, data, timeout)\u001b[0m\n\u001b[0;32m   1329\u001b[0m data, _ \u001b[38;5;241m=\u001b[39m create_initialised_buffer(data)\n\u001b[1;32m-> 1330\u001b[0m \u001b[38;5;28;01mreturn\u001b[39;00m \u001b[38;5;28;43mself\u001b[39;49m\u001b[38;5;241;43m.\u001b[39;49m\u001b[43m_controlTransfer\u001b[49m\u001b[43m(\u001b[49m\u001b[43mrequest_type\u001b[49m\u001b[43m,\u001b[49m\u001b[43m \u001b[49m\u001b[43mrequest\u001b[49m\u001b[43m,\u001b[49m\u001b[43m \u001b[49m\u001b[43mvalue\u001b[49m\u001b[43m,\u001b[49m\u001b[43m \u001b[49m\u001b[43mindex\u001b[49m\u001b[43m,\u001b[49m\u001b[43m \u001b[49m\u001b[43mdata\u001b[49m\u001b[43m,\u001b[49m\n\u001b[0;32m   1331\u001b[0m \u001b[43m                             \u001b[49m\u001b[43msizeof\u001b[49m\u001b[43m(\u001b[49m\u001b[43mdata\u001b[49m\u001b[43m)\u001b[49m\u001b[43m,\u001b[49m\u001b[43m \u001b[49m\u001b[43mtimeout\u001b[49m\u001b[43m)\u001b[49m\n",
      "File \u001b[1;32mc:\\Users\\sveno\\PycharmProjects\\Siemens-Advanced-Operator-Panel\\venv\\lib\\site-packages\\usb1\\__init__.py:1307\u001b[0m, in \u001b[0;36mUSBDeviceHandle._controlTransfer\u001b[1;34m(self, request_type, request, value, index, data, length, timeout)\u001b[0m\n\u001b[0;32m   1303\u001b[0m result \u001b[38;5;241m=\u001b[39m libusb1\u001b[38;5;241m.\u001b[39mlibusb_control_transfer(\n\u001b[0;32m   1304\u001b[0m     \u001b[38;5;28mself\u001b[39m\u001b[38;5;241m.\u001b[39m__handle, request_type, request, value, index, data, length,\n\u001b[0;32m   1305\u001b[0m     timeout,\n\u001b[0;32m   1306\u001b[0m )\n\u001b[1;32m-> 1307\u001b[0m \u001b[43mmayRaiseUSBError\u001b[49m\u001b[43m(\u001b[49m\u001b[43mresult\u001b[49m\u001b[43m)\u001b[49m\n\u001b[0;32m   1308\u001b[0m \u001b[38;5;28;01mreturn\u001b[39;00m result\n",
      "File \u001b[1;32mc:\\Users\\sveno\\PycharmProjects\\Siemens-Advanced-Operator-Panel\\venv\\lib\\site-packages\\usb1\\__init__.py:127\u001b[0m, in \u001b[0;36mmayRaiseUSBError\u001b[1;34m(value, __raiseUSBError)\u001b[0m\n\u001b[0;32m    126\u001b[0m \u001b[38;5;28;01mif\u001b[39;00m value \u001b[38;5;241m<\u001b[39m \u001b[38;5;241m0\u001b[39m:\n\u001b[1;32m--> 127\u001b[0m     \u001b[43m__raiseUSBError\u001b[49m\u001b[43m(\u001b[49m\u001b[43mvalue\u001b[49m\u001b[43m)\u001b[49m\n\u001b[0;32m    128\u001b[0m \u001b[38;5;28;01mreturn\u001b[39;00m value\n",
      "File \u001b[1;32mc:\\Users\\sveno\\PycharmProjects\\Siemens-Advanced-Operator-Panel\\venv\\lib\\site-packages\\usb1\\__init__.py:119\u001b[0m, in \u001b[0;36mraiseUSBError\u001b[1;34m(value, __STATUS_TO_EXCEPTION_DICT, __USBError)\u001b[0m\n\u001b[0;32m    113\u001b[0m \u001b[38;5;28;01mdef\u001b[39;00m \u001b[38;5;21mraiseUSBError\u001b[39m(\n\u001b[0;32m    114\u001b[0m         value,\n\u001b[0;32m    115\u001b[0m         \u001b[38;5;66;03m# Avoid globals lookup on call to work during interpreter shutdown.\u001b[39;00m\n\u001b[0;32m    116\u001b[0m         __STATUS_TO_EXCEPTION_DICT\u001b[38;5;241m=\u001b[39mSTATUS_TO_EXCEPTION_DICT,\n\u001b[0;32m    117\u001b[0m         __USBError\u001b[38;5;241m=\u001b[39mUSBError,\n\u001b[0;32m    118\u001b[0m     ): \u001b[38;5;66;03m# pylint: disable=dangerous-default-value\u001b[39;00m\n\u001b[1;32m--> 119\u001b[0m     \u001b[38;5;28;01mraise\u001b[39;00m __STATUS_TO_EXCEPTION_DICT\u001b[38;5;241m.\u001b[39mget(value, __USBError)(value)\n",
      "\u001b[1;31mUSBErrorPipe\u001b[0m: LIBUSB_ERROR_PIPE [-9]",
      "\nDuring handling of the above exception, another exception occurred:\n",
      "\u001b[1;31mUSBErrorPipe\u001b[0m                              Traceback (most recent call last)",
      "Cell \u001b[1;32mIn[27], line 70\u001b[0m\n\u001b[0;32m     68\u001b[0m \u001b[38;5;28;01mfor\u001b[39;00m glitch_setting \u001b[38;5;129;01min\u001b[39;00m gc\u001b[38;5;241m.\u001b[39mglitch_values():\n\u001b[0;32m     69\u001b[0m     scope\u001b[38;5;241m.\u001b[39mglitch\u001b[38;5;241m.\u001b[39mext_offset \u001b[38;5;241m=\u001b[39m glitch_setting[\u001b[38;5;241m0\u001b[39m]\n\u001b[1;32m---> 70\u001b[0m     \u001b[43mscope\u001b[49m\u001b[38;5;241;43m.\u001b[39;49m\u001b[43mglitch\u001b[49m\u001b[38;5;241;43m.\u001b[39;49m\u001b[43mrepeat\u001b[49m \u001b[38;5;241m=\u001b[39m glitch_setting[\u001b[38;5;241m1\u001b[39m]\n\u001b[0;32m     71\u001b[0m     try_counter \u001b[38;5;241m=\u001b[39m glitch_setting[\u001b[38;5;241m2\u001b[39m]\n\u001b[0;32m     73\u001b[0m     \u001b[38;5;28;01mdef\u001b[39;00m \u001b[38;5;21mloop_iteration\u001b[39m():\n",
      "File \u001b[1;32mc:\\Users\\sveno\\PycharmProjects\\Siemens-Advanced-Operator-Panel\\venv\\lib\\site-packages\\chipwhisperer\\common\\utils\\util.py:360\u001b[0m, in \u001b[0;36mDisableNewAttr.__setattr__\u001b[1;34m(self, name, value)\u001b[0m\n\u001b[0;32m    359\u001b[0m \u001b[38;5;28;01mdef\u001b[39;00m \u001b[38;5;21m__setattr__\u001b[39m(\u001b[38;5;28mself\u001b[39m, name, value):\n\u001b[1;32m--> 360\u001b[0m     \u001b[38;5;28;01mif\u001b[39;00m \u001b[38;5;28mhasattr\u001b[39m(\u001b[38;5;28mself\u001b[39m, \u001b[38;5;124m'\u001b[39m\u001b[38;5;124m_new_attributes_disabled\u001b[39m\u001b[38;5;124m'\u001b[39m) \u001b[38;5;129;01mand\u001b[39;00m \u001b[38;5;28mself\u001b[39m\u001b[38;5;241m.\u001b[39m_new_attributes_disabled \u001b[38;5;129;01mand\u001b[39;00m \u001b[38;5;129;01mnot\u001b[39;00m \u001b[38;5;28;43mhasattr\u001b[39;49m\u001b[43m(\u001b[49m\u001b[38;5;28;43mself\u001b[39;49m\u001b[43m,\u001b[49m\u001b[43m \u001b[49m\u001b[43mname\u001b[49m\u001b[43m)\u001b[49m:  \u001b[38;5;66;03m# would this create a new attribute?\u001b[39;00m\n\u001b[0;32m    361\u001b[0m         \u001b[38;5;66;03m#raise AttributeError(\"Attempt to set unknown attribute in %s\"%self.__class__, name)\u001b[39;00m\n\u001b[0;32m    362\u001b[0m         other_logger\u001b[38;5;241m.\u001b[39merror(\u001b[38;5;124m\"\u001b[39m\u001b[38;5;124mSetting unknown attribute \u001b[39m\u001b[38;5;132;01m{}\u001b[39;00m\u001b[38;5;124m in \u001b[39m\u001b[38;5;132;01m{}\u001b[39;00m\u001b[38;5;124m\"\u001b[39m\u001b[38;5;241m.\u001b[39mformat(name, \u001b[38;5;28mself\u001b[39m\u001b[38;5;241m.\u001b[39m\u001b[38;5;18m__class__\u001b[39m))\n\u001b[0;32m    363\u001b[0m         \u001b[38;5;28;01mif\u001b[39;00m \u001b[38;5;28mhasattr\u001b[39m(\u001b[38;5;28mself\u001b[39m, \u001b[38;5;124m'\u001b[39m\u001b[38;5;124m_new_attributes_disabled_strict\u001b[39m\u001b[38;5;124m'\u001b[39m) \u001b[38;5;129;01mand\u001b[39;00m \u001b[38;5;28mself\u001b[39m\u001b[38;5;241m.\u001b[39m_new_attributes_disabled_strict \u001b[38;5;129;01mand\u001b[39;00m \u001b[38;5;129;01mnot\u001b[39;00m \u001b[38;5;28mhasattr\u001b[39m(\u001b[38;5;28mself\u001b[39m, name):\n",
      "File \u001b[1;32mc:\\Users\\sveno\\PycharmProjects\\Siemens-Advanced-Operator-Panel\\venv\\lib\\site-packages\\chipwhisperer\\capture\\scopes\\cwhardware\\ChipWhispererGlitch.py:582\u001b[0m, in \u001b[0;36mGlitchSettings.repeat\u001b[1;34m(self)\u001b[0m\n\u001b[0;32m    548\u001b[0m \u001b[38;5;129m@property\u001b[39m\n\u001b[0;32m    549\u001b[0m \u001b[38;5;28;01mdef\u001b[39;00m \u001b[38;5;21mrepeat\u001b[39m(\u001b[38;5;28mself\u001b[39m):\n\u001b[0;32m    550\u001b[0m \u001b[38;5;250m    \u001b[39m\u001b[38;5;124;03m\"\"\"The number of glitch pulses to generate per trigger.\u001b[39;00m\n\u001b[0;32m    551\u001b[0m \n\u001b[0;32m    552\u001b[0m \u001b[38;5;124;03m    When the glitch module is triggered, it produces a number of pulses\u001b[39;00m\n\u001b[1;32m   (...)\u001b[0m\n\u001b[0;32m    580\u001b[0m \u001b[38;5;124;03m       ValueError: if any value outside [1, 8192]\u001b[39;00m\n\u001b[0;32m    581\u001b[0m \u001b[38;5;124;03m    \"\"\"\u001b[39;00m\n\u001b[1;32m--> 582\u001b[0m     \u001b[38;5;28;01mreturn\u001b[39;00m \u001b[38;5;28;43mself\u001b[39;49m\u001b[38;5;241;43m.\u001b[39;49m\u001b[43mcwg\u001b[49m\u001b[38;5;241;43m.\u001b[39;49m\u001b[43mgetRepeat\u001b[49m\u001b[43m(\u001b[49m\u001b[43m)\u001b[49m\n",
      "File \u001b[1;32mc:\\Users\\sveno\\PycharmProjects\\Siemens-Advanced-Operator-Panel\\venv\\lib\\site-packages\\chipwhisperer\\capture\\scopes\\cwhardware\\ChipWhispererGlitch.py:1121\u001b[0m, in \u001b[0;36mChipWhispererGlitch.getRepeat\u001b[1;34m(self)\u001b[0m\n\u001b[0;32m   1119\u001b[0m \u001b[38;5;250m\u001b[39m\u001b[38;5;124;03m\"\"\"Get number of glitches to occur after a trigger\"\"\"\u001b[39;00m\n\u001b[0;32m   1120\u001b[0m num_glitches \u001b[38;5;241m=\u001b[39m \u001b[38;5;28mself\u001b[39m\u001b[38;5;241m.\u001b[39mgetNumGlitches()\n\u001b[1;32m-> 1121\u001b[0m resp \u001b[38;5;241m=\u001b[39m \u001b[38;5;28;43mself\u001b[39;49m\u001b[38;5;241;43m.\u001b[39;49m\u001b[43moa\u001b[49m\u001b[38;5;241;43m.\u001b[39;49m\u001b[43msendMessage\u001b[49m\u001b[43m(\u001b[49m\u001b[43mCODE_READ\u001b[49m\u001b[43m,\u001b[49m\u001b[43m \u001b[49m\u001b[43mglitchaddr\u001b[49m\u001b[43m,\u001b[49m\u001b[43m \u001b[49m\u001b[43mValidate\u001b[49m\u001b[38;5;241;43m=\u001b[39;49m\u001b[38;5;28;43;01mFalse\u001b[39;49;00m\u001b[43m,\u001b[49m\u001b[43m \u001b[49m\u001b[43mmaxResp\u001b[49m\u001b[38;5;241;43m=\u001b[39;49m\u001b[38;5;241;43m8\u001b[39;49m\u001b[43m)\u001b[49m\n\u001b[0;32m   1122\u001b[0m num \u001b[38;5;241m=\u001b[39m resp[\u001b[38;5;241m6\u001b[39m]\n\u001b[0;32m   1123\u001b[0m num \u001b[38;5;241m|\u001b[39m\u001b[38;5;241m=\u001b[39m ((resp[\u001b[38;5;241m7\u001b[39m] \u001b[38;5;241m&\u001b[39m \u001b[38;5;241m~\u001b[39m(\u001b[38;5;28mself\u001b[39m\u001b[38;5;241m.\u001b[39mCLKSOURCE_MASK)) \u001b[38;5;241m>>\u001b[39m \u001b[38;5;241m2\u001b[39m) \u001b[38;5;241m<<\u001b[39m \u001b[38;5;241m8\u001b[39m\n",
      "File \u001b[1;32mc:\\Users\\sveno\\PycharmProjects\\Siemens-Advanced-Operator-Panel\\venv\\lib\\site-packages\\chipwhisperer\\capture\\scopes\\_OpenADCInterface.py:225\u001b[0m, in \u001b[0;36mOpenADCInterface.sendMessage\u001b[1;34m(self, mode, address, payload, Validate, maxResp, readMask)\u001b[0m\n\u001b[0;32m    222\u001b[0m         scope_logger\u001b[38;5;241m.\u001b[39mwarning(\u001b[38;5;124m\"\u001b[39m\u001b[38;5;124mThe error trace below will show you what led to this:\u001b[39m\u001b[38;5;124m\"\u001b[39m)\n\u001b[0;32m    223\u001b[0m         \u001b[38;5;28;01mraise\u001b[39;00m \u001b[38;5;167;01mValueError\u001b[39;00m\n\u001b[1;32m--> 225\u001b[0m     \u001b[38;5;28;01mreturn\u001b[39;00m \u001b[38;5;28mbytearray\u001b[39m(\u001b[38;5;28;43mself\u001b[39;49m\u001b[38;5;241;43m.\u001b[39;49m\u001b[43mserial\u001b[49m\u001b[38;5;241;43m.\u001b[39;49m\u001b[43mcmdReadMem\u001b[49m\u001b[43m(\u001b[49m\u001b[43maddress\u001b[49m\u001b[43m,\u001b[49m\u001b[43m \u001b[49m\u001b[43mdatalen\u001b[49m\u001b[43m)\u001b[49m)\n\u001b[0;32m    227\u001b[0m \u001b[38;5;28;01melse\u001b[39;00m:\n\u001b[0;32m    228\u001b[0m     \u001b[38;5;66;03m# Write output to memory\u001b[39;00m\n\u001b[0;32m    229\u001b[0m     \u001b[38;5;28mself\u001b[39m\u001b[38;5;241m.\u001b[39mserial\u001b[38;5;241m.\u001b[39mcmdWriteMem(address, pba)\n",
      "File \u001b[1;32mc:\\Users\\sveno\\PycharmProjects\\Siemens-Advanced-Operator-Panel\\venv\\lib\\site-packages\\chipwhisperer\\hardware\\naeusb\\naeusb.py:757\u001b[0m, in \u001b[0;36mNAEUSB.cmdReadMem\u001b[1;34m(self, addr, dlen)\u001b[0m\n\u001b[0;32m    751\u001b[0m \u001b[38;5;28;01mdef\u001b[39;00m \u001b[38;5;21mcmdReadMem\u001b[39m(\u001b[38;5;28mself\u001b[39m, addr : \u001b[38;5;28mint\u001b[39m, dlen : \u001b[38;5;28mint\u001b[39m) \u001b[38;5;241m-\u001b[39m\u001b[38;5;241m>\u001b[39m \u001b[38;5;28mbytearray\u001b[39m:\n\u001b[0;32m    752\u001b[0m \u001b[38;5;250m    \u001b[39m\u001b[38;5;124;03m\"\"\"\u001b[39;00m\n\u001b[0;32m    753\u001b[0m \u001b[38;5;124;03m    Send command to read over external memory interface from FPGA. Automatically\u001b[39;00m\n\u001b[0;32m    754\u001b[0m \u001b[38;5;124;03m    decides to use control-transfer or bulk-endpoint transfer based on data length.\u001b[39;00m\n\u001b[0;32m    755\u001b[0m \u001b[38;5;124;03m    \"\"\"\u001b[39;00m\n\u001b[1;32m--> 757\u001b[0m     \u001b[38;5;28;01mreturn\u001b[39;00m \u001b[38;5;28;43mself\u001b[39;49m\u001b[38;5;241;43m.\u001b[39;49m\u001b[43musbserializer\u001b[49m\u001b[38;5;241;43m.\u001b[39;49m\u001b[43mcmdReadMem\u001b[49m\u001b[43m(\u001b[49m\u001b[43maddr\u001b[49m\u001b[43m,\u001b[49m\u001b[43m \u001b[49m\u001b[43mdlen\u001b[49m\u001b[43m)\u001b[49m\n",
      "File \u001b[1;32mc:\\Users\\sveno\\PycharmProjects\\Siemens-Advanced-Operator-Panel\\venv\\lib\\site-packages\\chipwhisperer\\hardware\\naeusb\\naeusb.py:515\u001b[0m, in \u001b[0;36mNAEUSB_Backend.cmdReadMem\u001b[1;34m(self, addr, dlen)\u001b[0m\n\u001b[0;32m    513\u001b[0m     naeusb_logger\u001b[38;5;241m.\u001b[39minfo(\u001b[38;5;124m\"\u001b[39m\u001b[38;5;124mAttempting pipe error fix - typically safe to ignore\u001b[39m\u001b[38;5;124m\"\u001b[39m)\n\u001b[0;32m    514\u001b[0m     \u001b[38;5;28mself\u001b[39m\u001b[38;5;241m.\u001b[39msendCtrl(\u001b[38;5;241m0x22\u001b[39m, \u001b[38;5;241m0x11\u001b[39m)\n\u001b[1;32m--> 515\u001b[0m     \u001b[38;5;28;43mself\u001b[39;49m\u001b[38;5;241;43m.\u001b[39;49m\u001b[43msendCtrl\u001b[49m\u001b[43m(\u001b[49m\u001b[43mcmd\u001b[49m\u001b[43m,\u001b[49m\u001b[43m \u001b[49m\u001b[43mdata\u001b[49m\u001b[38;5;241;43m=\u001b[39;49m\u001b[43mpload\u001b[49m\u001b[43m)\u001b[49m\n\u001b[0;32m    516\u001b[0m \u001b[38;5;66;03m# Get data\u001b[39;00m\n\u001b[0;32m    517\u001b[0m \u001b[38;5;28;01mif\u001b[39;00m cmd \u001b[38;5;241m==\u001b[39m \u001b[38;5;28mself\u001b[39m\u001b[38;5;241m.\u001b[39mCMD_READMEM_BULK:\n",
      "File \u001b[1;32mc:\\Users\\sveno\\PycharmProjects\\Siemens-Advanced-Operator-Panel\\venv\\lib\\site-packages\\chipwhisperer\\hardware\\naeusb\\naeusb.py:479\u001b[0m, in \u001b[0;36mNAEUSB_Backend.sendCtrl\u001b[1;34m(self, cmd, value, data)\u001b[0m\n\u001b[0;32m    475\u001b[0m \u001b[38;5;66;03m# Vendor-specific, OUT, interface control transfer\u001b[39;00m\n\u001b[0;32m    476\u001b[0m naeusb_logger\u001b[38;5;241m.\u001b[39mdebug(\u001b[38;5;124m\"\u001b[39m\u001b[38;5;124mWRITE_CTRL: bmRequestType: \u001b[39m\u001b[38;5;132;01m{:02X}\u001b[39;00m\u001b[38;5;124m, \u001b[39m\u001b[38;5;130;01m\\\u001b[39;00m\n\u001b[0;32m    477\u001b[0m \u001b[38;5;124m            bRequest: \u001b[39m\u001b[38;5;132;01m{:02X}\u001b[39;00m\u001b[38;5;124m, wValue: \u001b[39m\u001b[38;5;132;01m{:04X}\u001b[39;00m\u001b[38;5;124m, wIndex: \u001b[39m\u001b[38;5;132;01m{:04X}\u001b[39;00m\u001b[38;5;124m, data: \u001b[39m\u001b[38;5;132;01m{}\u001b[39;00m\u001b[38;5;124m\"\u001b[39m\u001b[38;5;241m.\u001b[39mformat(\u001b[38;5;241m0x41\u001b[39m, cmd, \\\n\u001b[0;32m    478\u001b[0m                 value, \u001b[38;5;241m0\u001b[39m, data))\n\u001b[1;32m--> 479\u001b[0m \u001b[38;5;28;43mself\u001b[39;49m\u001b[38;5;241;43m.\u001b[39;49m\u001b[43mhandle\u001b[49m\u001b[38;5;241;43m.\u001b[39;49m\u001b[43mcontrolWrite\u001b[49m\u001b[43m(\u001b[49m\u001b[38;5;241;43m0x41\u001b[39;49m\u001b[43m,\u001b[49m\u001b[43m \u001b[49m\u001b[43mcmd\u001b[49m\u001b[43m,\u001b[49m\u001b[43m \u001b[49m\u001b[43mvalue\u001b[49m\u001b[43m,\u001b[49m\u001b[43m \u001b[49m\u001b[38;5;241;43m0\u001b[39;49m\u001b[43m,\u001b[49m\u001b[43m \u001b[49m\u001b[43mdata\u001b[49m\u001b[43m,\u001b[49m\u001b[43m \u001b[49m\u001b[43mtimeout\u001b[49m\u001b[38;5;241;43m=\u001b[39;49m\u001b[38;5;28;43mself\u001b[39;49m\u001b[38;5;241;43m.\u001b[39;49m\u001b[43m_timeout\u001b[49m\u001b[43m)\u001b[49m\n",
      "File \u001b[1;32mc:\\Users\\sveno\\PycharmProjects\\Siemens-Advanced-Operator-Panel\\venv\\lib\\site-packages\\usb1\\__init__.py:1330\u001b[0m, in \u001b[0;36mUSBDeviceHandle.controlWrite\u001b[1;34m(self, request_type, request, value, index, data, timeout)\u001b[0m\n\u001b[0;32m   1328\u001b[0m \u001b[38;5;66;03m# pylint: enable=undefined-variable\u001b[39;00m\n\u001b[0;32m   1329\u001b[0m data, _ \u001b[38;5;241m=\u001b[39m create_initialised_buffer(data)\n\u001b[1;32m-> 1330\u001b[0m \u001b[38;5;28;01mreturn\u001b[39;00m \u001b[38;5;28;43mself\u001b[39;49m\u001b[38;5;241;43m.\u001b[39;49m\u001b[43m_controlTransfer\u001b[49m\u001b[43m(\u001b[49m\u001b[43mrequest_type\u001b[49m\u001b[43m,\u001b[49m\u001b[43m \u001b[49m\u001b[43mrequest\u001b[49m\u001b[43m,\u001b[49m\u001b[43m \u001b[49m\u001b[43mvalue\u001b[49m\u001b[43m,\u001b[49m\u001b[43m \u001b[49m\u001b[43mindex\u001b[49m\u001b[43m,\u001b[49m\u001b[43m \u001b[49m\u001b[43mdata\u001b[49m\u001b[43m,\u001b[49m\n\u001b[0;32m   1331\u001b[0m \u001b[43m                             \u001b[49m\u001b[43msizeof\u001b[49m\u001b[43m(\u001b[49m\u001b[43mdata\u001b[49m\u001b[43m)\u001b[49m\u001b[43m,\u001b[49m\u001b[43m \u001b[49m\u001b[43mtimeout\u001b[49m\u001b[43m)\u001b[49m\n",
      "File \u001b[1;32mc:\\Users\\sveno\\PycharmProjects\\Siemens-Advanced-Operator-Panel\\venv\\lib\\site-packages\\usb1\\__init__.py:1307\u001b[0m, in \u001b[0;36mUSBDeviceHandle._controlTransfer\u001b[1;34m(self, request_type, request, value, index, data, length, timeout)\u001b[0m\n\u001b[0;32m   1301\u001b[0m \u001b[38;5;28;01mdef\u001b[39;00m \u001b[38;5;21m_controlTransfer\u001b[39m(\n\u001b[0;32m   1302\u001b[0m         \u001b[38;5;28mself\u001b[39m, request_type, request, value, index, data, length, timeout):\n\u001b[0;32m   1303\u001b[0m     result \u001b[38;5;241m=\u001b[39m libusb1\u001b[38;5;241m.\u001b[39mlibusb_control_transfer(\n\u001b[0;32m   1304\u001b[0m         \u001b[38;5;28mself\u001b[39m\u001b[38;5;241m.\u001b[39m__handle, request_type, request, value, index, data, length,\n\u001b[0;32m   1305\u001b[0m         timeout,\n\u001b[0;32m   1306\u001b[0m     )\n\u001b[1;32m-> 1307\u001b[0m     \u001b[43mmayRaiseUSBError\u001b[49m\u001b[43m(\u001b[49m\u001b[43mresult\u001b[49m\u001b[43m)\u001b[49m\n\u001b[0;32m   1308\u001b[0m     \u001b[38;5;28;01mreturn\u001b[39;00m result\n",
      "File \u001b[1;32mc:\\Users\\sveno\\PycharmProjects\\Siemens-Advanced-Operator-Panel\\venv\\lib\\site-packages\\usb1\\__init__.py:127\u001b[0m, in \u001b[0;36mmayRaiseUSBError\u001b[1;34m(value, __raiseUSBError)\u001b[0m\n\u001b[0;32m    121\u001b[0m \u001b[38;5;28;01mdef\u001b[39;00m \u001b[38;5;21mmayRaiseUSBError\u001b[39m(\n\u001b[0;32m    122\u001b[0m         value,\n\u001b[0;32m    123\u001b[0m         \u001b[38;5;66;03m# Avoid globals lookup on call to work during interpreter shutdown.\u001b[39;00m\n\u001b[0;32m    124\u001b[0m         __raiseUSBError\u001b[38;5;241m=\u001b[39mraiseUSBError,\n\u001b[0;32m    125\u001b[0m     ):\n\u001b[0;32m    126\u001b[0m     \u001b[38;5;28;01mif\u001b[39;00m value \u001b[38;5;241m<\u001b[39m \u001b[38;5;241m0\u001b[39m:\n\u001b[1;32m--> 127\u001b[0m         \u001b[43m__raiseUSBError\u001b[49m\u001b[43m(\u001b[49m\u001b[43mvalue\u001b[49m\u001b[43m)\u001b[49m\n\u001b[0;32m    128\u001b[0m     \u001b[38;5;28;01mreturn\u001b[39;00m value\n",
      "File \u001b[1;32mc:\\Users\\sveno\\PycharmProjects\\Siemens-Advanced-Operator-Panel\\venv\\lib\\site-packages\\usb1\\__init__.py:119\u001b[0m, in \u001b[0;36mraiseUSBError\u001b[1;34m(value, __STATUS_TO_EXCEPTION_DICT, __USBError)\u001b[0m\n\u001b[0;32m    113\u001b[0m \u001b[38;5;28;01mdef\u001b[39;00m \u001b[38;5;21mraiseUSBError\u001b[39m(\n\u001b[0;32m    114\u001b[0m         value,\n\u001b[0;32m    115\u001b[0m         \u001b[38;5;66;03m# Avoid globals lookup on call to work during interpreter shutdown.\u001b[39;00m\n\u001b[0;32m    116\u001b[0m         __STATUS_TO_EXCEPTION_DICT\u001b[38;5;241m=\u001b[39mSTATUS_TO_EXCEPTION_DICT,\n\u001b[0;32m    117\u001b[0m         __USBError\u001b[38;5;241m=\u001b[39mUSBError,\n\u001b[0;32m    118\u001b[0m     ): \u001b[38;5;66;03m# pylint: disable=dangerous-default-value\u001b[39;00m\n\u001b[1;32m--> 119\u001b[0m     \u001b[38;5;28;01mraise\u001b[39;00m __STATUS_TO_EXCEPTION_DICT\u001b[38;5;241m.\u001b[39mget(value, __USBError)(value)\n",
      "\u001b[1;31mUSBErrorPipe\u001b[0m: LIBUSB_ERROR_PIPE [-9]"
     ]
    }
   ],
   "source": [
    "import matplotlib.pyplot as plt\n",
    "#disable logging\n",
    "cw.set_all_log_levels(cw.logging.CRITICAL)\n",
    "\n",
    "reset_mcu()\n",
    "scope.arm()\n",
    "\n",
    "highest_byte_count = -1\n",
    "best_parameter_value = -1\n",
    "\n",
    "resultss = []  # To store the success counts for each repeat value\n",
    "parameter_values = []\n",
    "\n",
    "def glitch_worked():\n",
    "    return not scope.io.tio_states[0]\n",
    "\n",
    "\n",
    "def keep_reading_untill_stops(data, filename):\n",
    "    full_data = data\n",
    "\n",
    "    time.sleep(0.01)\n",
    "    print(\"start reading\")\n",
    "    while target.in_waiting():\n",
    "        print('.', end=\"\")\n",
    "        full_data += target.readbytes()\n",
    "        time.sleep(0.01)\n",
    "\n",
    "    print(\"done reading\")\n",
    "\n",
    "    total_bytes = len(full_data)\n",
    "\n",
    "        # Save the full data to a binary file\n",
    "    with open(f\"glitch_dumps/{filename}_{str(total_bytes)}.bin\", 'wb') as bin_file:\n",
    "        bin_file.write(full_data)\n",
    "\n",
    "    return total_bytes\n",
    "\n",
    "\n",
    "for glitch_setting in gc.glitch_values():\n",
    "    scope.glitch.ext_offset = glitch_setting[0]\n",
    "    scope.glitch.repeat = glitch_setting[1]\n",
    "    try_counter = glitch_setting[2]\n",
    "\n",
    "    reset_mcu()\n",
    "\n",
    "    time.sleep(0.1)  # Short delay for to check if it worked\n",
    "\n",
    "    if target.in_waiting():\n",
    "        data = target.readbytes()\n",
    "        if len(data) > 0:\n",
    "\n",
    "            if b'S' in data:  # Check if the byte for 'S' is in the data\n",
    "                if b'SVEN' in data:  # Check if the byte sequence for \"SVEN\" is in the data\n",
    "                    \n",
    "                    gc.add(\"bigsuccess\")\n",
    "                    \n",
    "\n",
    "                    count = keep_reading_untill_stops(data, filename=f\"{str(scope.glitch.repeat)}_{str(scope.glitch.ext_offset)}\")\n",
    "                    parameter_values.append(glitch_setting[1])\n",
    "                    resultss.append(glitch_setting[0])\n",
    "                    if count > highest_byte_count:\n",
    "                        highest_byte_count = count\n",
    "                        best_parameter_value = glitch_setting[0]\n",
    "\n",
    "                    print(f\"SUCCES: glitch ext offset: {glitch_setting[0]} repeat: {glitch_setting[1]} bytes: {count} | best so far: {highest_byte_count} bytes at setting {best_parameter_value}\")\n",
    "\n",
    "                else:\n",
    "                    if len(data) > 2:\n",
    "                        gc.add(\"success\") \n",
    "                    else:\n",
    "                        gc.add(\"normal\")\n",
    "\n",
    "        \n",
    "    \n",
    "    else:\n",
    "         gc.add(\"reset\")\n",
    "\n",
    "\n",
    "print(\"Done glitching\")\n",
    "\n",
    "\n",
    "print(\"Best\", highest_byte_count, num_tries, best_parameter_value)\n",
    "\n",
    "plt.figure()\n",
    "plt.plot(parameter_values, resultss, marker='o')\n",
    "plt.title(\"ext offset vs Repeat Value\")\n",
    "plt.xlabel(\"Repeat Value\")\n",
    "plt.ylabel(f\"ext_offset\")\n",
    "plt.grid()\n",
    "plt.show()\n",
    "\n",
    "#enable logging\n",
    "cw.set_all_log_levels(cw.logging.WARNING)\n",
    "gc.plot_2d(plotdots={\"success\":\"+g\", \"bigsuccess\":\"+b\", \"reset\":\"xr\", \"normal\":None}, x_index=\"ext_offset\", y_index=\"repeat\")"
   ]
  },
  {
   "cell_type": "code",
   "execution_count": 10,
   "id": "19a25e57",
   "metadata": {},
   "outputs": [
    {
     "data": {
      "application/javascript": "(function(root) {\n  function now() {\n    return new Date();\n  }\n\n  var force = true;\n  var py_version = '3.4.3'.replace('rc', '-rc.').replace('.dev', '-dev.');\n  var reloading = false;\n  var Bokeh = root.Bokeh;\n\n  if (typeof (root._bokeh_timeout) === \"undefined\" || force) {\n    root._bokeh_timeout = Date.now() + 5000;\n    root._bokeh_failed_load = false;\n  }\n\n  function run_callbacks() {\n    try {\n      root._bokeh_onload_callbacks.forEach(function(callback) {\n        if (callback != null)\n          callback();\n      });\n    } finally {\n      delete root._bokeh_onload_callbacks;\n    }\n    console.debug(\"Bokeh: all callbacks have finished\");\n  }\n\n  function load_libs(css_urls, js_urls, js_modules, js_exports, callback) {\n    if (css_urls == null) css_urls = [];\n    if (js_urls == null) js_urls = [];\n    if (js_modules == null) js_modules = [];\n    if (js_exports == null) js_exports = {};\n\n    root._bokeh_onload_callbacks.push(callback);\n\n    if (root._bokeh_is_loading > 0) {\n      console.debug(\"Bokeh: BokehJS is being loaded, scheduling callback at\", now());\n      return null;\n    }\n    if (js_urls.length === 0 && js_modules.length === 0 && Object.keys(js_exports).length === 0) {\n      run_callbacks();\n      return null;\n    }\n    if (!reloading) {\n      console.debug(\"Bokeh: BokehJS not loaded, scheduling load and callback at\", now());\n    }\n\n    function on_load() {\n      root._bokeh_is_loading--;\n      if (root._bokeh_is_loading === 0) {\n        console.debug(\"Bokeh: all BokehJS libraries/stylesheets loaded\");\n        run_callbacks()\n      }\n    }\n    window._bokeh_on_load = on_load\n\n    function on_error() {\n      console.error(\"failed to load \" + url);\n    }\n\n    var skip = [];\n    if (window.requirejs) {\n      window.requirejs.config({'packages': {}, 'paths': {}, 'shim': {}});\n      root._bokeh_is_loading = css_urls.length + 0;\n    } else {\n      root._bokeh_is_loading = css_urls.length + js_urls.length + js_modules.length + Object.keys(js_exports).length;\n    }\n\n    var existing_stylesheets = []\n    var links = document.getElementsByTagName('link')\n    for (var i = 0; i < links.length; i++) {\n      var link = links[i]\n      if (link.href != null) {\n\texisting_stylesheets.push(link.href)\n      }\n    }\n    for (var i = 0; i < css_urls.length; i++) {\n      var url = css_urls[i];\n      if (existing_stylesheets.indexOf(url) !== -1) {\n\ton_load()\n\tcontinue;\n      }\n      const element = document.createElement(\"link\");\n      element.onload = on_load;\n      element.onerror = on_error;\n      element.rel = \"stylesheet\";\n      element.type = \"text/css\";\n      element.href = url;\n      console.debug(\"Bokeh: injecting link tag for BokehJS stylesheet: \", url);\n      document.body.appendChild(element);\n    }    var existing_scripts = []\n    var scripts = document.getElementsByTagName('script')\n    for (var i = 0; i < scripts.length; i++) {\n      var script = scripts[i]\n      if (script.src != null) {\n\texisting_scripts.push(script.src)\n      }\n    }\n    for (var i = 0; i < js_urls.length; i++) {\n      var url = js_urls[i];\n      if (skip.indexOf(url) !== -1 || existing_scripts.indexOf(url) !== -1) {\n\tif (!window.requirejs) {\n\t  on_load();\n\t}\n\tcontinue;\n      }\n      var element = document.createElement('script');\n      element.onload = on_load;\n      element.onerror = on_error;\n      element.async = false;\n      element.src = url;\n      console.debug(\"Bokeh: injecting script tag for BokehJS library: \", url);\n      document.head.appendChild(element);\n    }\n    for (var i = 0; i < js_modules.length; i++) {\n      var url = js_modules[i];\n      if (skip.indexOf(url) !== -1 || existing_scripts.indexOf(url) !== -1) {\n\tif (!window.requirejs) {\n\t  on_load();\n\t}\n\tcontinue;\n      }\n      var element = document.createElement('script');\n      element.onload = on_load;\n      element.onerror = on_error;\n      element.async = false;\n      element.src = url;\n      element.type = \"module\";\n      console.debug(\"Bokeh: injecting script tag for BokehJS library: \", url);\n      document.head.appendChild(element);\n    }\n    for (const name in js_exports) {\n      var url = js_exports[name];\n      if (skip.indexOf(url) >= 0 || root[name] != null) {\n\tif (!window.requirejs) {\n\t  on_load();\n\t}\n\tcontinue;\n      }\n      var element = document.createElement('script');\n      element.onerror = on_error;\n      element.async = false;\n      element.type = \"module\";\n      console.debug(\"Bokeh: injecting script tag for BokehJS library: \", url);\n      element.textContent = `\n      import ${name} from \"${url}\"\n      window.${name} = ${name}\n      window._bokeh_on_load()\n      `\n      document.head.appendChild(element);\n    }\n    if (!js_urls.length && !js_modules.length) {\n      on_load()\n    }\n  };\n\n  function inject_raw_css(css) {\n    const element = document.createElement(\"style\");\n    element.appendChild(document.createTextNode(css));\n    document.body.appendChild(element);\n  }\n\n  var js_urls = [\"https://cdn.bokeh.org/bokeh/release/bokeh-3.4.3.min.js\", \"https://cdn.bokeh.org/bokeh/release/bokeh-gl-3.4.3.min.js\", \"https://cdn.bokeh.org/bokeh/release/bokeh-widgets-3.4.3.min.js\", \"https://cdn.bokeh.org/bokeh/release/bokeh-tables-3.4.3.min.js\", \"https://cdn.holoviz.org/panel/1.4.5/dist/panel.min.js\"];\n  var js_modules = [];\n  var js_exports = {};\n  var css_urls = [];\n  var inline_js = [    function(Bokeh) {\n      Bokeh.set_log_level(\"info\");\n    },\nfunction(Bokeh) {} // ensure no trailing comma for IE\n  ];\n\n  function run_inline_js() {\n    if ((root.Bokeh !== undefined) || (force === true)) {\n      for (var i = 0; i < inline_js.length; i++) {\n\ttry {\n          inline_js[i].call(root, root.Bokeh);\n\t} catch(e) {\n\t  if (!reloading) {\n\t    throw e;\n\t  }\n\t}\n      }\n      // Cache old bokeh versions\n      if (Bokeh != undefined && !reloading) {\n\tvar NewBokeh = root.Bokeh;\n\tif (Bokeh.versions === undefined) {\n\t  Bokeh.versions = new Map();\n\t}\n\tif (NewBokeh.version !== Bokeh.version) {\n\t  Bokeh.versions.set(NewBokeh.version, NewBokeh)\n\t}\n\troot.Bokeh = Bokeh;\n      }} else if (Date.now() < root._bokeh_timeout) {\n      setTimeout(run_inline_js, 100);\n    } else if (!root._bokeh_failed_load) {\n      console.log(\"Bokeh: BokehJS failed to load within specified timeout.\");\n      root._bokeh_failed_load = true;\n    }\n    root._bokeh_is_initializing = false\n  }\n\n  function load_or_wait() {\n    // Implement a backoff loop that tries to ensure we do not load multiple\n    // versions of Bokeh and its dependencies at the same time.\n    // In recent versions we use the root._bokeh_is_initializing flag\n    // to determine whether there is an ongoing attempt to initialize\n    // bokeh, however for backward compatibility we also try to ensure\n    // that we do not start loading a newer (Panel>=1.0 and Bokeh>3) version\n    // before older versions are fully initialized.\n    if (root._bokeh_is_initializing && Date.now() > root._bokeh_timeout) {\n      root._bokeh_is_initializing = false;\n      root._bokeh_onload_callbacks = undefined;\n      console.log(\"Bokeh: BokehJS was loaded multiple times but one version failed to initialize.\");\n      load_or_wait();\n    } else if (root._bokeh_is_initializing || (typeof root._bokeh_is_initializing === \"undefined\" && root._bokeh_onload_callbacks !== undefined)) {\n      setTimeout(load_or_wait, 100);\n    } else {\n      root._bokeh_is_initializing = true\n      root._bokeh_onload_callbacks = []\n      var bokeh_loaded = Bokeh != null && (Bokeh.version === py_version || (Bokeh.versions !== undefined && Bokeh.versions.has(py_version)));\n      if (!reloading && !bokeh_loaded) {\n\troot.Bokeh = undefined;\n      }\n      load_libs(css_urls, js_urls, js_modules, js_exports, function() {\n\tconsole.debug(\"Bokeh: BokehJS plotting callback run at\", now());\n\trun_inline_js();\n      });\n    }\n  }\n  // Give older versions of the autoload script a head-start to ensure\n  // they initialize before we start loading newer version.\n  setTimeout(load_or_wait, 100)\n}(window));",
      "application/vnd.holoviews_load.v0+json": ""
     },
     "metadata": {},
     "output_type": "display_data"
    },
    {
     "data": {
      "application/javascript": "\nif ((window.PyViz === undefined) || (window.PyViz instanceof HTMLElement)) {\n  window.PyViz = {comms: {}, comm_status:{}, kernels:{}, receivers: {}, plot_index: []}\n}\n\n\n    function JupyterCommManager() {\n    }\n\n    JupyterCommManager.prototype.register_target = function(plot_id, comm_id, msg_handler) {\n      if (window.comm_manager || ((window.Jupyter !== undefined) && (Jupyter.notebook.kernel != null))) {\n        var comm_manager = window.comm_manager || Jupyter.notebook.kernel.comm_manager;\n        comm_manager.register_target(comm_id, function(comm) {\n          comm.on_msg(msg_handler);\n        });\n      } else if ((plot_id in window.PyViz.kernels) && (window.PyViz.kernels[plot_id])) {\n        window.PyViz.kernels[plot_id].registerCommTarget(comm_id, function(comm) {\n          comm.onMsg = msg_handler;\n        });\n      } else if (typeof google != 'undefined' && google.colab.kernel != null) {\n        google.colab.kernel.comms.registerTarget(comm_id, (comm) => {\n          var messages = comm.messages[Symbol.asyncIterator]();\n          function processIteratorResult(result) {\n            var message = result.value;\n            console.log(message)\n            var content = {data: message.data, comm_id};\n            var buffers = []\n            for (var buffer of message.buffers || []) {\n              buffers.push(new DataView(buffer))\n            }\n            var metadata = message.metadata || {};\n            var msg = {content, buffers, metadata}\n            msg_handler(msg);\n            return messages.next().then(processIteratorResult);\n          }\n          return messages.next().then(processIteratorResult);\n        })\n      }\n    }\n\n    JupyterCommManager.prototype.get_client_comm = function(plot_id, comm_id, msg_handler) {\n      if (comm_id in window.PyViz.comms) {\n        return window.PyViz.comms[comm_id];\n      } else if (window.comm_manager || ((window.Jupyter !== undefined) && (Jupyter.notebook.kernel != null))) {\n        var comm_manager = window.comm_manager || Jupyter.notebook.kernel.comm_manager;\n        var comm = comm_manager.new_comm(comm_id, {}, {}, {}, comm_id);\n        if (msg_handler) {\n          comm.on_msg(msg_handler);\n        }\n      } else if ((plot_id in window.PyViz.kernels) && (window.PyViz.kernels[plot_id])) {\n        var comm = window.PyViz.kernels[plot_id].connectToComm(comm_id);\n        comm.open();\n        if (msg_handler) {\n          comm.onMsg = msg_handler;\n        }\n      } else if (typeof google != 'undefined' && google.colab.kernel != null) {\n        var comm_promise = google.colab.kernel.comms.open(comm_id)\n        comm_promise.then((comm) => {\n          window.PyViz.comms[comm_id] = comm;\n          if (msg_handler) {\n            var messages = comm.messages[Symbol.asyncIterator]();\n            function processIteratorResult(result) {\n              var message = result.value;\n              var content = {data: message.data};\n              var metadata = message.metadata || {comm_id};\n              var msg = {content, metadata}\n              msg_handler(msg);\n              return messages.next().then(processIteratorResult);\n            }\n            return messages.next().then(processIteratorResult);\n          }\n        }) \n        var sendClosure = (data, metadata, buffers, disposeOnDone) => {\n          return comm_promise.then((comm) => {\n            comm.send(data, metadata, buffers, disposeOnDone);\n          });\n        };\n        var comm = {\n          send: sendClosure\n        };\n      }\n      window.PyViz.comms[comm_id] = comm;\n      return comm;\n    }\n    window.PyViz.comm_manager = new JupyterCommManager();\n    \n\n\nvar JS_MIME_TYPE = 'application/javascript';\nvar HTML_MIME_TYPE = 'text/html';\nvar EXEC_MIME_TYPE = 'application/vnd.holoviews_exec.v0+json';\nvar CLASS_NAME = 'output';\n\n/**\n * Render data to the DOM node\n */\nfunction render(props, node) {\n  var div = document.createElement(\"div\");\n  var script = document.createElement(\"script\");\n  node.appendChild(div);\n  node.appendChild(script);\n}\n\n/**\n * Handle when a new output is added\n */\nfunction handle_add_output(event, handle) {\n  var output_area = handle.output_area;\n  var output = handle.output;\n  if ((output.data == undefined) || (!output.data.hasOwnProperty(EXEC_MIME_TYPE))) {\n    return\n  }\n  var id = output.metadata[EXEC_MIME_TYPE][\"id\"];\n  var toinsert = output_area.element.find(\".\" + CLASS_NAME.split(' ')[0]);\n  if (id !== undefined) {\n    var nchildren = toinsert.length;\n    var html_node = toinsert[nchildren-1].children[0];\n    html_node.innerHTML = output.data[HTML_MIME_TYPE];\n    var scripts = [];\n    var nodelist = html_node.querySelectorAll(\"script\");\n    for (var i in nodelist) {\n      if (nodelist.hasOwnProperty(i)) {\n        scripts.push(nodelist[i])\n      }\n    }\n\n    scripts.forEach( function (oldScript) {\n      var newScript = document.createElement(\"script\");\n      var attrs = [];\n      var nodemap = oldScript.attributes;\n      for (var j in nodemap) {\n        if (nodemap.hasOwnProperty(j)) {\n          attrs.push(nodemap[j])\n        }\n      }\n      attrs.forEach(function(attr) { newScript.setAttribute(attr.name, attr.value) });\n      newScript.appendChild(document.createTextNode(oldScript.innerHTML));\n      oldScript.parentNode.replaceChild(newScript, oldScript);\n    });\n    if (JS_MIME_TYPE in output.data) {\n      toinsert[nchildren-1].children[1].textContent = output.data[JS_MIME_TYPE];\n    }\n    output_area._hv_plot_id = id;\n    if ((window.Bokeh !== undefined) && (id in Bokeh.index)) {\n      window.PyViz.plot_index[id] = Bokeh.index[id];\n    } else {\n      window.PyViz.plot_index[id] = null;\n    }\n  } else if (output.metadata[EXEC_MIME_TYPE][\"server_id\"] !== undefined) {\n    var bk_div = document.createElement(\"div\");\n    bk_div.innerHTML = output.data[HTML_MIME_TYPE];\n    var script_attrs = bk_div.children[0].attributes;\n    for (var i = 0; i < script_attrs.length; i++) {\n      toinsert[toinsert.length - 1].childNodes[1].setAttribute(script_attrs[i].name, script_attrs[i].value);\n    }\n    // store reference to server id on output_area\n    output_area._bokeh_server_id = output.metadata[EXEC_MIME_TYPE][\"server_id\"];\n  }\n}\n\n/**\n * Handle when an output is cleared or removed\n */\nfunction handle_clear_output(event, handle) {\n  var id = handle.cell.output_area._hv_plot_id;\n  var server_id = handle.cell.output_area._bokeh_server_id;\n  if (((id === undefined) || !(id in PyViz.plot_index)) && (server_id !== undefined)) { return; }\n  var comm = window.PyViz.comm_manager.get_client_comm(\"hv-extension-comm\", \"hv-extension-comm\", function () {});\n  if (server_id !== null) {\n    comm.send({event_type: 'server_delete', 'id': server_id});\n    return;\n  } else if (comm !== null) {\n    comm.send({event_type: 'delete', 'id': id});\n  }\n  delete PyViz.plot_index[id];\n  if ((window.Bokeh !== undefined) & (id in window.Bokeh.index)) {\n    var doc = window.Bokeh.index[id].model.document\n    doc.clear();\n    const i = window.Bokeh.documents.indexOf(doc);\n    if (i > -1) {\n      window.Bokeh.documents.splice(i, 1);\n    }\n  }\n}\n\n/**\n * Handle kernel restart event\n */\nfunction handle_kernel_cleanup(event, handle) {\n  delete PyViz.comms[\"hv-extension-comm\"];\n  window.PyViz.plot_index = {}\n}\n\n/**\n * Handle update_display_data messages\n */\nfunction handle_update_output(event, handle) {\n  handle_clear_output(event, {cell: {output_area: handle.output_area}})\n  handle_add_output(event, handle)\n}\n\nfunction register_renderer(events, OutputArea) {\n  function append_mime(data, metadata, element) {\n    // create a DOM node to render to\n    var toinsert = this.create_output_subarea(\n    metadata,\n    CLASS_NAME,\n    EXEC_MIME_TYPE\n    );\n    this.keyboard_manager.register_events(toinsert);\n    // Render to node\n    var props = {data: data, metadata: metadata[EXEC_MIME_TYPE]};\n    render(props, toinsert[0]);\n    element.append(toinsert);\n    return toinsert\n  }\n\n  events.on('output_added.OutputArea', handle_add_output);\n  events.on('output_updated.OutputArea', handle_update_output);\n  events.on('clear_output.CodeCell', handle_clear_output);\n  events.on('delete.Cell', handle_clear_output);\n  events.on('kernel_ready.Kernel', handle_kernel_cleanup);\n\n  OutputArea.prototype.register_mime_type(EXEC_MIME_TYPE, append_mime, {\n    safe: true,\n    index: 0\n  });\n}\n\nif (window.Jupyter !== undefined) {\n  try {\n    var events = require('base/js/events');\n    var OutputArea = require('notebook/js/outputarea').OutputArea;\n    if (OutputArea.prototype.mime_types().indexOf(EXEC_MIME_TYPE) == -1) {\n      register_renderer(events, OutputArea);\n    }\n  } catch(err) {\n  }\n}\n",
      "application/vnd.holoviews_load.v0+json": ""
     },
     "metadata": {},
     "output_type": "display_data"
    },
    {
     "data": {
      "text/html": [
       "<style>*[data-root-id],\n",
       "*[data-root-id] > * {\n",
       "  box-sizing: border-box;\n",
       "  font-family: var(--jp-ui-font-family);\n",
       "  font-size: var(--jp-ui-font-size1);\n",
       "  color: var(--vscode-editor-foreground, var(--jp-ui-font-color1));\n",
       "}\n",
       "\n",
       "/* Override VSCode background color */\n",
       ".cell-output-ipywidget-background:has(\n",
       "    > .cell-output-ipywidget-background > .lm-Widget > *[data-root-id]\n",
       "  ),\n",
       ".cell-output-ipywidget-background:has(> .lm-Widget > *[data-root-id]) {\n",
       "  background-color: transparent !important;\n",
       "}\n",
       "</style>"
      ]
     },
     "metadata": {},
     "output_type": "display_data"
    },
    {
     "data": {
      "application/vnd.holoviews_exec.v0+json": "",
      "text/html": [
       "<div id='92c1a120-e8ac-401c-a4e9-9933f4a55a46'>\n",
       "  <div id=\"fdf55f38-999e-472a-a5fe-f0110722f138\" data-root-id=\"92c1a120-e8ac-401c-a4e9-9933f4a55a46\" style=\"display: contents;\"></div>\n",
       "</div>\n",
       "<script type=\"application/javascript\">(function(root) {\n",
       "  var docs_json = {\"2b2b42a4-7e8a-44ea-954e-ea15c02d3dd5\":{\"version\":\"3.4.3\",\"title\":\"Bokeh Application\",\"roots\":[{\"type\":\"object\",\"name\":\"panel.models.browser.BrowserInfo\",\"id\":\"92c1a120-e8ac-401c-a4e9-9933f4a55a46\"},{\"type\":\"object\",\"name\":\"panel.models.comm_manager.CommManager\",\"id\":\"c3ec0daa-0b32-4b01-9f8f-831793a15705\",\"attributes\":{\"plot_id\":\"92c1a120-e8ac-401c-a4e9-9933f4a55a46\",\"comm_id\":\"b33cfd31fa2142629ff8359025b3093d\",\"client_comm_id\":\"ec744c7212cd4ba98ff3d3dd9685aaa3\"}}],\"defs\":[{\"type\":\"model\",\"name\":\"ReactiveHTML1\"},{\"type\":\"model\",\"name\":\"FlexBox1\",\"properties\":[{\"name\":\"align_content\",\"kind\":\"Any\",\"default\":\"flex-start\"},{\"name\":\"align_items\",\"kind\":\"Any\",\"default\":\"flex-start\"},{\"name\":\"flex_direction\",\"kind\":\"Any\",\"default\":\"row\"},{\"name\":\"flex_wrap\",\"kind\":\"Any\",\"default\":\"wrap\"},{\"name\":\"gap\",\"kind\":\"Any\",\"default\":\"\"},{\"name\":\"justify_content\",\"kind\":\"Any\",\"default\":\"flex-start\"}]},{\"type\":\"model\",\"name\":\"FloatPanel1\",\"properties\":[{\"name\":\"config\",\"kind\":\"Any\",\"default\":{\"type\":\"map\"}},{\"name\":\"contained\",\"kind\":\"Any\",\"default\":true},{\"name\":\"position\",\"kind\":\"Any\",\"default\":\"right-top\"},{\"name\":\"offsetx\",\"kind\":\"Any\",\"default\":null},{\"name\":\"offsety\",\"kind\":\"Any\",\"default\":null},{\"name\":\"theme\",\"kind\":\"Any\",\"default\":\"primary\"},{\"name\":\"status\",\"kind\":\"Any\",\"default\":\"normalized\"}]},{\"type\":\"model\",\"name\":\"GridStack1\",\"properties\":[{\"name\":\"mode\",\"kind\":\"Any\",\"default\":\"warn\"},{\"name\":\"ncols\",\"kind\":\"Any\",\"default\":null},{\"name\":\"nrows\",\"kind\":\"Any\",\"default\":null},{\"name\":\"allow_resize\",\"kind\":\"Any\",\"default\":true},{\"name\":\"allow_drag\",\"kind\":\"Any\",\"default\":true},{\"name\":\"state\",\"kind\":\"Any\",\"default\":[]}]},{\"type\":\"model\",\"name\":\"drag1\",\"properties\":[{\"name\":\"slider_width\",\"kind\":\"Any\",\"default\":5},{\"name\":\"slider_color\",\"kind\":\"Any\",\"default\":\"black\"},{\"name\":\"value\",\"kind\":\"Any\",\"default\":50}]},{\"type\":\"model\",\"name\":\"click1\",\"properties\":[{\"name\":\"terminal_output\",\"kind\":\"Any\",\"default\":\"\"},{\"name\":\"debug_name\",\"kind\":\"Any\",\"default\":\"\"},{\"name\":\"clears\",\"kind\":\"Any\",\"default\":0}]},{\"type\":\"model\",\"name\":\"FastWrapper1\",\"properties\":[{\"name\":\"object\",\"kind\":\"Any\",\"default\":null},{\"name\":\"style\",\"kind\":\"Any\",\"default\":null}]},{\"type\":\"model\",\"name\":\"NotificationAreaBase1\",\"properties\":[{\"name\":\"js_events\",\"kind\":\"Any\",\"default\":{\"type\":\"map\"}},{\"name\":\"position\",\"kind\":\"Any\",\"default\":\"bottom-right\"},{\"name\":\"_clear\",\"kind\":\"Any\",\"default\":0}]},{\"type\":\"model\",\"name\":\"NotificationArea1\",\"properties\":[{\"name\":\"js_events\",\"kind\":\"Any\",\"default\":{\"type\":\"map\"}},{\"name\":\"notifications\",\"kind\":\"Any\",\"default\":[]},{\"name\":\"position\",\"kind\":\"Any\",\"default\":\"bottom-right\"},{\"name\":\"_clear\",\"kind\":\"Any\",\"default\":0},{\"name\":\"types\",\"kind\":\"Any\",\"default\":[{\"type\":\"map\",\"entries\":[[\"type\",\"warning\"],[\"background\",\"#ffc107\"],[\"icon\",{\"type\":\"map\",\"entries\":[[\"className\",\"fas fa-exclamation-triangle\"],[\"tagName\",\"i\"],[\"color\",\"white\"]]}]]},{\"type\":\"map\",\"entries\":[[\"type\",\"info\"],[\"background\",\"#007bff\"],[\"icon\",{\"type\":\"map\",\"entries\":[[\"className\",\"fas fa-info-circle\"],[\"tagName\",\"i\"],[\"color\",\"white\"]]}]]}]}]},{\"type\":\"model\",\"name\":\"Notification\",\"properties\":[{\"name\":\"background\",\"kind\":\"Any\",\"default\":null},{\"name\":\"duration\",\"kind\":\"Any\",\"default\":3000},{\"name\":\"icon\",\"kind\":\"Any\",\"default\":null},{\"name\":\"message\",\"kind\":\"Any\",\"default\":\"\"},{\"name\":\"notification_type\",\"kind\":\"Any\",\"default\":null},{\"name\":\"_destroyed\",\"kind\":\"Any\",\"default\":false}]},{\"type\":\"model\",\"name\":\"TemplateActions1\",\"properties\":[{\"name\":\"open_modal\",\"kind\":\"Any\",\"default\":0},{\"name\":\"close_modal\",\"kind\":\"Any\",\"default\":0}]},{\"type\":\"model\",\"name\":\"BootstrapTemplateActions1\",\"properties\":[{\"name\":\"open_modal\",\"kind\":\"Any\",\"default\":0},{\"name\":\"close_modal\",\"kind\":\"Any\",\"default\":0}]},{\"type\":\"model\",\"name\":\"TemplateEditor1\",\"properties\":[{\"name\":\"layout\",\"kind\":\"Any\",\"default\":[]}]},{\"type\":\"model\",\"name\":\"MaterialTemplateActions1\",\"properties\":[{\"name\":\"open_modal\",\"kind\":\"Any\",\"default\":0},{\"name\":\"close_modal\",\"kind\":\"Any\",\"default\":0}]},{\"type\":\"model\",\"name\":\"copy_to_clipboard1\",\"properties\":[{\"name\":\"fill\",\"kind\":\"Any\",\"default\":\"none\"},{\"name\":\"value\",\"kind\":\"Any\",\"default\":null}]}]}};\n",
       "  var render_items = [{\"docid\":\"2b2b42a4-7e8a-44ea-954e-ea15c02d3dd5\",\"roots\":{\"92c1a120-e8ac-401c-a4e9-9933f4a55a46\":\"fdf55f38-999e-472a-a5fe-f0110722f138\"},\"root_ids\":[\"92c1a120-e8ac-401c-a4e9-9933f4a55a46\"]}];\n",
       "  var docs = Object.values(docs_json)\n",
       "  if (!docs) {\n",
       "    return\n",
       "  }\n",
       "  const py_version = docs[0].version.replace('rc', '-rc.').replace('.dev', '-dev.')\n",
       "  async function embed_document(root) {\n",
       "    var Bokeh = get_bokeh(root)\n",
       "    await Bokeh.embed.embed_items_notebook(docs_json, render_items);\n",
       "    for (const render_item of render_items) {\n",
       "      for (const root_id of render_item.root_ids) {\n",
       "\tconst id_el = document.getElementById(root_id)\n",
       "\tif (id_el.children.length && id_el.children[0].hasAttribute('data-root-id')) {\n",
       "\t  const root_el = id_el.children[0]\n",
       "\t  root_el.id = root_el.id + '-rendered'\n",
       "\t  for (const child of root_el.children) {\n",
       "            // Ensure JupyterLab does not capture keyboard shortcuts\n",
       "            // see: https://jupyterlab.readthedocs.io/en/4.1.x/extension/notebook.html#keyboard-interaction-model\n",
       "\t    child.setAttribute('data-lm-suppress-shortcuts', 'true')\n",
       "\t  }\n",
       "\t}\n",
       "      }\n",
       "    }\n",
       "  }\n",
       "  function get_bokeh(root) {\n",
       "    if (root.Bokeh === undefined) {\n",
       "      return null\n",
       "    } else if (root.Bokeh.version !== py_version) {\n",
       "      if (root.Bokeh.versions === undefined || !root.Bokeh.versions.has(py_version)) {\n",
       "\treturn null\n",
       "      }\n",
       "      return root.Bokeh.versions.get(py_version);\n",
       "    } else if (root.Bokeh.version === py_version) {\n",
       "      return root.Bokeh\n",
       "    }\n",
       "    return null\n",
       "  }\n",
       "  function is_loaded(root) {\n",
       "    var Bokeh = get_bokeh(root)\n",
       "    return (Bokeh != null && Bokeh.Panel !== undefined)\n",
       "  }\n",
       "  if (is_loaded(root)) {\n",
       "    embed_document(root);\n",
       "  } else {\n",
       "    var attempts = 0;\n",
       "    var timer = setInterval(function(root) {\n",
       "      if (is_loaded(root)) {\n",
       "        clearInterval(timer);\n",
       "        embed_document(root);\n",
       "      } else if (document.readyState == \"complete\") {\n",
       "        attempts++;\n",
       "        if (attempts > 200) {\n",
       "          clearInterval(timer);\n",
       "\t  var Bokeh = get_bokeh(root)\n",
       "\t  if (Bokeh == null || Bokeh.Panel == null) {\n",
       "            console.warn(\"Panel: ERROR: Unable to run Panel code because Bokeh or Panel library is missing\");\n",
       "\t  } else {\n",
       "\t    console.warn(\"Panel: WARNING: Attempting to render but not all required libraries could be resolved.\")\n",
       "\t    embed_document(root)\n",
       "\t  }\n",
       "        }\n",
       "      }\n",
       "    }, 25, root)\n",
       "  }\n",
       "})(window);</script>"
      ]
     },
     "metadata": {
      "application/vnd.holoviews_exec.v0+json": {
       "id": "92c1a120-e8ac-401c-a4e9-9933f4a55a46"
      }
     },
     "output_type": "display_data"
    },
    {
     "data": {
      "application/javascript": "(function(root) {\n  function now() {\n    return new Date();\n  }\n\n  var force = true;\n  var py_version = '3.4.3'.replace('rc', '-rc.').replace('.dev', '-dev.');\n  var reloading = true;\n  var Bokeh = root.Bokeh;\n\n  if (typeof (root._bokeh_timeout) === \"undefined\" || force) {\n    root._bokeh_timeout = Date.now() + 5000;\n    root._bokeh_failed_load = false;\n  }\n\n  function run_callbacks() {\n    try {\n      root._bokeh_onload_callbacks.forEach(function(callback) {\n        if (callback != null)\n          callback();\n      });\n    } finally {\n      delete root._bokeh_onload_callbacks;\n    }\n    console.debug(\"Bokeh: all callbacks have finished\");\n  }\n\n  function load_libs(css_urls, js_urls, js_modules, js_exports, callback) {\n    if (css_urls == null) css_urls = [];\n    if (js_urls == null) js_urls = [];\n    if (js_modules == null) js_modules = [];\n    if (js_exports == null) js_exports = {};\n\n    root._bokeh_onload_callbacks.push(callback);\n\n    if (root._bokeh_is_loading > 0) {\n      console.debug(\"Bokeh: BokehJS is being loaded, scheduling callback at\", now());\n      return null;\n    }\n    if (js_urls.length === 0 && js_modules.length === 0 && Object.keys(js_exports).length === 0) {\n      run_callbacks();\n      return null;\n    }\n    if (!reloading) {\n      console.debug(\"Bokeh: BokehJS not loaded, scheduling load and callback at\", now());\n    }\n\n    function on_load() {\n      root._bokeh_is_loading--;\n      if (root._bokeh_is_loading === 0) {\n        console.debug(\"Bokeh: all BokehJS libraries/stylesheets loaded\");\n        run_callbacks()\n      }\n    }\n    window._bokeh_on_load = on_load\n\n    function on_error() {\n      console.error(\"failed to load \" + url);\n    }\n\n    var skip = [];\n    if (window.requirejs) {\n      window.requirejs.config({'packages': {}, 'paths': {}, 'shim': {}});\n      root._bokeh_is_loading = css_urls.length + 0;\n    } else {\n      root._bokeh_is_loading = css_urls.length + js_urls.length + js_modules.length + Object.keys(js_exports).length;\n    }\n\n    var existing_stylesheets = []\n    var links = document.getElementsByTagName('link')\n    for (var i = 0; i < links.length; i++) {\n      var link = links[i]\n      if (link.href != null) {\n\texisting_stylesheets.push(link.href)\n      }\n    }\n    for (var i = 0; i < css_urls.length; i++) {\n      var url = css_urls[i];\n      if (existing_stylesheets.indexOf(url) !== -1) {\n\ton_load()\n\tcontinue;\n      }\n      const element = document.createElement(\"link\");\n      element.onload = on_load;\n      element.onerror = on_error;\n      element.rel = \"stylesheet\";\n      element.type = \"text/css\";\n      element.href = url;\n      console.debug(\"Bokeh: injecting link tag for BokehJS stylesheet: \", url);\n      document.body.appendChild(element);\n    }    var existing_scripts = []\n    var scripts = document.getElementsByTagName('script')\n    for (var i = 0; i < scripts.length; i++) {\n      var script = scripts[i]\n      if (script.src != null) {\n\texisting_scripts.push(script.src)\n      }\n    }\n    for (var i = 0; i < js_urls.length; i++) {\n      var url = js_urls[i];\n      if (skip.indexOf(url) !== -1 || existing_scripts.indexOf(url) !== -1) {\n\tif (!window.requirejs) {\n\t  on_load();\n\t}\n\tcontinue;\n      }\n      var element = document.createElement('script');\n      element.onload = on_load;\n      element.onerror = on_error;\n      element.async = false;\n      element.src = url;\n      console.debug(\"Bokeh: injecting script tag for BokehJS library: \", url);\n      document.head.appendChild(element);\n    }\n    for (var i = 0; i < js_modules.length; i++) {\n      var url = js_modules[i];\n      if (skip.indexOf(url) !== -1 || existing_scripts.indexOf(url) !== -1) {\n\tif (!window.requirejs) {\n\t  on_load();\n\t}\n\tcontinue;\n      }\n      var element = document.createElement('script');\n      element.onload = on_load;\n      element.onerror = on_error;\n      element.async = false;\n      element.src = url;\n      element.type = \"module\";\n      console.debug(\"Bokeh: injecting script tag for BokehJS library: \", url);\n      document.head.appendChild(element);\n    }\n    for (const name in js_exports) {\n      var url = js_exports[name];\n      if (skip.indexOf(url) >= 0 || root[name] != null) {\n\tif (!window.requirejs) {\n\t  on_load();\n\t}\n\tcontinue;\n      }\n      var element = document.createElement('script');\n      element.onerror = on_error;\n      element.async = false;\n      element.type = \"module\";\n      console.debug(\"Bokeh: injecting script tag for BokehJS library: \", url);\n      element.textContent = `\n      import ${name} from \"${url}\"\n      window.${name} = ${name}\n      window._bokeh_on_load()\n      `\n      document.head.appendChild(element);\n    }\n    if (!js_urls.length && !js_modules.length) {\n      on_load()\n    }\n  };\n\n  function inject_raw_css(css) {\n    const element = document.createElement(\"style\");\n    element.appendChild(document.createTextNode(css));\n    document.body.appendChild(element);\n  }\n\n  var js_urls = [];\n  var js_modules = [];\n  var js_exports = {};\n  var css_urls = [];\n  var inline_js = [    function(Bokeh) {\n      Bokeh.set_log_level(\"info\");\n    },\nfunction(Bokeh) {} // ensure no trailing comma for IE\n  ];\n\n  function run_inline_js() {\n    if ((root.Bokeh !== undefined) || (force === true)) {\n      for (var i = 0; i < inline_js.length; i++) {\n\ttry {\n          inline_js[i].call(root, root.Bokeh);\n\t} catch(e) {\n\t  if (!reloading) {\n\t    throw e;\n\t  }\n\t}\n      }\n      // Cache old bokeh versions\n      if (Bokeh != undefined && !reloading) {\n\tvar NewBokeh = root.Bokeh;\n\tif (Bokeh.versions === undefined) {\n\t  Bokeh.versions = new Map();\n\t}\n\tif (NewBokeh.version !== Bokeh.version) {\n\t  Bokeh.versions.set(NewBokeh.version, NewBokeh)\n\t}\n\troot.Bokeh = Bokeh;\n      }} else if (Date.now() < root._bokeh_timeout) {\n      setTimeout(run_inline_js, 100);\n    } else if (!root._bokeh_failed_load) {\n      console.log(\"Bokeh: BokehJS failed to load within specified timeout.\");\n      root._bokeh_failed_load = true;\n    }\n    root._bokeh_is_initializing = false\n  }\n\n  function load_or_wait() {\n    // Implement a backoff loop that tries to ensure we do not load multiple\n    // versions of Bokeh and its dependencies at the same time.\n    // In recent versions we use the root._bokeh_is_initializing flag\n    // to determine whether there is an ongoing attempt to initialize\n    // bokeh, however for backward compatibility we also try to ensure\n    // that we do not start loading a newer (Panel>=1.0 and Bokeh>3) version\n    // before older versions are fully initialized.\n    if (root._bokeh_is_initializing && Date.now() > root._bokeh_timeout) {\n      root._bokeh_is_initializing = false;\n      root._bokeh_onload_callbacks = undefined;\n      console.log(\"Bokeh: BokehJS was loaded multiple times but one version failed to initialize.\");\n      load_or_wait();\n    } else if (root._bokeh_is_initializing || (typeof root._bokeh_is_initializing === \"undefined\" && root._bokeh_onload_callbacks !== undefined)) {\n      setTimeout(load_or_wait, 100);\n    } else {\n      root._bokeh_is_initializing = true\n      root._bokeh_onload_callbacks = []\n      var bokeh_loaded = Bokeh != null && (Bokeh.version === py_version || (Bokeh.versions !== undefined && Bokeh.versions.has(py_version)));\n      if (!reloading && !bokeh_loaded) {\n\troot.Bokeh = undefined;\n      }\n      load_libs(css_urls, js_urls, js_modules, js_exports, function() {\n\tconsole.debug(\"Bokeh: BokehJS plotting callback run at\", now());\n\trun_inline_js();\n      });\n    }\n  }\n  // Give older versions of the autoload script a head-start to ensure\n  // they initialize before we start loading newer version.\n  setTimeout(load_or_wait, 100)\n}(window));",
      "application/vnd.holoviews_load.v0+json": ""
     },
     "metadata": {},
     "output_type": "display_data"
    },
    {
     "data": {
      "application/javascript": "\nif ((window.PyViz === undefined) || (window.PyViz instanceof HTMLElement)) {\n  window.PyViz = {comms: {}, comm_status:{}, kernels:{}, receivers: {}, plot_index: []}\n}\n\n\n    function JupyterCommManager() {\n    }\n\n    JupyterCommManager.prototype.register_target = function(plot_id, comm_id, msg_handler) {\n      if (window.comm_manager || ((window.Jupyter !== undefined) && (Jupyter.notebook.kernel != null))) {\n        var comm_manager = window.comm_manager || Jupyter.notebook.kernel.comm_manager;\n        comm_manager.register_target(comm_id, function(comm) {\n          comm.on_msg(msg_handler);\n        });\n      } else if ((plot_id in window.PyViz.kernels) && (window.PyViz.kernels[plot_id])) {\n        window.PyViz.kernels[plot_id].registerCommTarget(comm_id, function(comm) {\n          comm.onMsg = msg_handler;\n        });\n      } else if (typeof google != 'undefined' && google.colab.kernel != null) {\n        google.colab.kernel.comms.registerTarget(comm_id, (comm) => {\n          var messages = comm.messages[Symbol.asyncIterator]();\n          function processIteratorResult(result) {\n            var message = result.value;\n            console.log(message)\n            var content = {data: message.data, comm_id};\n            var buffers = []\n            for (var buffer of message.buffers || []) {\n              buffers.push(new DataView(buffer))\n            }\n            var metadata = message.metadata || {};\n            var msg = {content, buffers, metadata}\n            msg_handler(msg);\n            return messages.next().then(processIteratorResult);\n          }\n          return messages.next().then(processIteratorResult);\n        })\n      }\n    }\n\n    JupyterCommManager.prototype.get_client_comm = function(plot_id, comm_id, msg_handler) {\n      if (comm_id in window.PyViz.comms) {\n        return window.PyViz.comms[comm_id];\n      } else if (window.comm_manager || ((window.Jupyter !== undefined) && (Jupyter.notebook.kernel != null))) {\n        var comm_manager = window.comm_manager || Jupyter.notebook.kernel.comm_manager;\n        var comm = comm_manager.new_comm(comm_id, {}, {}, {}, comm_id);\n        if (msg_handler) {\n          comm.on_msg(msg_handler);\n        }\n      } else if ((plot_id in window.PyViz.kernels) && (window.PyViz.kernels[plot_id])) {\n        var comm = window.PyViz.kernels[plot_id].connectToComm(comm_id);\n        comm.open();\n        if (msg_handler) {\n          comm.onMsg = msg_handler;\n        }\n      } else if (typeof google != 'undefined' && google.colab.kernel != null) {\n        var comm_promise = google.colab.kernel.comms.open(comm_id)\n        comm_promise.then((comm) => {\n          window.PyViz.comms[comm_id] = comm;\n          if (msg_handler) {\n            var messages = comm.messages[Symbol.asyncIterator]();\n            function processIteratorResult(result) {\n              var message = result.value;\n              var content = {data: message.data};\n              var metadata = message.metadata || {comm_id};\n              var msg = {content, metadata}\n              msg_handler(msg);\n              return messages.next().then(processIteratorResult);\n            }\n            return messages.next().then(processIteratorResult);\n          }\n        }) \n        var sendClosure = (data, metadata, buffers, disposeOnDone) => {\n          return comm_promise.then((comm) => {\n            comm.send(data, metadata, buffers, disposeOnDone);\n          });\n        };\n        var comm = {\n          send: sendClosure\n        };\n      }\n      window.PyViz.comms[comm_id] = comm;\n      return comm;\n    }\n    window.PyViz.comm_manager = new JupyterCommManager();\n    \n\n\nvar JS_MIME_TYPE = 'application/javascript';\nvar HTML_MIME_TYPE = 'text/html';\nvar EXEC_MIME_TYPE = 'application/vnd.holoviews_exec.v0+json';\nvar CLASS_NAME = 'output';\n\n/**\n * Render data to the DOM node\n */\nfunction render(props, node) {\n  var div = document.createElement(\"div\");\n  var script = document.createElement(\"script\");\n  node.appendChild(div);\n  node.appendChild(script);\n}\n\n/**\n * Handle when a new output is added\n */\nfunction handle_add_output(event, handle) {\n  var output_area = handle.output_area;\n  var output = handle.output;\n  if ((output.data == undefined) || (!output.data.hasOwnProperty(EXEC_MIME_TYPE))) {\n    return\n  }\n  var id = output.metadata[EXEC_MIME_TYPE][\"id\"];\n  var toinsert = output_area.element.find(\".\" + CLASS_NAME.split(' ')[0]);\n  if (id !== undefined) {\n    var nchildren = toinsert.length;\n    var html_node = toinsert[nchildren-1].children[0];\n    html_node.innerHTML = output.data[HTML_MIME_TYPE];\n    var scripts = [];\n    var nodelist = html_node.querySelectorAll(\"script\");\n    for (var i in nodelist) {\n      if (nodelist.hasOwnProperty(i)) {\n        scripts.push(nodelist[i])\n      }\n    }\n\n    scripts.forEach( function (oldScript) {\n      var newScript = document.createElement(\"script\");\n      var attrs = [];\n      var nodemap = oldScript.attributes;\n      for (var j in nodemap) {\n        if (nodemap.hasOwnProperty(j)) {\n          attrs.push(nodemap[j])\n        }\n      }\n      attrs.forEach(function(attr) { newScript.setAttribute(attr.name, attr.value) });\n      newScript.appendChild(document.createTextNode(oldScript.innerHTML));\n      oldScript.parentNode.replaceChild(newScript, oldScript);\n    });\n    if (JS_MIME_TYPE in output.data) {\n      toinsert[nchildren-1].children[1].textContent = output.data[JS_MIME_TYPE];\n    }\n    output_area._hv_plot_id = id;\n    if ((window.Bokeh !== undefined) && (id in Bokeh.index)) {\n      window.PyViz.plot_index[id] = Bokeh.index[id];\n    } else {\n      window.PyViz.plot_index[id] = null;\n    }\n  } else if (output.metadata[EXEC_MIME_TYPE][\"server_id\"] !== undefined) {\n    var bk_div = document.createElement(\"div\");\n    bk_div.innerHTML = output.data[HTML_MIME_TYPE];\n    var script_attrs = bk_div.children[0].attributes;\n    for (var i = 0; i < script_attrs.length; i++) {\n      toinsert[toinsert.length - 1].childNodes[1].setAttribute(script_attrs[i].name, script_attrs[i].value);\n    }\n    // store reference to server id on output_area\n    output_area._bokeh_server_id = output.metadata[EXEC_MIME_TYPE][\"server_id\"];\n  }\n}\n\n/**\n * Handle when an output is cleared or removed\n */\nfunction handle_clear_output(event, handle) {\n  var id = handle.cell.output_area._hv_plot_id;\n  var server_id = handle.cell.output_area._bokeh_server_id;\n  if (((id === undefined) || !(id in PyViz.plot_index)) && (server_id !== undefined)) { return; }\n  var comm = window.PyViz.comm_manager.get_client_comm(\"hv-extension-comm\", \"hv-extension-comm\", function () {});\n  if (server_id !== null) {\n    comm.send({event_type: 'server_delete', 'id': server_id});\n    return;\n  } else if (comm !== null) {\n    comm.send({event_type: 'delete', 'id': id});\n  }\n  delete PyViz.plot_index[id];\n  if ((window.Bokeh !== undefined) & (id in window.Bokeh.index)) {\n    var doc = window.Bokeh.index[id].model.document\n    doc.clear();\n    const i = window.Bokeh.documents.indexOf(doc);\n    if (i > -1) {\n      window.Bokeh.documents.splice(i, 1);\n    }\n  }\n}\n\n/**\n * Handle kernel restart event\n */\nfunction handle_kernel_cleanup(event, handle) {\n  delete PyViz.comms[\"hv-extension-comm\"];\n  window.PyViz.plot_index = {}\n}\n\n/**\n * Handle update_display_data messages\n */\nfunction handle_update_output(event, handle) {\n  handle_clear_output(event, {cell: {output_area: handle.output_area}})\n  handle_add_output(event, handle)\n}\n\nfunction register_renderer(events, OutputArea) {\n  function append_mime(data, metadata, element) {\n    // create a DOM node to render to\n    var toinsert = this.create_output_subarea(\n    metadata,\n    CLASS_NAME,\n    EXEC_MIME_TYPE\n    );\n    this.keyboard_manager.register_events(toinsert);\n    // Render to node\n    var props = {data: data, metadata: metadata[EXEC_MIME_TYPE]};\n    render(props, toinsert[0]);\n    element.append(toinsert);\n    return toinsert\n  }\n\n  events.on('output_added.OutputArea', handle_add_output);\n  events.on('output_updated.OutputArea', handle_update_output);\n  events.on('clear_output.CodeCell', handle_clear_output);\n  events.on('delete.Cell', handle_clear_output);\n  events.on('kernel_ready.Kernel', handle_kernel_cleanup);\n\n  OutputArea.prototype.register_mime_type(EXEC_MIME_TYPE, append_mime, {\n    safe: true,\n    index: 0\n  });\n}\n\nif (window.Jupyter !== undefined) {\n  try {\n    var events = require('base/js/events');\n    var OutputArea = require('notebook/js/outputarea').OutputArea;\n    if (OutputArea.prototype.mime_types().indexOf(EXEC_MIME_TYPE) == -1) {\n      register_renderer(events, OutputArea);\n    }\n  } catch(err) {\n  }\n}\n",
      "application/vnd.holoviews_load.v0+json": ""
     },
     "metadata": {},
     "output_type": "display_data"
    },
    {
     "data": {
      "text/html": [
       "<style>*[data-root-id],\n",
       "*[data-root-id] > * {\n",
       "  box-sizing: border-box;\n",
       "  font-family: var(--jp-ui-font-family);\n",
       "  font-size: var(--jp-ui-font-size1);\n",
       "  color: var(--vscode-editor-foreground, var(--jp-ui-font-color1));\n",
       "}\n",
       "\n",
       "/* Override VSCode background color */\n",
       ".cell-output-ipywidget-background:has(\n",
       "    > .cell-output-ipywidget-background > .lm-Widget > *[data-root-id]\n",
       "  ),\n",
       ".cell-output-ipywidget-background:has(> .lm-Widget > *[data-root-id]) {\n",
       "  background-color: transparent !important;\n",
       "}\n",
       "</style>"
      ]
     },
     "metadata": {},
     "output_type": "display_data"
    },
    {
     "data": {},
     "metadata": {},
     "output_type": "display_data"
    },
    {
     "data": {
      "application/vnd.holoviews_exec.v0+json": "",
      "text/html": [
       "<div id='33bc3d02-e9b3-4712-865b-b12707c05ff6'>\n",
       "  <div id=\"d6ed4e90-985f-4140-a692-d50dabbb2008\" data-root-id=\"33bc3d02-e9b3-4712-865b-b12707c05ff6\" style=\"display: contents;\"></div>\n",
       "</div>\n",
       "<script type=\"application/javascript\">(function(root) {\n",
       "  var docs_json = {\"ca5889f6-5b26-46f0-8c6a-7603222c4871\":{\"version\":\"3.4.3\",\"title\":\"Bokeh Application\",\"roots\":[{\"type\":\"object\",\"name\":\"Row\",\"id\":\"33bc3d02-e9b3-4712-865b-b12707c05ff6\",\"attributes\":{\"name\":\"Row01482\",\"tags\":[\"embedded\"],\"stylesheets\":[\"\\n:host(.pn-loading):before, .pn-loading:before {\\n  background-color: #c3c3c3;\\n  mask-size: auto calc(min(50%, 400px));\\n  -webkit-mask-size: auto calc(min(50%, 400px));\\n}\",{\"type\":\"object\",\"name\":\"ImportedStyleSheet\",\"id\":\"7b6c0718-5ed3-4009-933d-d1ee155b7f9b\",\"attributes\":{\"url\":\"https://cdn.holoviz.org/panel/1.4.5/dist/css/loading.css\"}},{\"type\":\"object\",\"name\":\"ImportedStyleSheet\",\"id\":\"68acce13-43bb-4fab-b7ec-ae84b64e06b8\",\"attributes\":{\"url\":\"https://cdn.holoviz.org/panel/1.4.5/dist/css/listpanel.css\"}},{\"type\":\"object\",\"name\":\"ImportedStyleSheet\",\"id\":\"ba10ab9e-07a0-43c0-921e-e79ecdc95761\",\"attributes\":{\"url\":\"https://cdn.holoviz.org/panel/1.4.5/dist/bundled/theme/default.css\"}},{\"type\":\"object\",\"name\":\"ImportedStyleSheet\",\"id\":\"db2793ce-aafb-4400-89ae-9ce0a68d282d\",\"attributes\":{\"url\":\"https://cdn.holoviz.org/panel/1.4.5/dist/bundled/theme/native.css\"}}],\"min_width\":800,\"margin\":0,\"sizing_mode\":\"stretch_width\",\"align\":\"start\",\"children\":[{\"type\":\"object\",\"name\":\"Spacer\",\"id\":\"59ef1879-cbda-47f6-90c2-8436aa396cd6\",\"attributes\":{\"name\":\"HSpacer01486\",\"stylesheets\":[\"\\n:host(.pn-loading):before, .pn-loading:before {\\n  background-color: #c3c3c3;\\n  mask-size: auto calc(min(50%, 400px));\\n  -webkit-mask-size: auto calc(min(50%, 400px));\\n}\",{\"id\":\"7b6c0718-5ed3-4009-933d-d1ee155b7f9b\"},{\"id\":\"ba10ab9e-07a0-43c0-921e-e79ecdc95761\"},{\"id\":\"db2793ce-aafb-4400-89ae-9ce0a68d282d\"}],\"margin\":0,\"sizing_mode\":\"stretch_width\",\"align\":\"start\"}},{\"type\":\"object\",\"name\":\"Figure\",\"id\":\"dcb6120f-182f-4492-8189-d66a0ab9f961\",\"attributes\":{\"width\":800,\"margin\":[5,10],\"sizing_mode\":\"fixed\",\"align\":\"start\",\"x_range\":{\"type\":\"object\",\"name\":\"Range1d\",\"id\":\"3beb1b76-9cfe-4d52-abcf-51fdc19cdc51\",\"attributes\":{\"name\":\"x\",\"tags\":[[[\"x\",null]],[]]}},\"y_range\":{\"type\":\"object\",\"name\":\"Range1d\",\"id\":\"eb3eccc3-e4eb-478a-ae7c-9e9f8aea6e4f\",\"attributes\":{\"name\":\"y\",\"tags\":[[[\"y\",null]],{\"type\":\"map\",\"entries\":[[\"invert_yaxis\",false],[\"autorange\",false]]}]}},\"x_scale\":{\"type\":\"object\",\"name\":\"LinearScale\",\"id\":\"958fba6c-14ec-4071-835c-703f955506aa\"},\"y_scale\":{\"type\":\"object\",\"name\":\"LinearScale\",\"id\":\"b925731a-05c7-4d45-bb42-697ccb84f2bc\"},\"title\":{\"type\":\"object\",\"name\":\"Title\",\"id\":\"207d1725-98ec-4e02-ba1e-0c3d613d2240\",\"attributes\":{\"text_color\":\"black\",\"text_font_size\":\"12pt\"}},\"renderers\":[{\"type\":\"object\",\"name\":\"GlyphRenderer\",\"id\":\"7a5633d5-6bf3-447d-94d2-2159a00ceca8\",\"attributes\":{\"data_source\":{\"type\":\"object\",\"name\":\"ColumnDataSource\",\"id\":\"32c5bb81-cd6b-4b4a-85f9-31341ed6c8da\",\"attributes\":{\"selected\":{\"type\":\"object\",\"name\":\"Selection\",\"id\":\"2a5857ba-c58b-449b-bca8-f2bf6528a30f\",\"attributes\":{\"indices\":[],\"line_indices\":[]}},\"selection_policy\":{\"type\":\"object\",\"name\":\"UnionRenderers\",\"id\":\"01174c87-7780-4118-964b-b5329aa7b02a\"},\"data\":{\"type\":\"map\",\"entries\":[[\"x\",{\"type\":\"ndarray\",\"array\":{\"type\":\"bytes\",\"data\":\"\"},\"shape\":[0],\"dtype\":\"float64\",\"order\":\"little\"}],[\"y\",{\"type\":\"ndarray\",\"array\":{\"type\":\"bytes\",\"data\":\"\"},\"shape\":[0],\"dtype\":\"float64\",\"order\":\"little\"}]]}}},\"view\":{\"type\":\"object\",\"name\":\"CDSView\",\"id\":\"5e8cac20-b078-4dc7-8580-e5b943266632\",\"attributes\":{\"filter\":{\"type\":\"object\",\"name\":\"AllIndices\",\"id\":\"33171a1a-e9a3-488e-915e-55abe55ff70b\"}}},\"glyph\":{\"type\":\"object\",\"name\":\"Scatter\",\"id\":\"a94b9ef6-8525-42cb-b208-7fac13a8dc7d\",\"attributes\":{\"tags\":[\"apply_ranges\"],\"x\":{\"type\":\"field\",\"field\":\"x\"},\"y\":{\"type\":\"field\",\"field\":\"y\"},\"size\":{\"type\":\"value\",\"value\":2.449489742783178},\"line_color\":{\"type\":\"value\",\"value\":\"#30a2da\"},\"fill_color\":{\"type\":\"value\",\"value\":\"#30a2da\"},\"hatch_color\":{\"type\":\"value\",\"value\":\"#30a2da\"}}},\"selection_glyph\":{\"type\":\"object\",\"name\":\"Scatter\",\"id\":\"82f9cdde-8ea2-4f9f-aff7-183fb622327b\",\"attributes\":{\"tags\":[\"apply_ranges\"],\"x\":{\"type\":\"field\",\"field\":\"x\"},\"y\":{\"type\":\"field\",\"field\":\"y\"},\"size\":{\"type\":\"value\",\"value\":2.449489742783178},\"angle\":{\"type\":\"value\",\"value\":0.0},\"line_color\":{\"type\":\"value\",\"value\":\"#30a2da\"},\"line_alpha\":{\"type\":\"value\",\"value\":1.0},\"line_width\":{\"type\":\"value\",\"value\":1},\"line_join\":{\"type\":\"value\",\"value\":\"bevel\"},\"line_cap\":{\"type\":\"value\",\"value\":\"butt\"},\"line_dash\":{\"type\":\"value\",\"value\":[]},\"line_dash_offset\":{\"type\":\"value\",\"value\":0},\"fill_color\":{\"type\":\"value\",\"value\":\"#30a2da\"},\"fill_alpha\":{\"type\":\"value\",\"value\":1.0},\"hatch_color\":{\"type\":\"value\",\"value\":\"#30a2da\"},\"hatch_alpha\":{\"type\":\"value\",\"value\":1.0},\"hatch_scale\":{\"type\":\"value\",\"value\":12.0},\"hatch_pattern\":{\"type\":\"value\",\"value\":null},\"hatch_weight\":{\"type\":\"value\",\"value\":1.0},\"marker\":{\"type\":\"value\",\"value\":\"circle\"}}},\"nonselection_glyph\":{\"type\":\"object\",\"name\":\"Scatter\",\"id\":\"daab65e0-94de-4f52-8c7d-4857fb23b678\",\"attributes\":{\"tags\":[\"apply_ranges\"],\"x\":{\"type\":\"field\",\"field\":\"x\"},\"y\":{\"type\":\"field\",\"field\":\"y\"},\"size\":{\"type\":\"value\",\"value\":2.449489742783178},\"line_color\":{\"type\":\"value\",\"value\":\"#30a2da\"},\"line_alpha\":{\"type\":\"value\",\"value\":0.1},\"fill_color\":{\"type\":\"value\",\"value\":\"#30a2da\"},\"fill_alpha\":{\"type\":\"value\",\"value\":0.1},\"hatch_color\":{\"type\":\"value\",\"value\":\"#30a2da\"},\"hatch_alpha\":{\"type\":\"value\",\"value\":0.1}}},\"muted_glyph\":{\"type\":\"object\",\"name\":\"Scatter\",\"id\":\"ce971515-d95a-494a-a811-c723d3692b0d\",\"attributes\":{\"tags\":[\"apply_ranges\"],\"x\":{\"type\":\"field\",\"field\":\"x\"},\"y\":{\"type\":\"field\",\"field\":\"y\"},\"size\":{\"type\":\"value\",\"value\":2.449489742783178},\"line_color\":{\"type\":\"value\",\"value\":\"#30a2da\"},\"line_alpha\":{\"type\":\"value\",\"value\":0.2},\"fill_color\":{\"type\":\"value\",\"value\":\"#30a2da\"},\"fill_alpha\":{\"type\":\"value\",\"value\":0.2},\"hatch_color\":{\"type\":\"value\",\"value\":\"#30a2da\"},\"hatch_alpha\":{\"type\":\"value\",\"value\":0.2}}}}},{\"type\":\"object\",\"name\":\"GlyphRenderer\",\"id\":\"676a5bd9-03a3-47af-a0a3-e5f3e7793327\",\"attributes\":{\"name\":\"Success\",\"data_source\":{\"type\":\"object\",\"name\":\"ColumnDataSource\",\"id\":\"d6badb95-893d-4571-a332-9911c4ac93a5\",\"attributes\":{\"selected\":{\"type\":\"object\",\"name\":\"Selection\",\"id\":\"a7a340e7-226a-484a-889b-f54b4e3b05f9\",\"attributes\":{\"indices\":[],\"line_indices\":[]}},\"selection_policy\":{\"type\":\"object\",\"name\":\"UnionRenderers\",\"id\":\"e57a00de-8636-4701-b943-241358096b17\"},\"data\":{\"type\":\"map\",\"entries\":[[\"ext_offset\",{\"type\":\"ndarray\",\"array\":{\"type\":\"bytes\",\"data\":\"\"},\"shape\":[0],\"dtype\":\"float64\",\"order\":\"little\"}],[\"repeat\",{\"type\":\"ndarray\",\"array\":{\"type\":\"bytes\",\"data\":\"\"},\"shape\":[0],\"dtype\":\"float64\",\"order\":\"little\"}],[\"success_rate\",{\"type\":\"ndarray\",\"array\":{\"type\":\"bytes\",\"data\":\"\"},\"shape\":[0],\"dtype\":\"float64\",\"order\":\"little\"}],[\"alpha\",{\"type\":\"ndarray\",\"array\":{\"type\":\"bytes\",\"data\":\"\"},\"shape\":[0],\"dtype\":\"float64\",\"order\":\"little\"}]]}}},\"view\":{\"type\":\"object\",\"name\":\"CDSView\",\"id\":\"1ff11dde-d36e-40e5-b5ba-a7a5e4601c3d\",\"attributes\":{\"filter\":{\"type\":\"object\",\"name\":\"AllIndices\",\"id\":\"151d4f74-e77a-436d-8591-45d40e96cefa\"}}},\"glyph\":{\"type\":\"object\",\"name\":\"Scatter\",\"id\":\"ca48c7c3-7e7b-4258-8a56-04d2d5de9bb4\",\"attributes\":{\"tags\":[\"apply_ranges\"],\"x\":{\"type\":\"field\",\"field\":\"ext_offset\"},\"y\":{\"type\":\"field\",\"field\":\"repeat\"},\"size\":{\"type\":\"value\",\"value\":10},\"line_color\":{\"type\":\"value\",\"value\":\"#007f00\"},\"line_alpha\":{\"type\":\"field\",\"field\":\"alpha\"},\"fill_color\":{\"type\":\"value\",\"value\":\"#007f00\"},\"fill_alpha\":{\"type\":\"field\",\"field\":\"alpha\"},\"hatch_color\":{\"type\":\"value\",\"value\":\"#007f00\"},\"hatch_alpha\":{\"type\":\"field\",\"field\":\"alpha\"},\"marker\":{\"type\":\"value\",\"value\":\"cross\"}}},\"selection_glyph\":{\"type\":\"object\",\"name\":\"Scatter\",\"id\":\"36e06e88-bd69-4e7e-8ee8-e956a760e4f5\",\"attributes\":{\"tags\":[\"apply_ranges\"],\"x\":{\"type\":\"field\",\"field\":\"ext_offset\"},\"y\":{\"type\":\"field\",\"field\":\"repeat\"},\"size\":{\"type\":\"value\",\"value\":10},\"line_color\":{\"type\":\"value\",\"value\":\"#007f00\"},\"line_alpha\":{\"type\":\"field\",\"field\":\"alpha\"},\"fill_color\":{\"type\":\"value\",\"value\":\"#007f00\"},\"fill_alpha\":{\"type\":\"field\",\"field\":\"alpha\"},\"hatch_color\":{\"type\":\"value\",\"value\":\"#007f00\"},\"hatch_alpha\":{\"type\":\"field\",\"field\":\"alpha\"},\"marker\":{\"type\":\"value\",\"value\":\"cross\"}}},\"nonselection_glyph\":{\"type\":\"object\",\"name\":\"Scatter\",\"id\":\"9194493a-ff74-4419-b395-3ec3b3d9b396\",\"attributes\":{\"tags\":[\"apply_ranges\"],\"x\":{\"type\":\"field\",\"field\":\"ext_offset\"},\"y\":{\"type\":\"field\",\"field\":\"repeat\"},\"size\":{\"type\":\"value\",\"value\":10},\"line_color\":{\"type\":\"value\",\"value\":\"#007f00\"},\"line_alpha\":{\"type\":\"field\",\"field\":\"alpha\"},\"fill_color\":{\"type\":\"value\",\"value\":\"#007f00\"},\"fill_alpha\":{\"type\":\"field\",\"field\":\"alpha\"},\"hatch_color\":{\"type\":\"value\",\"value\":\"#007f00\"},\"hatch_alpha\":{\"type\":\"value\",\"value\":0.1},\"marker\":{\"type\":\"value\",\"value\":\"cross\"}}},\"hover_glyph\":{\"type\":\"object\",\"name\":\"Scatter\",\"id\":\"54c3a88d-ae14-4953-b1ef-d34dc886c608\",\"attributes\":{\"tags\":[\"apply_ranges\"],\"x\":{\"type\":\"field\",\"field\":\"ext_offset\"},\"y\":{\"type\":\"field\",\"field\":\"repeat\"},\"size\":{\"type\":\"value\",\"value\":10},\"line_color\":{\"type\":\"value\",\"value\":\"#007f00\"},\"line_alpha\":{\"type\":\"field\",\"field\":\"alpha\"},\"fill_color\":{\"type\":\"value\",\"value\":\"#007f00\"},\"fill_alpha\":{\"type\":\"field\",\"field\":\"alpha\"},\"hatch_color\":{\"type\":\"value\",\"value\":\"#007f00\"},\"hatch_alpha\":{\"type\":\"field\",\"field\":\"alpha\"},\"marker\":{\"type\":\"value\",\"value\":\"cross\"}}},\"muted_glyph\":{\"type\":\"object\",\"name\":\"Scatter\",\"id\":\"2e0ada32-e2ed-4d83-b8fc-26d6cf4f38be\",\"attributes\":{\"tags\":[\"apply_ranges\"],\"x\":{\"type\":\"field\",\"field\":\"ext_offset\"},\"y\":{\"type\":\"field\",\"field\":\"repeat\"},\"size\":{\"type\":\"value\",\"value\":10},\"line_color\":{\"type\":\"value\",\"value\":\"#007f00\"},\"line_alpha\":{\"type\":\"value\",\"value\":0.2},\"fill_color\":{\"type\":\"value\",\"value\":\"#007f00\"},\"fill_alpha\":{\"type\":\"value\",\"value\":0.2},\"hatch_color\":{\"type\":\"value\",\"value\":\"#007f00\"},\"hatch_alpha\":{\"type\":\"value\",\"value\":0.2},\"marker\":{\"type\":\"value\",\"value\":\"cross\"}}}}},{\"type\":\"object\",\"name\":\"GlyphRenderer\",\"id\":\"2c8d8c55-fad4-4132-98ea-de4ec35024af\",\"attributes\":{\"name\":\"Reset\",\"data_source\":{\"type\":\"object\",\"name\":\"ColumnDataSource\",\"id\":\"81eaf187-0758-4996-b3b1-a8d47843d3cc\",\"attributes\":{\"selected\":{\"type\":\"object\",\"name\":\"Selection\",\"id\":\"fe737e92-f4a9-40fc-bba1-60eb6fc42789\",\"attributes\":{\"indices\":[],\"line_indices\":[]}},\"selection_policy\":{\"type\":\"object\",\"name\":\"UnionRenderers\",\"id\":\"cbd97239-b318-4e76-8058-72d013713720\"},\"data\":{\"type\":\"map\",\"entries\":[[\"ext_offset\",{\"type\":\"ndarray\",\"array\":{\"type\":\"bytes\",\"data\":\"\"},\"shape\":[0],\"dtype\":\"float64\",\"order\":\"little\"}],[\"repeat\",{\"type\":\"ndarray\",\"array\":{\"type\":\"bytes\",\"data\":\"\"},\"shape\":[0],\"dtype\":\"float64\",\"order\":\"little\"}],[\"reset_rate\",{\"type\":\"ndarray\",\"array\":{\"type\":\"bytes\",\"data\":\"\"},\"shape\":[0],\"dtype\":\"float64\",\"order\":\"little\"}],[\"alpha\",{\"type\":\"ndarray\",\"array\":{\"type\":\"bytes\",\"data\":\"\"},\"shape\":[0],\"dtype\":\"float64\",\"order\":\"little\"}]]}}},\"view\":{\"type\":\"object\",\"name\":\"CDSView\",\"id\":\"c793eff0-9e18-4a7f-aae0-df52eae1885f\",\"attributes\":{\"filter\":{\"type\":\"object\",\"name\":\"AllIndices\",\"id\":\"c47fc951-f371-44c5-b1c6-5df722ad258d\"}}},\"glyph\":{\"type\":\"object\",\"name\":\"Scatter\",\"id\":\"a877e3db-01c4-4ff7-b8d8-69d5f25aa96c\",\"attributes\":{\"tags\":[\"apply_ranges\"],\"x\":{\"type\":\"field\",\"field\":\"ext_offset\"},\"y\":{\"type\":\"field\",\"field\":\"repeat\"},\"size\":{\"type\":\"value\",\"value\":10},\"angle\":{\"type\":\"value\",\"value\":0.7853981633974483},\"line_color\":{\"type\":\"value\",\"value\":\"#ff0000\"},\"line_alpha\":{\"type\":\"field\",\"field\":\"alpha\"},\"fill_color\":{\"type\":\"value\",\"value\":\"#ff0000\"},\"fill_alpha\":{\"type\":\"field\",\"field\":\"alpha\"},\"hatch_color\":{\"type\":\"value\",\"value\":\"#ff0000\"},\"hatch_alpha\":{\"type\":\"field\",\"field\":\"alpha\"},\"marker\":{\"type\":\"value\",\"value\":\"cross\"}}},\"selection_glyph\":{\"type\":\"object\",\"name\":\"Scatter\",\"id\":\"f47dbc28-213a-46b8-9860-ad3e69bf13de\",\"attributes\":{\"tags\":[\"apply_ranges\"],\"x\":{\"type\":\"field\",\"field\":\"ext_offset\"},\"y\":{\"type\":\"field\",\"field\":\"repeat\"},\"size\":{\"type\":\"value\",\"value\":10},\"angle\":{\"type\":\"value\",\"value\":0.7853981633974483},\"line_color\":{\"type\":\"value\",\"value\":\"#ff0000\"},\"line_alpha\":{\"type\":\"field\",\"field\":\"alpha\"},\"fill_color\":{\"type\":\"value\",\"value\":\"#ff0000\"},\"fill_alpha\":{\"type\":\"field\",\"field\":\"alpha\"},\"hatch_color\":{\"type\":\"value\",\"value\":\"#ff0000\"},\"hatch_alpha\":{\"type\":\"field\",\"field\":\"alpha\"},\"marker\":{\"type\":\"value\",\"value\":\"cross\"}}},\"nonselection_glyph\":{\"type\":\"object\",\"name\":\"Scatter\",\"id\":\"8903c14e-bbcb-417d-afca-394fc062aef6\",\"attributes\":{\"tags\":[\"apply_ranges\"],\"x\":{\"type\":\"field\",\"field\":\"ext_offset\"},\"y\":{\"type\":\"field\",\"field\":\"repeat\"},\"size\":{\"type\":\"value\",\"value\":10},\"angle\":{\"type\":\"value\",\"value\":0.7853981633974483},\"line_color\":{\"type\":\"value\",\"value\":\"#ff0000\"},\"line_alpha\":{\"type\":\"field\",\"field\":\"alpha\"},\"fill_color\":{\"type\":\"value\",\"value\":\"#ff0000\"},\"fill_alpha\":{\"type\":\"field\",\"field\":\"alpha\"},\"hatch_color\":{\"type\":\"value\",\"value\":\"#ff0000\"},\"hatch_alpha\":{\"type\":\"value\",\"value\":0.1},\"marker\":{\"type\":\"value\",\"value\":\"cross\"}}},\"hover_glyph\":{\"type\":\"object\",\"name\":\"Scatter\",\"id\":\"20946be1-3d89-4959-b8b6-6ec07c673026\",\"attributes\":{\"tags\":[\"apply_ranges\"],\"x\":{\"type\":\"field\",\"field\":\"ext_offset\"},\"y\":{\"type\":\"field\",\"field\":\"repeat\"},\"size\":{\"type\":\"value\",\"value\":10},\"angle\":{\"type\":\"value\",\"value\":0.7853981633974483},\"line_color\":{\"type\":\"value\",\"value\":\"#ff0000\"},\"line_alpha\":{\"type\":\"field\",\"field\":\"alpha\"},\"fill_color\":{\"type\":\"value\",\"value\":\"#ff0000\"},\"fill_alpha\":{\"type\":\"field\",\"field\":\"alpha\"},\"hatch_color\":{\"type\":\"value\",\"value\":\"#ff0000\"},\"hatch_alpha\":{\"type\":\"field\",\"field\":\"alpha\"},\"marker\":{\"type\":\"value\",\"value\":\"cross\"}}},\"muted_glyph\":{\"type\":\"object\",\"name\":\"Scatter\",\"id\":\"ba757af8-d9b4-43c2-bf9d-49c1e060852e\",\"attributes\":{\"tags\":[\"apply_ranges\"],\"x\":{\"type\":\"field\",\"field\":\"ext_offset\"},\"y\":{\"type\":\"field\",\"field\":\"repeat\"},\"size\":{\"type\":\"value\",\"value\":10},\"angle\":{\"type\":\"value\",\"value\":0.7853981633974483},\"line_color\":{\"type\":\"value\",\"value\":\"#ff0000\"},\"line_alpha\":{\"type\":\"value\",\"value\":0.2},\"fill_color\":{\"type\":\"value\",\"value\":\"#ff0000\"},\"fill_alpha\":{\"type\":\"value\",\"value\":0.2},\"hatch_color\":{\"type\":\"value\",\"value\":\"#ff0000\"},\"hatch_alpha\":{\"type\":\"value\",\"value\":0.2},\"marker\":{\"type\":\"value\",\"value\":\"cross\"}}}}},{\"type\":\"object\",\"name\":\"GlyphRenderer\",\"id\":\"43aa042f-1b4a-4bac-976d-47e79cdb45c2\",\"attributes\":{\"name\":\"Bigsuccess\",\"data_source\":{\"type\":\"object\",\"name\":\"ColumnDataSource\",\"id\":\"25a691cb-f1a2-4311-8fba-0a094e61b828\",\"attributes\":{\"selected\":{\"type\":\"object\",\"name\":\"Selection\",\"id\":\"9fa1d61c-edaf-4d61-9fff-cf8a67e8f6c4\",\"attributes\":{\"indices\":[],\"line_indices\":[]}},\"selection_policy\":{\"type\":\"object\",\"name\":\"UnionRenderers\",\"id\":\"a3837938-8caf-4d17-89e5-c34e51659d67\"},\"data\":{\"type\":\"map\",\"entries\":[[\"ext_offset\",{\"type\":\"ndarray\",\"array\":{\"type\":\"bytes\",\"data\":\"\"},\"shape\":[0],\"dtype\":\"float64\",\"order\":\"little\"}],[\"repeat\",{\"type\":\"ndarray\",\"array\":{\"type\":\"bytes\",\"data\":\"\"},\"shape\":[0],\"dtype\":\"float64\",\"order\":\"little\"}],[\"bigsuccess_rate\",{\"type\":\"ndarray\",\"array\":{\"type\":\"bytes\",\"data\":\"\"},\"shape\":[0],\"dtype\":\"float64\",\"order\":\"little\"}],[\"alpha\",{\"type\":\"ndarray\",\"array\":{\"type\":\"bytes\",\"data\":\"\"},\"shape\":[0],\"dtype\":\"float64\",\"order\":\"little\"}]]}}},\"view\":{\"type\":\"object\",\"name\":\"CDSView\",\"id\":\"9e0ba416-3a92-4fac-b796-8a6ddf476903\",\"attributes\":{\"filter\":{\"type\":\"object\",\"name\":\"AllIndices\",\"id\":\"1e3c6d29-57d7-497a-a097-8cea043b999d\"}}},\"glyph\":{\"type\":\"object\",\"name\":\"Scatter\",\"id\":\"f524cb90-dac3-4fc4-a056-859fb4bdd27c\",\"attributes\":{\"tags\":[\"apply_ranges\"],\"x\":{\"type\":\"field\",\"field\":\"ext_offset\"},\"y\":{\"type\":\"field\",\"field\":\"repeat\"},\"size\":{\"type\":\"value\",\"value\":10},\"line_color\":{\"type\":\"value\",\"value\":\"#0000ff\"},\"line_alpha\":{\"type\":\"field\",\"field\":\"alpha\"},\"fill_color\":{\"type\":\"value\",\"value\":\"#0000ff\"},\"fill_alpha\":{\"type\":\"field\",\"field\":\"alpha\"},\"hatch_color\":{\"type\":\"value\",\"value\":\"#0000ff\"},\"hatch_alpha\":{\"type\":\"field\",\"field\":\"alpha\"},\"marker\":{\"type\":\"value\",\"value\":\"cross\"}}},\"selection_glyph\":{\"type\":\"object\",\"name\":\"Scatter\",\"id\":\"99a302ed-09ec-4885-89a8-6bc742c297d7\",\"attributes\":{\"tags\":[\"apply_ranges\"],\"x\":{\"type\":\"field\",\"field\":\"ext_offset\"},\"y\":{\"type\":\"field\",\"field\":\"repeat\"},\"size\":{\"type\":\"value\",\"value\":10},\"line_color\":{\"type\":\"value\",\"value\":\"#0000ff\"},\"line_alpha\":{\"type\":\"field\",\"field\":\"alpha\"},\"fill_color\":{\"type\":\"value\",\"value\":\"#0000ff\"},\"fill_alpha\":{\"type\":\"field\",\"field\":\"alpha\"},\"hatch_color\":{\"type\":\"value\",\"value\":\"#0000ff\"},\"hatch_alpha\":{\"type\":\"field\",\"field\":\"alpha\"},\"marker\":{\"type\":\"value\",\"value\":\"cross\"}}},\"nonselection_glyph\":{\"type\":\"object\",\"name\":\"Scatter\",\"id\":\"47e744b3-a6b7-4bc2-800e-3e6ddfb23fe0\",\"attributes\":{\"tags\":[\"apply_ranges\"],\"x\":{\"type\":\"field\",\"field\":\"ext_offset\"},\"y\":{\"type\":\"field\",\"field\":\"repeat\"},\"size\":{\"type\":\"value\",\"value\":10},\"line_color\":{\"type\":\"value\",\"value\":\"#0000ff\"},\"line_alpha\":{\"type\":\"field\",\"field\":\"alpha\"},\"fill_color\":{\"type\":\"value\",\"value\":\"#0000ff\"},\"fill_alpha\":{\"type\":\"field\",\"field\":\"alpha\"},\"hatch_color\":{\"type\":\"value\",\"value\":\"#0000ff\"},\"hatch_alpha\":{\"type\":\"value\",\"value\":0.1},\"marker\":{\"type\":\"value\",\"value\":\"cross\"}}},\"hover_glyph\":{\"type\":\"object\",\"name\":\"Scatter\",\"id\":\"c623e929-6c89-4c6c-9505-afe60f04938f\",\"attributes\":{\"tags\":[\"apply_ranges\"],\"x\":{\"type\":\"field\",\"field\":\"ext_offset\"},\"y\":{\"type\":\"field\",\"field\":\"repeat\"},\"size\":{\"type\":\"value\",\"value\":10},\"line_color\":{\"type\":\"value\",\"value\":\"#0000ff\"},\"line_alpha\":{\"type\":\"field\",\"field\":\"alpha\"},\"fill_color\":{\"type\":\"value\",\"value\":\"#0000ff\"},\"fill_alpha\":{\"type\":\"field\",\"field\":\"alpha\"},\"hatch_color\":{\"type\":\"value\",\"value\":\"#0000ff\"},\"hatch_alpha\":{\"type\":\"field\",\"field\":\"alpha\"},\"marker\":{\"type\":\"value\",\"value\":\"cross\"}}},\"muted_glyph\":{\"type\":\"object\",\"name\":\"Scatter\",\"id\":\"2ca8e374-0d21-4bbf-a7da-396969b0e968\",\"attributes\":{\"tags\":[\"apply_ranges\"],\"x\":{\"type\":\"field\",\"field\":\"ext_offset\"},\"y\":{\"type\":\"field\",\"field\":\"repeat\"},\"size\":{\"type\":\"value\",\"value\":10},\"line_color\":{\"type\":\"value\",\"value\":\"#0000ff\"},\"line_alpha\":{\"type\":\"value\",\"value\":0.2},\"fill_color\":{\"type\":\"value\",\"value\":\"#0000ff\"},\"fill_alpha\":{\"type\":\"value\",\"value\":0.2},\"hatch_color\":{\"type\":\"value\",\"value\":\"#0000ff\"},\"hatch_alpha\":{\"type\":\"value\",\"value\":0.2},\"marker\":{\"type\":\"value\",\"value\":\"cross\"}}}}}],\"toolbar\":{\"type\":\"object\",\"name\":\"Toolbar\",\"id\":\"de3f8434-5c9d-4205-85b4-93cf64067286\",\"attributes\":{\"tools\":[{\"type\":\"object\",\"name\":\"WheelZoomTool\",\"id\":\"d6bbb197-87ad-47d9-b726-557d2481ea8c\",\"attributes\":{\"tags\":[\"hv_created\"],\"renderers\":\"auto\",\"zoom_together\":\"none\"}},{\"type\":\"object\",\"name\":\"HoverTool\",\"id\":\"4b79e5c6-c0e2-4b15-91fb-4c25cee22b5a\",\"attributes\":{\"tags\":[\"hv_created\"],\"renderers\":[{\"id\":\"676a5bd9-03a3-47af-a0a3-e5f3e7793327\"}],\"tooltips\":[[\"ext_offset\",\"@{ext_offset}\"],[\"repeat\",\"@{repeat}\"],[\"success_rate\",\"@{success_rate}\"]]}},{\"type\":\"object\",\"name\":\"HoverTool\",\"id\":\"9744e55d-461b-4a51-bee9-f5b7017972ff\",\"attributes\":{\"tags\":[\"hv_created\"],\"renderers\":[{\"id\":\"2c8d8c55-fad4-4132-98ea-de4ec35024af\"}],\"tooltips\":[[\"ext_offset\",\"@{ext_offset}\"],[\"repeat\",\"@{repeat}\"],[\"reset_rate\",\"@{reset_rate}\"]]}},{\"type\":\"object\",\"name\":\"HoverTool\",\"id\":\"68d71ce7-01eb-4729-b3ad-fcdff80da972\",\"attributes\":{\"tags\":[\"hv_created\"],\"renderers\":[{\"id\":\"43aa042f-1b4a-4bac-976d-47e79cdb45c2\"}],\"tooltips\":[[\"ext_offset\",\"@{ext_offset}\"],[\"repeat\",\"@{repeat}\"],[\"bigsuccess_rate\",\"@{bigsuccess_rate}\"]]}},{\"type\":\"object\",\"name\":\"SaveTool\",\"id\":\"ad64533e-89cb-4687-9a37-8cb30449b2cd\"},{\"type\":\"object\",\"name\":\"PanTool\",\"id\":\"61f95cad-2ca1-4411-9a52-68ec4db0a744\"},{\"type\":\"object\",\"name\":\"BoxZoomTool\",\"id\":\"1a4861f6-18e7-4040-839c-512617fedb12\",\"attributes\":{\"overlay\":{\"type\":\"object\",\"name\":\"BoxAnnotation\",\"id\":\"f21257ab-87f6-49e9-b867-0a20d88a1597\",\"attributes\":{\"syncable\":false,\"level\":\"overlay\",\"visible\":false,\"left\":{\"type\":\"number\",\"value\":\"nan\"},\"right\":{\"type\":\"number\",\"value\":\"nan\"},\"top\":{\"type\":\"number\",\"value\":\"nan\"},\"bottom\":{\"type\":\"number\",\"value\":\"nan\"},\"left_units\":\"canvas\",\"right_units\":\"canvas\",\"top_units\":\"canvas\",\"bottom_units\":\"canvas\",\"line_color\":\"black\",\"line_alpha\":1.0,\"line_width\":2,\"line_dash\":[4,4],\"fill_color\":\"lightgrey\",\"fill_alpha\":0.5}}}},{\"type\":\"object\",\"name\":\"ResetTool\",\"id\":\"6d5a54d8-9e9e-4f59-a4e3-b7bb01397446\"}],\"active_drag\":{\"id\":\"61f95cad-2ca1-4411-9a52-68ec4db0a744\"},\"active_scroll\":{\"id\":\"d6bbb197-87ad-47d9-b726-557d2481ea8c\"}}},\"left\":[{\"type\":\"object\",\"name\":\"LinearAxis\",\"id\":\"28c8eed1-754e-4163-8314-b8e8bcef24e9\",\"attributes\":{\"ticker\":{\"type\":\"object\",\"name\":\"BasicTicker\",\"id\":\"7f4abcec-cae2-4f91-a677-075a07dd8285\",\"attributes\":{\"mantissas\":[1,2,5]}},\"formatter\":{\"type\":\"object\",\"name\":\"BasicTickFormatter\",\"id\":\"393592f7-f8b7-48e4-a516-0b65c9af66ed\"},\"axis_label\":\"y\",\"major_label_policy\":{\"type\":\"object\",\"name\":\"AllLabels\",\"id\":\"e2e5eb83-f36e-423d-9e46-edfcf5528d50\"}}}],\"below\":[{\"type\":\"object\",\"name\":\"LinearAxis\",\"id\":\"b7021816-d8f2-4826-8311-bf5a5f597c0c\",\"attributes\":{\"ticker\":{\"type\":\"object\",\"name\":\"BasicTicker\",\"id\":\"65733e74-4e94-4f3e-b322-fda07f8d0b34\",\"attributes\":{\"mantissas\":[1,2,5]}},\"formatter\":{\"type\":\"object\",\"name\":\"BasicTickFormatter\",\"id\":\"66509fbf-efa5-4ff3-bddc-e0614a3f21de\"},\"axis_label\":\"x\",\"major_label_policy\":{\"type\":\"object\",\"name\":\"AllLabels\",\"id\":\"df841513-51f9-4b00-a68b-f7ce05d4d00e\"}}}],\"center\":[{\"type\":\"object\",\"name\":\"Grid\",\"id\":\"908f3946-adbe-42c5-bf95-751b3a200451\",\"attributes\":{\"axis\":{\"id\":\"b7021816-d8f2-4826-8311-bf5a5f597c0c\"},\"grid_line_color\":null}},{\"type\":\"object\",\"name\":\"Grid\",\"id\":\"8c980489-12b4-4add-8d25-d672318f6908\",\"attributes\":{\"dimension\":1,\"axis\":{\"id\":\"28c8eed1-754e-4163-8314-b8e8bcef24e9\"},\"grid_line_color\":null}},{\"type\":\"object\",\"name\":\"Legend\",\"id\":\"c48db6ce-3dd0-4c9f-baf2-90eb83f64eeb\",\"attributes\":{\"click_policy\":\"mute\",\"items\":[{\"type\":\"object\",\"name\":\"LegendItem\",\"id\":\"31e97226-02b7-4a8f-9231-de73f88f9b51\",\"attributes\":{\"label\":{\"type\":\"value\",\"value\":\"Success\"},\"renderers\":[{\"id\":\"676a5bd9-03a3-47af-a0a3-e5f3e7793327\"}]}},{\"type\":\"object\",\"name\":\"LegendItem\",\"id\":\"53fc15f8-b5f1-48fb-bda0-380121525e92\",\"attributes\":{\"label\":{\"type\":\"value\",\"value\":\"Reset\"},\"renderers\":[{\"id\":\"2c8d8c55-fad4-4132-98ea-de4ec35024af\"}]}},{\"type\":\"object\",\"name\":\"LegendItem\",\"id\":\"58506d7a-ddff-43be-9d71-cd2cac7095dd\",\"attributes\":{\"label\":{\"type\":\"value\",\"value\":\"Bigsuccess\"},\"renderers\":[{\"id\":\"43aa042f-1b4a-4bac-976d-47e79cdb45c2\"}]}}]}}],\"min_border_top\":10,\"min_border_bottom\":10,\"min_border_left\":10,\"min_border_right\":10,\"output_backend\":\"webgl\"}},{\"type\":\"object\",\"name\":\"Spacer\",\"id\":\"3beec12b-9dec-4fa4-9ad0-98bebd002120\",\"attributes\":{\"name\":\"HSpacer01487\",\"stylesheets\":[\"\\n:host(.pn-loading):before, .pn-loading:before {\\n  background-color: #c3c3c3;\\n  mask-size: auto calc(min(50%, 400px));\\n  -webkit-mask-size: auto calc(min(50%, 400px));\\n}\",{\"id\":\"7b6c0718-5ed3-4009-933d-d1ee155b7f9b\"},{\"id\":\"ba10ab9e-07a0-43c0-921e-e79ecdc95761\"},{\"id\":\"db2793ce-aafb-4400-89ae-9ce0a68d282d\"}],\"margin\":0,\"sizing_mode\":\"stretch_width\",\"align\":\"start\"}}]}}],\"defs\":[{\"type\":\"model\",\"name\":\"ReactiveHTML1\"},{\"type\":\"model\",\"name\":\"FlexBox1\",\"properties\":[{\"name\":\"align_content\",\"kind\":\"Any\",\"default\":\"flex-start\"},{\"name\":\"align_items\",\"kind\":\"Any\",\"default\":\"flex-start\"},{\"name\":\"flex_direction\",\"kind\":\"Any\",\"default\":\"row\"},{\"name\":\"flex_wrap\",\"kind\":\"Any\",\"default\":\"wrap\"},{\"name\":\"gap\",\"kind\":\"Any\",\"default\":\"\"},{\"name\":\"justify_content\",\"kind\":\"Any\",\"default\":\"flex-start\"}]},{\"type\":\"model\",\"name\":\"FloatPanel1\",\"properties\":[{\"name\":\"config\",\"kind\":\"Any\",\"default\":{\"type\":\"map\"}},{\"name\":\"contained\",\"kind\":\"Any\",\"default\":true},{\"name\":\"position\",\"kind\":\"Any\",\"default\":\"right-top\"},{\"name\":\"offsetx\",\"kind\":\"Any\",\"default\":null},{\"name\":\"offsety\",\"kind\":\"Any\",\"default\":null},{\"name\":\"theme\",\"kind\":\"Any\",\"default\":\"primary\"},{\"name\":\"status\",\"kind\":\"Any\",\"default\":\"normalized\"}]},{\"type\":\"model\",\"name\":\"GridStack1\",\"properties\":[{\"name\":\"mode\",\"kind\":\"Any\",\"default\":\"warn\"},{\"name\":\"ncols\",\"kind\":\"Any\",\"default\":null},{\"name\":\"nrows\",\"kind\":\"Any\",\"default\":null},{\"name\":\"allow_resize\",\"kind\":\"Any\",\"default\":true},{\"name\":\"allow_drag\",\"kind\":\"Any\",\"default\":true},{\"name\":\"state\",\"kind\":\"Any\",\"default\":[]}]},{\"type\":\"model\",\"name\":\"drag1\",\"properties\":[{\"name\":\"slider_width\",\"kind\":\"Any\",\"default\":5},{\"name\":\"slider_color\",\"kind\":\"Any\",\"default\":\"black\"},{\"name\":\"value\",\"kind\":\"Any\",\"default\":50}]},{\"type\":\"model\",\"name\":\"click1\",\"properties\":[{\"name\":\"terminal_output\",\"kind\":\"Any\",\"default\":\"\"},{\"name\":\"debug_name\",\"kind\":\"Any\",\"default\":\"\"},{\"name\":\"clears\",\"kind\":\"Any\",\"default\":0}]},{\"type\":\"model\",\"name\":\"FastWrapper1\",\"properties\":[{\"name\":\"object\",\"kind\":\"Any\",\"default\":null},{\"name\":\"style\",\"kind\":\"Any\",\"default\":null}]},{\"type\":\"model\",\"name\":\"NotificationAreaBase1\",\"properties\":[{\"name\":\"js_events\",\"kind\":\"Any\",\"default\":{\"type\":\"map\"}},{\"name\":\"position\",\"kind\":\"Any\",\"default\":\"bottom-right\"},{\"name\":\"_clear\",\"kind\":\"Any\",\"default\":0}]},{\"type\":\"model\",\"name\":\"NotificationArea1\",\"properties\":[{\"name\":\"js_events\",\"kind\":\"Any\",\"default\":{\"type\":\"map\"}},{\"name\":\"notifications\",\"kind\":\"Any\",\"default\":[]},{\"name\":\"position\",\"kind\":\"Any\",\"default\":\"bottom-right\"},{\"name\":\"_clear\",\"kind\":\"Any\",\"default\":0},{\"name\":\"types\",\"kind\":\"Any\",\"default\":[{\"type\":\"map\",\"entries\":[[\"type\",\"warning\"],[\"background\",\"#ffc107\"],[\"icon\",{\"type\":\"map\",\"entries\":[[\"className\",\"fas fa-exclamation-triangle\"],[\"tagName\",\"i\"],[\"color\",\"white\"]]}]]},{\"type\":\"map\",\"entries\":[[\"type\",\"info\"],[\"background\",\"#007bff\"],[\"icon\",{\"type\":\"map\",\"entries\":[[\"className\",\"fas fa-info-circle\"],[\"tagName\",\"i\"],[\"color\",\"white\"]]}]]}]}]},{\"type\":\"model\",\"name\":\"Notification\",\"properties\":[{\"name\":\"background\",\"kind\":\"Any\",\"default\":null},{\"name\":\"duration\",\"kind\":\"Any\",\"default\":3000},{\"name\":\"icon\",\"kind\":\"Any\",\"default\":null},{\"name\":\"message\",\"kind\":\"Any\",\"default\":\"\"},{\"name\":\"notification_type\",\"kind\":\"Any\",\"default\":null},{\"name\":\"_destroyed\",\"kind\":\"Any\",\"default\":false}]},{\"type\":\"model\",\"name\":\"TemplateActions1\",\"properties\":[{\"name\":\"open_modal\",\"kind\":\"Any\",\"default\":0},{\"name\":\"close_modal\",\"kind\":\"Any\",\"default\":0}]},{\"type\":\"model\",\"name\":\"BootstrapTemplateActions1\",\"properties\":[{\"name\":\"open_modal\",\"kind\":\"Any\",\"default\":0},{\"name\":\"close_modal\",\"kind\":\"Any\",\"default\":0}]},{\"type\":\"model\",\"name\":\"TemplateEditor1\",\"properties\":[{\"name\":\"layout\",\"kind\":\"Any\",\"default\":[]}]},{\"type\":\"model\",\"name\":\"MaterialTemplateActions1\",\"properties\":[{\"name\":\"open_modal\",\"kind\":\"Any\",\"default\":0},{\"name\":\"close_modal\",\"kind\":\"Any\",\"default\":0}]},{\"type\":\"model\",\"name\":\"copy_to_clipboard1\",\"properties\":[{\"name\":\"fill\",\"kind\":\"Any\",\"default\":\"none\"},{\"name\":\"value\",\"kind\":\"Any\",\"default\":null}]}]}};\n",
       "  var render_items = [{\"docid\":\"ca5889f6-5b26-46f0-8c6a-7603222c4871\",\"roots\":{\"33bc3d02-e9b3-4712-865b-b12707c05ff6\":\"d6ed4e90-985f-4140-a692-d50dabbb2008\"},\"root_ids\":[\"33bc3d02-e9b3-4712-865b-b12707c05ff6\"]}];\n",
       "  var docs = Object.values(docs_json)\n",
       "  if (!docs) {\n",
       "    return\n",
       "  }\n",
       "  const py_version = docs[0].version.replace('rc', '-rc.').replace('.dev', '-dev.')\n",
       "  async function embed_document(root) {\n",
       "    var Bokeh = get_bokeh(root)\n",
       "    await Bokeh.embed.embed_items_notebook(docs_json, render_items);\n",
       "    for (const render_item of render_items) {\n",
       "      for (const root_id of render_item.root_ids) {\n",
       "\tconst id_el = document.getElementById(root_id)\n",
       "\tif (id_el.children.length && id_el.children[0].hasAttribute('data-root-id')) {\n",
       "\t  const root_el = id_el.children[0]\n",
       "\t  root_el.id = root_el.id + '-rendered'\n",
       "\t  for (const child of root_el.children) {\n",
       "            // Ensure JupyterLab does not capture keyboard shortcuts\n",
       "            // see: https://jupyterlab.readthedocs.io/en/4.1.x/extension/notebook.html#keyboard-interaction-model\n",
       "\t    child.setAttribute('data-lm-suppress-shortcuts', 'true')\n",
       "\t  }\n",
       "\t}\n",
       "      }\n",
       "    }\n",
       "  }\n",
       "  function get_bokeh(root) {\n",
       "    if (root.Bokeh === undefined) {\n",
       "      return null\n",
       "    } else if (root.Bokeh.version !== py_version) {\n",
       "      if (root.Bokeh.versions === undefined || !root.Bokeh.versions.has(py_version)) {\n",
       "\treturn null\n",
       "      }\n",
       "      return root.Bokeh.versions.get(py_version);\n",
       "    } else if (root.Bokeh.version === py_version) {\n",
       "      return root.Bokeh\n",
       "    }\n",
       "    return null\n",
       "  }\n",
       "  function is_loaded(root) {\n",
       "    var Bokeh = get_bokeh(root)\n",
       "    return (Bokeh != null && Bokeh.Panel !== undefined)\n",
       "  }\n",
       "  if (is_loaded(root)) {\n",
       "    embed_document(root);\n",
       "  } else {\n",
       "    var attempts = 0;\n",
       "    var timer = setInterval(function(root) {\n",
       "      if (is_loaded(root)) {\n",
       "        clearInterval(timer);\n",
       "        embed_document(root);\n",
       "      } else if (document.readyState == \"complete\") {\n",
       "        attempts++;\n",
       "        if (attempts > 200) {\n",
       "          clearInterval(timer);\n",
       "\t  var Bokeh = get_bokeh(root)\n",
       "\t  if (Bokeh == null || Bokeh.Panel == null) {\n",
       "            console.warn(\"Panel: ERROR: Unable to run Panel code because Bokeh or Panel library is missing\");\n",
       "\t  } else {\n",
       "\t    console.warn(\"Panel: WARNING: Attempting to render but not all required libraries could be resolved.\")\n",
       "\t    embed_document(root)\n",
       "\t  }\n",
       "        }\n",
       "      }\n",
       "    }, 25, root)\n",
       "  }\n",
       "})(window);</script>"
      ],
      "text/plain": [
       ":Overlay\n",
       "   .Points.I          :Points   [x,y]\n",
       "   .Points.Success    :Points   [ext_offset,repeat]   (success_rate)\n",
       "   .Points.Reset      :Points   [ext_offset,repeat]   (reset_rate)\n",
       "   .Points.Bigsuccess :Points   [ext_offset,repeat]   (bigsuccess_rate)"
      ]
     },
     "execution_count": 10,
     "metadata": {
      "application/vnd.holoviews_exec.v0+json": {
       "id": "33bc3d02-e9b3-4712-865b-b12707c05ff6"
      }
     },
     "output_type": "execute_result"
    }
   ],
   "source": [
    "gc.glitch_plot(plotdots={\"success\":\"+g\", \"reset\":\"xr\", \"normal\":None})\n",
    "# gc.plot_2d(plotdots={\"success\":\"+g\", \"reset\":\"xr\", \"normal\":None}, x_index=\"ext_offset\", y_index=\"repeat\")\n",
    "gc.plot_2d(plotdots={\"success\":\"+g\", \"bigsuccess\":\"+b\", \"reset\":\"xr\", \"normal\":None}, x_index=\"ext_offset\", y_index=\"repeat\")\n",
    "# results = gc.calc(sort=\"success_rate\")\n",
    "# results\n",
    "# gc.glitch_plot(plotdots={\"success\":\"+g\", \"reset\":\"xr\", \"normal\":None}, )\n",
    "# print(gc.results)"
   ]
  },
  {
   "cell_type": "code",
   "execution_count": 190,
   "id": "fafd889f",
   "metadata": {},
   "outputs": [
    {
     "ename": "KeyboardInterrupt",
     "evalue": "",
     "output_type": "error",
     "traceback": [
      "\u001b[1;31m---------------------------------------------------------------------------\u001b[0m",
      "\u001b[1;31mKeyboardInterrupt\u001b[0m                         Traceback (most recent call last)",
      "Cell \u001b[1;32mIn[190], line 8\u001b[0m\n\u001b[0;32m      5\u001b[0m \u001b[38;5;66;03m# scope.glitch.trigger_src = \"manual\"\u001b[39;00m\n\u001b[0;32m      7\u001b[0m \u001b[38;5;28;01mfor\u001b[39;00m _ \u001b[38;5;129;01min\u001b[39;00m \u001b[38;5;28mrange\u001b[39m(\u001b[38;5;241m1000\u001b[39m):\n\u001b[1;32m----> 8\u001b[0m     \u001b[43mscope\u001b[49m\u001b[38;5;241;43m.\u001b[39;49m\u001b[43marm\u001b[49m\u001b[43m(\u001b[49m\u001b[43m)\u001b[49m\n\u001b[0;32m      9\u001b[0m     \u001b[38;5;66;03m# reset_mcu()\u001b[39;00m\n\u001b[0;32m     10\u001b[0m \u001b[38;5;66;03m# gc.glitch_plot(plotdots={\"success\":\"+g\", \"reset\":\"xr\", \"normal\":None})\u001b[39;00m\n\u001b[0;32m     11\u001b[0m \u001b[38;5;66;03m# gc.plot_2d(plotdots={\"success\":\"+g\", \"reset\":\"xr\", \"normal\":None}, x_index=\"repeat\", y_index=\"tries\")\u001b[39;00m\n\u001b[1;32m   (...)\u001b[0m\n\u001b[0;32m     14\u001b[0m \u001b[38;5;66;03m# gc.glitch_plot(plotdots={\"success\":\"+g\", \"reset\":\"xr\", \"normal\":None}, )\u001b[39;00m\n\u001b[0;32m     15\u001b[0m \u001b[38;5;66;03m# print(gc.)\u001b[39;00m\n",
      "File \u001b[1;32mc:\\Users\\sveno\\PycharmProjects\\Siemens-Advanced-Operator-Panel\\venv\\lib\\site-packages\\chipwhisperer\\capture\\scopes\\OpenADC.py:764\u001b[0m, in \u001b[0;36mOpenADC.arm\u001b[1;34m(self)\u001b[0m\n\u001b[0;32m    761\u001b[0m \u001b[38;5;28;01mtry\u001b[39;00m:\n\u001b[0;32m    762\u001b[0m     \u001b[38;5;28mself\u001b[39m\u001b[38;5;241m.\u001b[39madvancedSettings\u001b[38;5;241m.\u001b[39marmPreScope()\n\u001b[1;32m--> 764\u001b[0m     \u001b[38;5;28;43mself\u001b[39;49m\u001b[38;5;241;43m.\u001b[39;49m\u001b[43msc\u001b[49m\u001b[38;5;241;43m.\u001b[39;49m\u001b[43marm\u001b[49m\u001b[43m(\u001b[49m\u001b[43m)\u001b[49m\n\u001b[0;32m    766\u001b[0m     \u001b[38;5;28mself\u001b[39m\u001b[38;5;241m.\u001b[39madvancedSettings\u001b[38;5;241m.\u001b[39marmPostScope()\n\u001b[0;32m    768\u001b[0m     \u001b[38;5;66;03m# For Husky, scope.adc parameters must be cached before startCaptureThread turns on fast read mode,\u001b[39;00m\n\u001b[0;32m    769\u001b[0m     \u001b[38;5;66;03m# because we won't be able to read them from the FPGA once fast read mode is turned on:\u001b[39;00m\n",
      "File \u001b[1;32mc:\\Users\\sveno\\PycharmProjects\\Siemens-Advanced-Operator-Panel\\venv\\lib\\site-packages\\chipwhisperer\\capture\\scopes\\_OpenADCInterface.py:569\u001b[0m, in \u001b[0;36mOpenADCInterface.arm\u001b[1;34m(self, enable)\u001b[0m\n\u001b[0;32m    565\u001b[0m \u001b[38;5;28;01mdef\u001b[39;00m \u001b[38;5;21marm\u001b[39m(\u001b[38;5;28mself\u001b[39m, enable\u001b[38;5;241m=\u001b[39m\u001b[38;5;28;01mTrue\u001b[39;00m):\n\u001b[0;32m    566\u001b[0m     \u001b[38;5;66;03m# keeps calling self.setting() - what if we cache it?\u001b[39;00m\n\u001b[0;32m    567\u001b[0m     \u001b[38;5;28;01mif\u001b[39;00m enable:\n\u001b[0;32m    568\u001b[0m         \u001b[38;5;66;03m#Must arm first\u001b[39;00m\n\u001b[1;32m--> 569\u001b[0m         \u001b[38;5;28;43mself\u001b[39;49m\u001b[38;5;241;43m.\u001b[39;49m\u001b[43msetSettings\u001b[49m\u001b[43m(\u001b[49m\u001b[38;5;28;43mself\u001b[39;49m\u001b[38;5;241;43m.\u001b[39;49m\u001b[43msettings\u001b[49m\u001b[43m(\u001b[49m\u001b[43m)\u001b[49m\u001b[43m \u001b[49m\u001b[38;5;241;43m|\u001b[39;49m\u001b[43m \u001b[49m\u001b[43mSETTINGS_ARM\u001b[49m\u001b[43m)\u001b[49m\n\u001b[0;32m    570\u001b[0m     \u001b[38;5;28;01melse\u001b[39;00m:\n\u001b[0;32m    571\u001b[0m         \u001b[38;5;28mself\u001b[39m\u001b[38;5;241m.\u001b[39msetSettings(\u001b[38;5;28mself\u001b[39m\u001b[38;5;241m.\u001b[39msettings() \u001b[38;5;241m&\u001b[39m \u001b[38;5;241m~\u001b[39mSETTINGS_ARM)\n",
      "File \u001b[1;32mc:\\Users\\sveno\\PycharmProjects\\Siemens-Advanced-Operator-Panel\\venv\\lib\\site-packages\\chipwhisperer\\capture\\scopes\\_OpenADCInterface.py:343\u001b[0m, in \u001b[0;36mOpenADCInterface.setSettings\u001b[1;34m(self, state, validate)\u001b[0m\n\u001b[0;32m    341\u001b[0m cmd[\u001b[38;5;241m0\u001b[39m] \u001b[38;5;241m=\u001b[39m state\n\u001b[0;32m    342\u001b[0m \u001b[38;5;28mself\u001b[39m\u001b[38;5;241m.\u001b[39mcached_settings \u001b[38;5;241m=\u001b[39m state\n\u001b[1;32m--> 343\u001b[0m \u001b[38;5;28;43mself\u001b[39;49m\u001b[38;5;241;43m.\u001b[39;49m\u001b[43msendMessage\u001b[49m\u001b[43m(\u001b[49m\u001b[43mCODE_WRITE\u001b[49m\u001b[43m,\u001b[49m\u001b[43m \u001b[49m\u001b[43mADDR_SETTINGS\u001b[49m\u001b[43m,\u001b[49m\u001b[43m \u001b[49m\u001b[43mcmd\u001b[49m\u001b[43m,\u001b[49m\u001b[43m \u001b[49m\u001b[43mValidate\u001b[49m\u001b[38;5;241;43m=\u001b[39;49m\u001b[43mvalidate\u001b[49m\u001b[43m)\u001b[49m\n",
      "File \u001b[1;32mc:\\Users\\sveno\\PycharmProjects\\Siemens-Advanced-Operator-Panel\\venv\\lib\\site-packages\\chipwhisperer\\capture\\scopes\\_OpenADCInterface.py:229\u001b[0m, in \u001b[0;36mOpenADCInterface.sendMessage\u001b[1;34m(self, mode, address, payload, Validate, maxResp, readMask)\u001b[0m\n\u001b[0;32m    225\u001b[0m     \u001b[38;5;28;01mreturn\u001b[39;00m \u001b[38;5;28mbytearray\u001b[39m(\u001b[38;5;28mself\u001b[39m\u001b[38;5;241m.\u001b[39mserial\u001b[38;5;241m.\u001b[39mcmdReadMem(address, datalen))\n\u001b[0;32m    227\u001b[0m \u001b[38;5;28;01melse\u001b[39;00m:\n\u001b[0;32m    228\u001b[0m     \u001b[38;5;66;03m# Write output to memory\u001b[39;00m\n\u001b[1;32m--> 229\u001b[0m     \u001b[38;5;28;43mself\u001b[39;49m\u001b[38;5;241;43m.\u001b[39;49m\u001b[43mserial\u001b[49m\u001b[38;5;241;43m.\u001b[39;49m\u001b[43mcmdWriteMem\u001b[49m\u001b[43m(\u001b[49m\u001b[43maddress\u001b[49m\u001b[43m,\u001b[49m\u001b[43m \u001b[49m\u001b[43mpba\u001b[49m\u001b[43m)\u001b[49m\n\u001b[0;32m    231\u001b[0m     \u001b[38;5;66;03m# Check write was successful if validation requested\u001b[39;00m\n\u001b[0;32m    232\u001b[0m     \u001b[38;5;28;01mif\u001b[39;00m Validate:\n",
      "File \u001b[1;32mc:\\Users\\sveno\\PycharmProjects\\Siemens-Advanced-Operator-Panel\\venv\\lib\\site-packages\\chipwhisperer\\hardware\\naeusb\\naeusb.py:765\u001b[0m, in \u001b[0;36mNAEUSB.cmdWriteMem\u001b[1;34m(self, addr, data)\u001b[0m\n\u001b[0;32m    759\u001b[0m \u001b[38;5;28;01mdef\u001b[39;00m \u001b[38;5;21mcmdWriteMem\u001b[39m(\u001b[38;5;28mself\u001b[39m, addr : \u001b[38;5;28mint\u001b[39m, data : \u001b[38;5;28mbytearray\u001b[39m):\n\u001b[0;32m    760\u001b[0m \u001b[38;5;250m    \u001b[39m\u001b[38;5;124;03m\"\"\"\u001b[39;00m\n\u001b[0;32m    761\u001b[0m \u001b[38;5;124;03m    Send command to write memory over external memory interface to FPGA. Automatically\u001b[39;00m\n\u001b[0;32m    762\u001b[0m \u001b[38;5;124;03m    decides to use control-transfer or bulk-endpoint transfer based on data length.\u001b[39;00m\n\u001b[0;32m    763\u001b[0m \u001b[38;5;124;03m    \"\"\"\u001b[39;00m\n\u001b[1;32m--> 765\u001b[0m     \u001b[38;5;28;01mreturn\u001b[39;00m \u001b[38;5;28;43mself\u001b[39;49m\u001b[38;5;241;43m.\u001b[39;49m\u001b[43musbserializer\u001b[49m\u001b[38;5;241;43m.\u001b[39;49m\u001b[43mcmdWriteMem\u001b[49m\u001b[43m(\u001b[49m\u001b[43maddr\u001b[49m\u001b[43m,\u001b[49m\u001b[43m \u001b[49m\u001b[43mdata\u001b[49m\u001b[43m)\u001b[49m\n",
      "File \u001b[1;32mc:\\Users\\sveno\\PycharmProjects\\Siemens-Advanced-Operator-Panel\\venv\\lib\\site-packages\\chipwhisperer\\hardware\\naeusb\\naeusb.py:546\u001b[0m, in \u001b[0;36mNAEUSB_Backend.cmdWriteMem\u001b[1;34m(self, addr, data)\u001b[0m\n\u001b[0;32m    543\u001b[0m \u001b[38;5;28;01mif\u001b[39;00m cmd \u001b[38;5;241m==\u001b[39m \u001b[38;5;28mself\u001b[39m\u001b[38;5;241m.\u001b[39mCMD_WRITEMEM_CTRL:\n\u001b[0;32m    544\u001b[0m     pload\u001b[38;5;241m.\u001b[39mextend(data)\n\u001b[1;32m--> 546\u001b[0m \u001b[38;5;28;43mself\u001b[39;49m\u001b[38;5;241;43m.\u001b[39;49m\u001b[43msendCtrl\u001b[49m\u001b[43m(\u001b[49m\u001b[43mcmd\u001b[49m\u001b[43m,\u001b[49m\u001b[43m \u001b[49m\u001b[43mdata\u001b[49m\u001b[38;5;241;43m=\u001b[39;49m\u001b[43mpload\u001b[49m\u001b[43m)\u001b[49m\n\u001b[0;32m    549\u001b[0m \u001b[38;5;66;03m# Get data\u001b[39;00m\n\u001b[0;32m    550\u001b[0m \u001b[38;5;28;01mif\u001b[39;00m cmd \u001b[38;5;241m==\u001b[39m \u001b[38;5;28mself\u001b[39m\u001b[38;5;241m.\u001b[39mCMD_WRITEMEM_BULK:\n",
      "File \u001b[1;32mc:\\Users\\sveno\\PycharmProjects\\Siemens-Advanced-Operator-Panel\\venv\\lib\\site-packages\\chipwhisperer\\hardware\\naeusb\\naeusb.py:479\u001b[0m, in \u001b[0;36mNAEUSB_Backend.sendCtrl\u001b[1;34m(self, cmd, value, data)\u001b[0m\n\u001b[0;32m    475\u001b[0m \u001b[38;5;66;03m# Vendor-specific, OUT, interface control transfer\u001b[39;00m\n\u001b[0;32m    476\u001b[0m naeusb_logger\u001b[38;5;241m.\u001b[39mdebug(\u001b[38;5;124m\"\u001b[39m\u001b[38;5;124mWRITE_CTRL: bmRequestType: \u001b[39m\u001b[38;5;132;01m{:02X}\u001b[39;00m\u001b[38;5;124m, \u001b[39m\u001b[38;5;130;01m\\\u001b[39;00m\n\u001b[0;32m    477\u001b[0m \u001b[38;5;124m            bRequest: \u001b[39m\u001b[38;5;132;01m{:02X}\u001b[39;00m\u001b[38;5;124m, wValue: \u001b[39m\u001b[38;5;132;01m{:04X}\u001b[39;00m\u001b[38;5;124m, wIndex: \u001b[39m\u001b[38;5;132;01m{:04X}\u001b[39;00m\u001b[38;5;124m, data: \u001b[39m\u001b[38;5;132;01m{}\u001b[39;00m\u001b[38;5;124m\"\u001b[39m\u001b[38;5;241m.\u001b[39mformat(\u001b[38;5;241m0x41\u001b[39m, cmd, \\\n\u001b[0;32m    478\u001b[0m                 value, \u001b[38;5;241m0\u001b[39m, data))\n\u001b[1;32m--> 479\u001b[0m \u001b[38;5;28;43mself\u001b[39;49m\u001b[38;5;241;43m.\u001b[39;49m\u001b[43mhandle\u001b[49m\u001b[38;5;241;43m.\u001b[39;49m\u001b[43mcontrolWrite\u001b[49m\u001b[43m(\u001b[49m\u001b[38;5;241;43m0x41\u001b[39;49m\u001b[43m,\u001b[49m\u001b[43m \u001b[49m\u001b[43mcmd\u001b[49m\u001b[43m,\u001b[49m\u001b[43m \u001b[49m\u001b[43mvalue\u001b[49m\u001b[43m,\u001b[49m\u001b[43m \u001b[49m\u001b[38;5;241;43m0\u001b[39;49m\u001b[43m,\u001b[49m\u001b[43m \u001b[49m\u001b[43mdata\u001b[49m\u001b[43m,\u001b[49m\u001b[43m \u001b[49m\u001b[43mtimeout\u001b[49m\u001b[38;5;241;43m=\u001b[39;49m\u001b[38;5;28;43mself\u001b[39;49m\u001b[38;5;241;43m.\u001b[39;49m\u001b[43m_timeout\u001b[49m\u001b[43m)\u001b[49m\n",
      "File \u001b[1;32mc:\\Users\\sveno\\PycharmProjects\\Siemens-Advanced-Operator-Panel\\venv\\lib\\site-packages\\usb1\\__init__.py:1330\u001b[0m, in \u001b[0;36mUSBDeviceHandle.controlWrite\u001b[1;34m(self, request_type, request, value, index, data, timeout)\u001b[0m\n\u001b[0;32m   1328\u001b[0m \u001b[38;5;66;03m# pylint: enable=undefined-variable\u001b[39;00m\n\u001b[0;32m   1329\u001b[0m data, _ \u001b[38;5;241m=\u001b[39m create_initialised_buffer(data)\n\u001b[1;32m-> 1330\u001b[0m \u001b[38;5;28;01mreturn\u001b[39;00m \u001b[38;5;28;43mself\u001b[39;49m\u001b[38;5;241;43m.\u001b[39;49m\u001b[43m_controlTransfer\u001b[49m\u001b[43m(\u001b[49m\u001b[43mrequest_type\u001b[49m\u001b[43m,\u001b[49m\u001b[43m \u001b[49m\u001b[43mrequest\u001b[49m\u001b[43m,\u001b[49m\u001b[43m \u001b[49m\u001b[43mvalue\u001b[49m\u001b[43m,\u001b[49m\u001b[43m \u001b[49m\u001b[43mindex\u001b[49m\u001b[43m,\u001b[49m\u001b[43m \u001b[49m\u001b[43mdata\u001b[49m\u001b[43m,\u001b[49m\n\u001b[0;32m   1331\u001b[0m \u001b[43m                             \u001b[49m\u001b[43msizeof\u001b[49m\u001b[43m(\u001b[49m\u001b[43mdata\u001b[49m\u001b[43m)\u001b[49m\u001b[43m,\u001b[49m\u001b[43m \u001b[49m\u001b[43mtimeout\u001b[49m\u001b[43m)\u001b[49m\n",
      "File \u001b[1;32mc:\\Users\\sveno\\PycharmProjects\\Siemens-Advanced-Operator-Panel\\venv\\lib\\site-packages\\usb1\\__init__.py:1303\u001b[0m, in \u001b[0;36mUSBDeviceHandle._controlTransfer\u001b[1;34m(self, request_type, request, value, index, data, length, timeout)\u001b[0m\n\u001b[0;32m   1301\u001b[0m \u001b[38;5;28;01mdef\u001b[39;00m \u001b[38;5;21m_controlTransfer\u001b[39m(\n\u001b[0;32m   1302\u001b[0m         \u001b[38;5;28mself\u001b[39m, request_type, request, value, index, data, length, timeout):\n\u001b[1;32m-> 1303\u001b[0m     result \u001b[38;5;241m=\u001b[39m \u001b[43mlibusb1\u001b[49m\u001b[38;5;241;43m.\u001b[39;49m\u001b[43mlibusb_control_transfer\u001b[49m\u001b[43m(\u001b[49m\n\u001b[0;32m   1304\u001b[0m \u001b[43m        \u001b[49m\u001b[38;5;28;43mself\u001b[39;49m\u001b[38;5;241;43m.\u001b[39;49m\u001b[43m__handle\u001b[49m\u001b[43m,\u001b[49m\u001b[43m \u001b[49m\u001b[43mrequest_type\u001b[49m\u001b[43m,\u001b[49m\u001b[43m \u001b[49m\u001b[43mrequest\u001b[49m\u001b[43m,\u001b[49m\u001b[43m \u001b[49m\u001b[43mvalue\u001b[49m\u001b[43m,\u001b[49m\u001b[43m \u001b[49m\u001b[43mindex\u001b[49m\u001b[43m,\u001b[49m\u001b[43m \u001b[49m\u001b[43mdata\u001b[49m\u001b[43m,\u001b[49m\u001b[43m \u001b[49m\u001b[43mlength\u001b[49m\u001b[43m,\u001b[49m\n\u001b[0;32m   1305\u001b[0m \u001b[43m        \u001b[49m\u001b[43mtimeout\u001b[49m\u001b[43m,\u001b[49m\n\u001b[0;32m   1306\u001b[0m \u001b[43m    \u001b[49m\u001b[43m)\u001b[49m\n\u001b[0;32m   1307\u001b[0m     mayRaiseUSBError(result)\n\u001b[0;32m   1308\u001b[0m     \u001b[38;5;28;01mreturn\u001b[39;00m result\n",
      "\u001b[1;31mKeyboardInterrupt\u001b[0m: "
     ]
    }
   ],
   "source": [
    "scope.glitch.repeat = 100\n",
    "scope.glitch.width = 25\n",
    "scope.clock.clkgen_freq = 96E6\n",
    "scope.glitch.output = \"enable_only\"\n",
    "# scope.glitch.trigger_src = \"manual\"\n",
    "\n",
    "for _ in range(1000):\n",
    "    scope.arm()\n",
    "    # reset_mcu()\n",
    "# gc.glitch_plot(plotdots={\"success\":\"+g\", \"reset\":\"xr\", \"normal\":None})\n",
    "# gc.plot_2d(plotdots={\"success\":\"+g\", \"reset\":\"xr\", \"normal\":None}, x_index=\"repeat\", y_index=\"tries\")\n",
    "# results = gc.calc(ignore_params=[\"ext_offset\"], sort=\"success_rate\")\n",
    "# results\n",
    "# gc.glitch_plot(plotdots={\"success\":\"+g\", \"reset\":\"xr\", \"normal\":None}, )\n",
    "# print(gc.)"
   ]
  },
  {
   "cell_type": "code",
   "execution_count": null,
   "id": "d7acbc5196ffb88d",
   "metadata": {
    "collapsed": false
   },
   "outputs": [],
   "source": [
    "scope.dis()\n",
    "target.dis()"
   ]
  }
 ],
 "metadata": {
  "kernelspec": {
   "display_name": "venv",
   "language": "python",
   "name": "python3"
  },
  "language_info": {
   "codemirror_mode": {
    "name": "ipython",
    "version": 3
   },
   "file_extension": ".py",
   "mimetype": "text/x-python",
   "name": "python",
   "nbconvert_exporter": "python",
   "pygments_lexer": "ipython3",
   "version": "3.9.10"
  }
 },
 "nbformat": 4,
 "nbformat_minor": 5
}
